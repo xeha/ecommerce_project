{
 "cells": [
  {
   "cell_type": "markdown",
   "metadata": {},
   "source": [
    "# Проект e-commerce: вариант 1 "
   ]
  },
  {
   "cell_type": "code",
   "execution_count": 40,
   "metadata": {},
   "outputs": [],
   "source": [
    "import pandas as pd \n",
    "import requests \n",
    "import numpy as np\n",
    "import matplotlib.pyplot as plt\n",
    "%matplotlib inline \n",
    "\n",
    "import seaborn as sns\n",
    "from urllib.parse import urlencode \n",
    "from datetime import timedelta\n",
    "import datetime as dt"
   ]
  },
  {
   "cell_type": "markdown",
   "metadata": {},
   "source": [
    "###### Загружаем данные"
   ]
  },
  {
   "cell_type": "markdown",
   "metadata": {},
   "source": [
    "Таблица заказов"
   ]
  },
  {
   "cell_type": "code",
   "execution_count": 41,
   "metadata": {},
   "outputs": [
    {
     "data": {
      "text/html": [
       "<div>\n",
       "<style scoped>\n",
       "    .dataframe tbody tr th:only-of-type {\n",
       "        vertical-align: middle;\n",
       "    }\n",
       "\n",
       "    .dataframe tbody tr th {\n",
       "        vertical-align: top;\n",
       "    }\n",
       "\n",
       "    .dataframe thead th {\n",
       "        text-align: right;\n",
       "    }\n",
       "</style>\n",
       "<table border=\"1\" class=\"dataframe\">\n",
       "  <thead>\n",
       "    <tr style=\"text-align: right;\">\n",
       "      <th></th>\n",
       "      <th>order_id</th>\n",
       "      <th>customer_id</th>\n",
       "      <th>order_status</th>\n",
       "      <th>order_purchase_timestamp</th>\n",
       "      <th>order_approved_at</th>\n",
       "      <th>order_delivered_carrier_date</th>\n",
       "      <th>order_delivered_customer_date</th>\n",
       "      <th>order_estimated_delivery_date</th>\n",
       "    </tr>\n",
       "  </thead>\n",
       "  <tbody>\n",
       "    <tr>\n",
       "      <th>0</th>\n",
       "      <td>e481f51cbdc54678b7cc49136f2d6af7</td>\n",
       "      <td>9ef432eb6251297304e76186b10a928d</td>\n",
       "      <td>delivered</td>\n",
       "      <td>2017-10-02 10:56:33</td>\n",
       "      <td>2017-10-02 11:07:15</td>\n",
       "      <td>2017-10-04 19:55:00</td>\n",
       "      <td>2017-10-10 21:25:13</td>\n",
       "      <td>2017-10-18</td>\n",
       "    </tr>\n",
       "    <tr>\n",
       "      <th>1</th>\n",
       "      <td>53cdb2fc8bc7dce0b6741e2150273451</td>\n",
       "      <td>b0830fb4747a6c6d20dea0b8c802d7ef</td>\n",
       "      <td>delivered</td>\n",
       "      <td>2018-07-24 20:41:37</td>\n",
       "      <td>2018-07-26 03:24:27</td>\n",
       "      <td>2018-07-26 14:31:00</td>\n",
       "      <td>2018-08-07 15:27:45</td>\n",
       "      <td>2018-08-13</td>\n",
       "    </tr>\n",
       "    <tr>\n",
       "      <th>2</th>\n",
       "      <td>47770eb9100c2d0c44946d9cf07ec65d</td>\n",
       "      <td>41ce2a54c0b03bf3443c3d931a367089</td>\n",
       "      <td>delivered</td>\n",
       "      <td>2018-08-08 08:38:49</td>\n",
       "      <td>2018-08-08 08:55:23</td>\n",
       "      <td>2018-08-08 13:50:00</td>\n",
       "      <td>2018-08-17 18:06:29</td>\n",
       "      <td>2018-09-04</td>\n",
       "    </tr>\n",
       "    <tr>\n",
       "      <th>3</th>\n",
       "      <td>949d5b44dbf5de918fe9c16f97b45f8a</td>\n",
       "      <td>f88197465ea7920adcdbec7375364d82</td>\n",
       "      <td>delivered</td>\n",
       "      <td>2017-11-18 19:28:06</td>\n",
       "      <td>2017-11-18 19:45:59</td>\n",
       "      <td>2017-11-22 13:39:59</td>\n",
       "      <td>2017-12-02 00:28:42</td>\n",
       "      <td>2017-12-15</td>\n",
       "    </tr>\n",
       "    <tr>\n",
       "      <th>4</th>\n",
       "      <td>ad21c59c0840e6cb83a9ceb5573f8159</td>\n",
       "      <td>8ab97904e6daea8866dbdbc4fb7aad2c</td>\n",
       "      <td>delivered</td>\n",
       "      <td>2018-02-13 21:18:39</td>\n",
       "      <td>2018-02-13 22:20:29</td>\n",
       "      <td>2018-02-14 19:46:34</td>\n",
       "      <td>2018-02-16 18:17:02</td>\n",
       "      <td>2018-02-26</td>\n",
       "    </tr>\n",
       "  </tbody>\n",
       "</table>\n",
       "</div>"
      ],
      "text/plain": [
       "                           order_id                       customer_id  \\\n",
       "0  e481f51cbdc54678b7cc49136f2d6af7  9ef432eb6251297304e76186b10a928d   \n",
       "1  53cdb2fc8bc7dce0b6741e2150273451  b0830fb4747a6c6d20dea0b8c802d7ef   \n",
       "2  47770eb9100c2d0c44946d9cf07ec65d  41ce2a54c0b03bf3443c3d931a367089   \n",
       "3  949d5b44dbf5de918fe9c16f97b45f8a  f88197465ea7920adcdbec7375364d82   \n",
       "4  ad21c59c0840e6cb83a9ceb5573f8159  8ab97904e6daea8866dbdbc4fb7aad2c   \n",
       "\n",
       "  order_status order_purchase_timestamp   order_approved_at  \\\n",
       "0    delivered      2017-10-02 10:56:33 2017-10-02 11:07:15   \n",
       "1    delivered      2018-07-24 20:41:37 2018-07-26 03:24:27   \n",
       "2    delivered      2018-08-08 08:38:49 2018-08-08 08:55:23   \n",
       "3    delivered      2017-11-18 19:28:06 2017-11-18 19:45:59   \n",
       "4    delivered      2018-02-13 21:18:39 2018-02-13 22:20:29   \n",
       "\n",
       "  order_delivered_carrier_date order_delivered_customer_date  \\\n",
       "0          2017-10-04 19:55:00           2017-10-10 21:25:13   \n",
       "1          2018-07-26 14:31:00           2018-08-07 15:27:45   \n",
       "2          2018-08-08 13:50:00           2018-08-17 18:06:29   \n",
       "3          2017-11-22 13:39:59           2017-12-02 00:28:42   \n",
       "4          2018-02-14 19:46:34           2018-02-16 18:17:02   \n",
       "\n",
       "  order_estimated_delivery_date  \n",
       "0                    2017-10-18  \n",
       "1                    2018-08-13  \n",
       "2                    2018-09-04  \n",
       "3                    2017-12-15  \n",
       "4                    2018-02-26  "
      ]
     },
     "execution_count": 41,
     "metadata": {},
     "output_type": "execute_result"
    }
   ],
   "source": [
    "# Получаем таблицу с заказами\n",
    "\n",
    "# используем api \n",
    "base_url = 'https://cloud-api.yandex.net/v1/disk/public/resources/download?' \n",
    "public_key = 'https://disk.yandex.ru/d/t9Li4JOfgxuUrg' \n",
    " \n",
    "# получаем url \n",
    "final_url = base_url + urlencode(dict(public_key=public_key)) \n",
    "response = requests.get(final_url) \n",
    "download_url_orders = response.json()['href'] \n",
    " \n",
    "# загружаем файл в df \n",
    "download_response = requests.get(download_url_orders) \n",
    "orders_df = pd.read_csv(download_url_orders, sep=',',parse_dates=['order_purchase_timestamp','order_approved_at','order_delivered_carrier_date','order_delivered_customer_date','order_estimated_delivery_date']) \n",
    "orders_df.head(5)\n",
    "\n",
    "# Статусы:\n",
    "\n",
    "# created —  создан\n",
    "# invoiced —  выставлен счёт\n",
    "\n",
    "# approved —  подтверждён\n",
    "# processing —  в процессе сборки заказа\n",
    "# shipped —  отгружен со склада\n",
    "# delivered —  доставлен пользователю\n",
    "\n",
    "# unavailable —  недоступен\n",
    "# canceled —  отменён\n",
    "\n",
    "# order_purchase_timestamp —  время создания заказа\n",
    "# order_approved_at —  время подтверждения оплаты заказа\n",
    "# order_delivered_carrier_date —  время передачи заказа в логистическую службу\n",
    "# order_delivered_customer_date —  время доставки заказа\n",
    "# order_estimated_delivery_date —  обещанная дата доставки\n",
    "orders_df.head()"
   ]
  },
  {
   "cell_type": "markdown",
   "metadata": {},
   "source": [
    "Таблица товаров"
   ]
  },
  {
   "cell_type": "code",
   "execution_count": 42,
   "metadata": {},
   "outputs": [
    {
     "data": {
      "text/html": [
       "<div>\n",
       "<style scoped>\n",
       "    .dataframe tbody tr th:only-of-type {\n",
       "        vertical-align: middle;\n",
       "    }\n",
       "\n",
       "    .dataframe tbody tr th {\n",
       "        vertical-align: top;\n",
       "    }\n",
       "\n",
       "    .dataframe thead th {\n",
       "        text-align: right;\n",
       "    }\n",
       "</style>\n",
       "<table border=\"1\" class=\"dataframe\">\n",
       "  <thead>\n",
       "    <tr style=\"text-align: right;\">\n",
       "      <th></th>\n",
       "      <th>order_id</th>\n",
       "      <th>order_item_id</th>\n",
       "      <th>product_id</th>\n",
       "      <th>seller_id</th>\n",
       "      <th>shipping_limit_date</th>\n",
       "      <th>price</th>\n",
       "      <th>freight_value</th>\n",
       "    </tr>\n",
       "  </thead>\n",
       "  <tbody>\n",
       "    <tr>\n",
       "      <th>0</th>\n",
       "      <td>00010242fe8c5a6d1ba2dd792cb16214</td>\n",
       "      <td>1</td>\n",
       "      <td>4244733e06e7ecb4970a6e2683c13e61</td>\n",
       "      <td>48436dade18ac8b2bce089ec2a041202</td>\n",
       "      <td>2017-09-19 09:45:35</td>\n",
       "      <td>58.90</td>\n",
       "      <td>13.29</td>\n",
       "    </tr>\n",
       "    <tr>\n",
       "      <th>1</th>\n",
       "      <td>00018f77f2f0320c557190d7a144bdd3</td>\n",
       "      <td>1</td>\n",
       "      <td>e5f2d52b802189ee658865ca93d83a8f</td>\n",
       "      <td>dd7ddc04e1b6c2c614352b383efe2d36</td>\n",
       "      <td>2017-05-03 11:05:13</td>\n",
       "      <td>239.90</td>\n",
       "      <td>19.93</td>\n",
       "    </tr>\n",
       "    <tr>\n",
       "      <th>2</th>\n",
       "      <td>000229ec398224ef6ca0657da4fc703e</td>\n",
       "      <td>1</td>\n",
       "      <td>c777355d18b72b67abbeef9df44fd0fd</td>\n",
       "      <td>5b51032eddd242adc84c38acab88f23d</td>\n",
       "      <td>2018-01-18 14:48:30</td>\n",
       "      <td>199.00</td>\n",
       "      <td>17.87</td>\n",
       "    </tr>\n",
       "    <tr>\n",
       "      <th>3</th>\n",
       "      <td>00024acbcdf0a6daa1e931b038114c75</td>\n",
       "      <td>1</td>\n",
       "      <td>7634da152a4610f1595efa32f14722fc</td>\n",
       "      <td>9d7a1d34a5052409006425275ba1c2b4</td>\n",
       "      <td>2018-08-15 10:10:18</td>\n",
       "      <td>12.99</td>\n",
       "      <td>12.79</td>\n",
       "    </tr>\n",
       "    <tr>\n",
       "      <th>4</th>\n",
       "      <td>00042b26cf59d7ce69dfabb4e55b4fd9</td>\n",
       "      <td>1</td>\n",
       "      <td>ac6c3623068f30de03045865e4e10089</td>\n",
       "      <td>df560393f3a51e74553ab94004ba5c87</td>\n",
       "      <td>2017-02-13 13:57:51</td>\n",
       "      <td>199.90</td>\n",
       "      <td>18.14</td>\n",
       "    </tr>\n",
       "  </tbody>\n",
       "</table>\n",
       "</div>"
      ],
      "text/plain": [
       "                           order_id  order_item_id  \\\n",
       "0  00010242fe8c5a6d1ba2dd792cb16214              1   \n",
       "1  00018f77f2f0320c557190d7a144bdd3              1   \n",
       "2  000229ec398224ef6ca0657da4fc703e              1   \n",
       "3  00024acbcdf0a6daa1e931b038114c75              1   \n",
       "4  00042b26cf59d7ce69dfabb4e55b4fd9              1   \n",
       "\n",
       "                         product_id                         seller_id  \\\n",
       "0  4244733e06e7ecb4970a6e2683c13e61  48436dade18ac8b2bce089ec2a041202   \n",
       "1  e5f2d52b802189ee658865ca93d83a8f  dd7ddc04e1b6c2c614352b383efe2d36   \n",
       "2  c777355d18b72b67abbeef9df44fd0fd  5b51032eddd242adc84c38acab88f23d   \n",
       "3  7634da152a4610f1595efa32f14722fc  9d7a1d34a5052409006425275ba1c2b4   \n",
       "4  ac6c3623068f30de03045865e4e10089  df560393f3a51e74553ab94004ba5c87   \n",
       "\n",
       "  shipping_limit_date   price  freight_value  \n",
       "0 2017-09-19 09:45:35   58.90          13.29  \n",
       "1 2017-05-03 11:05:13  239.90          19.93  \n",
       "2 2018-01-18 14:48:30  199.00          17.87  \n",
       "3 2018-08-15 10:10:18   12.99          12.79  \n",
       "4 2017-02-13 13:57:51  199.90          18.14  "
      ]
     },
     "execution_count": 42,
     "metadata": {},
     "output_type": "execute_result"
    }
   ],
   "source": [
    "# Получаем таблицу с товарами\n",
    "\n",
    "# используем api \n",
    "base_url = 'https://cloud-api.yandex.net/v1/disk/public/resources/download?' \n",
    "public_key = 'https://disk.yandex.ru/d/Gbt-yAcQrOe3Pw' \n",
    " \n",
    "# получаем url \n",
    "final_url = base_url + urlencode(dict(public_key=public_key)) \n",
    "response = requests.get(final_url) \n",
    "download_url_items = response.json()['href'] \n",
    " \n",
    "# загружаем файл в df \n",
    "download_response = requests.get(download_url_items) \n",
    "items_df = pd.read_csv(download_url_items, sep=',',parse_dates=['shipping_limit_date'])\n",
    "# shipping_limit_date —  максимальная дата доставки продавцом для передачи заказа партнеру по логистике\n",
    "\n",
    "items_df.head(5)"
   ]
  },
  {
   "cell_type": "markdown",
   "metadata": {},
   "source": [
    "Таблица по клиентам"
   ]
  },
  {
   "cell_type": "code",
   "execution_count": 43,
   "metadata": {},
   "outputs": [
    {
     "data": {
      "text/html": [
       "<div>\n",
       "<style scoped>\n",
       "    .dataframe tbody tr th:only-of-type {\n",
       "        vertical-align: middle;\n",
       "    }\n",
       "\n",
       "    .dataframe tbody tr th {\n",
       "        vertical-align: top;\n",
       "    }\n",
       "\n",
       "    .dataframe thead th {\n",
       "        text-align: right;\n",
       "    }\n",
       "</style>\n",
       "<table border=\"1\" class=\"dataframe\">\n",
       "  <thead>\n",
       "    <tr style=\"text-align: right;\">\n",
       "      <th></th>\n",
       "      <th>customer_id</th>\n",
       "      <th>customer_unique_id</th>\n",
       "      <th>customer_zip_code_prefix</th>\n",
       "      <th>customer_city</th>\n",
       "      <th>customer_state</th>\n",
       "    </tr>\n",
       "  </thead>\n",
       "  <tbody>\n",
       "    <tr>\n",
       "      <th>0</th>\n",
       "      <td>06b8999e2fba1a1fbc88172c00ba8bc7</td>\n",
       "      <td>861eff4711a542e4b93843c6dd7febb0</td>\n",
       "      <td>14409</td>\n",
       "      <td>franca</td>\n",
       "      <td>SP</td>\n",
       "    </tr>\n",
       "    <tr>\n",
       "      <th>1</th>\n",
       "      <td>18955e83d337fd6b2def6b18a428ac77</td>\n",
       "      <td>290c77bc529b7ac935b93aa66c333dc3</td>\n",
       "      <td>9790</td>\n",
       "      <td>sao bernardo do campo</td>\n",
       "      <td>SP</td>\n",
       "    </tr>\n",
       "    <tr>\n",
       "      <th>2</th>\n",
       "      <td>4e7b3e00288586ebd08712fdd0374a03</td>\n",
       "      <td>060e732b5b29e8181a18229c7b0b2b5e</td>\n",
       "      <td>1151</td>\n",
       "      <td>sao paulo</td>\n",
       "      <td>SP</td>\n",
       "    </tr>\n",
       "    <tr>\n",
       "      <th>3</th>\n",
       "      <td>b2b6027bc5c5109e529d4dc6358b12c3</td>\n",
       "      <td>259dac757896d24d7702b9acbbff3f3c</td>\n",
       "      <td>8775</td>\n",
       "      <td>mogi das cruzes</td>\n",
       "      <td>SP</td>\n",
       "    </tr>\n",
       "    <tr>\n",
       "      <th>4</th>\n",
       "      <td>4f2d8ab171c80ec8364f7c12e35b23ad</td>\n",
       "      <td>345ecd01c38d18a9036ed96c73b8d066</td>\n",
       "      <td>13056</td>\n",
       "      <td>campinas</td>\n",
       "      <td>SP</td>\n",
       "    </tr>\n",
       "  </tbody>\n",
       "</table>\n",
       "</div>"
      ],
      "text/plain": [
       "                        customer_id                customer_unique_id  \\\n",
       "0  06b8999e2fba1a1fbc88172c00ba8bc7  861eff4711a542e4b93843c6dd7febb0   \n",
       "1  18955e83d337fd6b2def6b18a428ac77  290c77bc529b7ac935b93aa66c333dc3   \n",
       "2  4e7b3e00288586ebd08712fdd0374a03  060e732b5b29e8181a18229c7b0b2b5e   \n",
       "3  b2b6027bc5c5109e529d4dc6358b12c3  259dac757896d24d7702b9acbbff3f3c   \n",
       "4  4f2d8ab171c80ec8364f7c12e35b23ad  345ecd01c38d18a9036ed96c73b8d066   \n",
       "\n",
       "   customer_zip_code_prefix          customer_city customer_state  \n",
       "0                     14409                 franca             SP  \n",
       "1                      9790  sao bernardo do campo             SP  \n",
       "2                      1151              sao paulo             SP  \n",
       "3                      8775        mogi das cruzes             SP  \n",
       "4                     13056               campinas             SP  "
      ]
     },
     "execution_count": 43,
     "metadata": {},
     "output_type": "execute_result"
    }
   ],
   "source": [
    "# Получаем таблицу с клиентами\n",
    "\n",
    "# используем api \n",
    "base_url = 'https://cloud-api.yandex.net/v1/disk/public/resources/download?' \n",
    "public_key = 'https://disk.yandex.ru/d/FUi5uSd6BfG_ig' \n",
    " \n",
    "# получаем url \n",
    "final_url = base_url + urlencode(dict(public_key=public_key)) \n",
    "response = requests.get(final_url) \n",
    "download_url_clients = response.json()['href'] \n",
    " \n",
    "# загружаем файл в df \n",
    "download_response = requests.get(download_url_clients) \n",
    "clients_df = pd.read_csv(download_url_clients, sep=',')\n",
    "\n",
    "clients_df.head(5)"
   ]
  },
  {
   "cell_type": "markdown",
   "metadata": {},
   "source": [
    "#### Проведем EDA\n",
    "основной таблицы с которой будем работать - orders"
   ]
  },
  {
   "cell_type": "code",
   "execution_count": 44,
   "metadata": {},
   "outputs": [
    {
     "name": "stdout",
     "output_type": "stream",
     "text": [
      "<class 'pandas.core.frame.DataFrame'>\n",
      "RangeIndex: 99441 entries, 0 to 99440\n",
      "Data columns (total 8 columns):\n",
      " #   Column                         Non-Null Count  Dtype         \n",
      "---  ------                         --------------  -----         \n",
      " 0   order_id                       99441 non-null  object        \n",
      " 1   customer_id                    99441 non-null  object        \n",
      " 2   order_status                   99441 non-null  object        \n",
      " 3   order_purchase_timestamp       99441 non-null  datetime64[ns]\n",
      " 4   order_approved_at              99281 non-null  datetime64[ns]\n",
      " 5   order_delivered_carrier_date   97658 non-null  datetime64[ns]\n",
      " 6   order_delivered_customer_date  96476 non-null  datetime64[ns]\n",
      " 7   order_estimated_delivery_date  99441 non-null  datetime64[ns]\n",
      "dtypes: datetime64[ns](5), object(3)\n",
      "memory usage: 6.1+ MB\n"
     ]
    }
   ],
   "source": [
    "orders_df.info()"
   ]
  },
  {
   "cell_type": "markdown",
   "metadata": {},
   "source": [
    "Есть дыры в timestamp по статусам заказов. Проверим заказы со статусом delivered на n/a в timestamp"
   ]
  },
  {
   "cell_type": "code",
   "execution_count": 45,
   "metadata": {},
   "outputs": [
    {
     "name": "stdout",
     "output_type": "stream",
     "text": [
      "<class 'pandas.core.frame.DataFrame'>\n",
      "Int64Index: 96478 entries, 0 to 99440\n",
      "Data columns (total 8 columns):\n",
      " #   Column                         Non-Null Count  Dtype         \n",
      "---  ------                         --------------  -----         \n",
      " 0   order_id                       96478 non-null  object        \n",
      " 1   customer_id                    96478 non-null  object        \n",
      " 2   order_status                   96478 non-null  object        \n",
      " 3   order_purchase_timestamp       96478 non-null  datetime64[ns]\n",
      " 4   order_approved_at              96464 non-null  datetime64[ns]\n",
      " 5   order_delivered_carrier_date   96476 non-null  datetime64[ns]\n",
      " 6   order_delivered_customer_date  96470 non-null  datetime64[ns]\n",
      " 7   order_estimated_delivery_date  96478 non-null  datetime64[ns]\n",
      "dtypes: datetime64[ns](5), object(3)\n",
      "memory usage: 6.6+ MB\n"
     ]
    }
   ],
   "source": [
    "orders_df.query('order_status==\"delivered\"').info()"
   ]
  },
  {
   "cell_type": "markdown",
   "metadata": {},
   "source": [
    "У заказов со статусом delivered так же в некоторых случаях: \n",
    "- 14 заказах нет метки времени в order_approved_at\n",
    "- 2 заказах нет метки времени в order_delivered_carrier_date\n",
    "- 8 заказах нет timestamp в поле order_delivered_customer_date"
   ]
  },
  {
   "cell_type": "markdown",
   "metadata": {},
   "source": [
    "Посмотрим на заказы с точки зрения их фактических статусов в % соотношении"
   ]
  },
  {
   "cell_type": "code",
   "execution_count": 46,
   "metadata": {},
   "outputs": [
    {
     "data": {
      "text/plain": [
       "delivered      97.020344\n",
       "shipped         1.113223\n",
       "canceled        0.628513\n",
       "unavailable     0.612423\n",
       "invoiced        0.315765\n",
       "processing      0.302692\n",
       "created         0.005028\n",
       "approved        0.002011\n",
       "Name: order_status, dtype: float64"
      ]
     },
     "execution_count": 46,
     "metadata": {},
     "output_type": "execute_result"
    }
   ],
   "source": [
    "order_status = orders_df.order_status.value_counts(normalize=True).mul(100)\n",
    "order_status"
   ]
  },
  {
   "cell_type": "markdown",
   "metadata": {},
   "source": [
    "97% заказов  доставлено клиенту"
   ]
  },
  {
   "cell_type": "markdown",
   "metadata": {},
   "source": [
    "Посмотрим на описательную статистику времени перехода заказа от статуса к статусу."
   ]
  },
  {
   "cell_type": "code",
   "execution_count": 47,
   "metadata": {},
   "outputs": [
    {
     "data": {
      "text/html": [
       "<div>\n",
       "<style scoped>\n",
       "    .dataframe tbody tr th:only-of-type {\n",
       "        vertical-align: middle;\n",
       "    }\n",
       "\n",
       "    .dataframe tbody tr th {\n",
       "        vertical-align: top;\n",
       "    }\n",
       "\n",
       "    .dataframe thead th {\n",
       "        text-align: right;\n",
       "    }\n",
       "</style>\n",
       "<table border=\"1\" class=\"dataframe\">\n",
       "  <thead>\n",
       "    <tr style=\"text-align: right;\">\n",
       "      <th></th>\n",
       "      <th>purchased_approved</th>\n",
       "      <th>approved_deliveredcarrier</th>\n",
       "      <th>deliveredcarrier_deliveredcustomer</th>\n",
       "    </tr>\n",
       "  </thead>\n",
       "  <tbody>\n",
       "    <tr>\n",
       "      <th>count</th>\n",
       "      <td>99281</td>\n",
       "      <td>97644</td>\n",
       "      <td>96475</td>\n",
       "    </tr>\n",
       "    <tr>\n",
       "      <th>mean</th>\n",
       "      <td>0 days 10:25:08.739486910</td>\n",
       "      <td>2 days 19:19:15.298850927</td>\n",
       "      <td>9 days 07:55:59.254148743</td>\n",
       "    </tr>\n",
       "    <tr>\n",
       "      <th>std</th>\n",
       "      <td>1 days 02:02:16.813098347</td>\n",
       "      <td>3 days 13:11:10.497083683</td>\n",
       "      <td>8 days 18:14:34.522067763</td>\n",
       "    </tr>\n",
       "    <tr>\n",
       "      <th>min</th>\n",
       "      <td>0 days 00:00:00</td>\n",
       "      <td>-172 days +18:44:38</td>\n",
       "      <td>-17 days +21:41:31</td>\n",
       "    </tr>\n",
       "    <tr>\n",
       "      <th>25%</th>\n",
       "      <td>0 days 00:12:54</td>\n",
       "      <td>0 days 21:00:44</td>\n",
       "      <td>4 days 02:23:55.500000</td>\n",
       "    </tr>\n",
       "    <tr>\n",
       "      <th>50%</th>\n",
       "      <td>0 days 00:20:36</td>\n",
       "      <td>1 days 19:38:29.500000</td>\n",
       "      <td>7 days 02:23:40</td>\n",
       "    </tr>\n",
       "    <tr>\n",
       "      <th>75%</th>\n",
       "      <td>0 days 14:34:51</td>\n",
       "      <td>3 days 13:55:52.500000</td>\n",
       "      <td>12 days 00:41:55.500000</td>\n",
       "    </tr>\n",
       "    <tr>\n",
       "      <th>max</th>\n",
       "      <td>187 days 21:10:50</td>\n",
       "      <td>125 days 18:18:06</td>\n",
       "      <td>205 days 04:35:00</td>\n",
       "    </tr>\n",
       "  </tbody>\n",
       "</table>\n",
       "</div>"
      ],
      "text/plain": [
       "              purchased_approved  approved_deliveredcarrier  \\\n",
       "count                      99281                      97644   \n",
       "mean   0 days 10:25:08.739486910  2 days 19:19:15.298850927   \n",
       "std    1 days 02:02:16.813098347  3 days 13:11:10.497083683   \n",
       "min              0 days 00:00:00        -172 days +18:44:38   \n",
       "25%              0 days 00:12:54            0 days 21:00:44   \n",
       "50%              0 days 00:20:36     1 days 19:38:29.500000   \n",
       "75%              0 days 14:34:51     3 days 13:55:52.500000   \n",
       "max            187 days 21:10:50          125 days 18:18:06   \n",
       "\n",
       "      deliveredcarrier_deliveredcustomer  \n",
       "count                              96475  \n",
       "mean           9 days 07:55:59.254148743  \n",
       "std            8 days 18:14:34.522067763  \n",
       "min                   -17 days +21:41:31  \n",
       "25%               4 days 02:23:55.500000  \n",
       "50%                      7 days 02:23:40  \n",
       "75%              12 days 00:41:55.500000  \n",
       "max                    205 days 04:35:00  "
      ]
     },
     "execution_count": 47,
     "metadata": {},
     "output_type": "execute_result"
    }
   ],
   "source": [
    "orders_df['purchased_approved'] = (orders_df.order_approved_at-orders_df.order_purchase_timestamp)\n",
    "\n",
    "orders_df['approved_deliveredcarrier'] = (orders_df.order_delivered_carrier_date-orders_df.order_approved_at)\n",
    "orders_df['deliveredcarrier_deliveredcustomer'] = (orders_df.order_delivered_customer_date - orders_df.order_delivered_carrier_date)\n",
    "\n",
    "orders_df[['order_id','order_status','purchased_approved','approved_deliveredcarrier','deliveredcarrier_deliveredcustomer']].describe(include='timedelta')"
   ]
  },
  {
   "cell_type": "markdown",
   "metadata": {},
   "source": [
    "В таблице присутствуют отрицательные значения, что говорит об ошибках внесения данных в бд (об отсутсвии некоторых значений в полях)\n",
    "\n",
    "Сделаем проверку на последовательность смены статусов по метке времени. Для этого отсортируем df по каждому order_id и метке времени по возрастанию. Проставим шаги последовательности.\n"
   ]
  },
  {
   "cell_type": "code",
   "execution_count": 48,
   "metadata": {},
   "outputs": [],
   "source": [
    "orders_by_status = orders_df[['order_id','order_status','order_purchase_timestamp','order_approved_at','order_delivered_carrier_date','order_delivered_customer_date']]\n",
    "order_by_status = orders_by_status.melt(id_vars=['order_id','order_status'], var_name = 'event_name',value_name='event_timestamp')\n",
    "\n",
    "# сортируем по id и времени\n",
    "sorted_orders = order_by_status.sort_values(by=['order_id', 'event_timestamp']).copy()\n",
    "# добавляем шаги событий\n",
    "sorted_orders['step'] = sorted_orders.groupby('order_id').cumcount() + 1\n",
    "\n",
    "# добавляем узлы-источники и целевые узлы\n",
    "# узлы-источники - это сами события\n",
    "sorted_orders['source'] = sorted_orders['event_name']\n",
    "# добавляем целевые узлы\n",
    "sorted_orders['target'] = sorted_orders.groupby('order_id')['source'].shift(-1)\n",
    "# преобразуем таблицу\n",
    "df_comp = sorted_orders.drop(['event_name'],axis=1).reset_index(drop=True)\n"
   ]
  },
  {
   "cell_type": "markdown",
   "metadata": {},
   "source": [
    "В результате проверки обнаружены ошибки в проставлении timestamp в некоторых заказах. Например order_id=00d2559e61b9a0744a0552c35c5ecccb первое событие по timestamp идет  order_delivered_carrier_date, а не order_purchase_timestamp\t"
   ]
  },
  {
   "cell_type": "code",
   "execution_count": 49,
   "metadata": {},
   "outputs": [
    {
     "data": {
      "text/html": [
       "<div>\n",
       "<style scoped>\n",
       "    .dataframe tbody tr th:only-of-type {\n",
       "        vertical-align: middle;\n",
       "    }\n",
       "\n",
       "    .dataframe tbody tr th {\n",
       "        vertical-align: top;\n",
       "    }\n",
       "\n",
       "    .dataframe thead th {\n",
       "        text-align: right;\n",
       "    }\n",
       "</style>\n",
       "<table border=\"1\" class=\"dataframe\">\n",
       "  <thead>\n",
       "    <tr style=\"text-align: right;\">\n",
       "      <th></th>\n",
       "      <th>order_id</th>\n",
       "      <th>order_status</th>\n",
       "      <th>event_timestamp</th>\n",
       "      <th>step</th>\n",
       "      <th>source</th>\n",
       "      <th>target</th>\n",
       "    </tr>\n",
       "  </thead>\n",
       "  <tbody>\n",
       "    <tr>\n",
       "      <th>1252</th>\n",
       "      <td>00d2559e61b9a0744a0552c35c5ecccb</td>\n",
       "      <td>delivered</td>\n",
       "      <td>2018-06-11 12:05:00</td>\n",
       "      <td>1</td>\n",
       "      <td>order_delivered_carrier_date</td>\n",
       "      <td>order_purchase_timestamp</td>\n",
       "    </tr>\n",
       "    <tr>\n",
       "      <th>1253</th>\n",
       "      <td>00d2559e61b9a0744a0552c35c5ecccb</td>\n",
       "      <td>delivered</td>\n",
       "      <td>2018-06-11 12:24:48</td>\n",
       "      <td>2</td>\n",
       "      <td>order_purchase_timestamp</td>\n",
       "      <td>order_approved_at</td>\n",
       "    </tr>\n",
       "    <tr>\n",
       "      <th>1254</th>\n",
       "      <td>00d2559e61b9a0744a0552c35c5ecccb</td>\n",
       "      <td>delivered</td>\n",
       "      <td>2018-06-11 13:32:18</td>\n",
       "      <td>3</td>\n",
       "      <td>order_approved_at</td>\n",
       "      <td>order_delivered_customer_date</td>\n",
       "    </tr>\n",
       "    <tr>\n",
       "      <th>1255</th>\n",
       "      <td>00d2559e61b9a0744a0552c35c5ecccb</td>\n",
       "      <td>delivered</td>\n",
       "      <td>2018-06-18 16:51:52</td>\n",
       "      <td>4</td>\n",
       "      <td>order_delivered_customer_date</td>\n",
       "      <td>NaN</td>\n",
       "    </tr>\n",
       "  </tbody>\n",
       "</table>\n",
       "</div>"
      ],
      "text/plain": [
       "                              order_id order_status     event_timestamp  step  \\\n",
       "1252  00d2559e61b9a0744a0552c35c5ecccb    delivered 2018-06-11 12:05:00     1   \n",
       "1253  00d2559e61b9a0744a0552c35c5ecccb    delivered 2018-06-11 12:24:48     2   \n",
       "1254  00d2559e61b9a0744a0552c35c5ecccb    delivered 2018-06-11 13:32:18     3   \n",
       "1255  00d2559e61b9a0744a0552c35c5ecccb    delivered 2018-06-18 16:51:52     4   \n",
       "\n",
       "                             source                         target  \n",
       "1252   order_delivered_carrier_date       order_purchase_timestamp  \n",
       "1253       order_purchase_timestamp              order_approved_at  \n",
       "1254              order_approved_at  order_delivered_customer_date  \n",
       "1255  order_delivered_customer_date                            NaN  "
      ]
     },
     "execution_count": 49,
     "metadata": {},
     "output_type": "execute_result"
    }
   ],
   "source": [
    "df_comp.query('order_id==\"00d2559e61b9a0744a0552c35c5ecccb\"')"
   ]
  },
  {
   "cell_type": "markdown",
   "metadata": {},
   "source": [
    "Преобразуем datedifference в дни и посмотрим на распредления 'approved_deliveredcarrier' и 'deliveredcarrier_deliveredcustomer'"
   ]
  },
  {
   "cell_type": "code",
   "execution_count": 50,
   "metadata": {},
   "outputs": [
    {
     "data": {
      "text/plain": [
       "1359"
      ]
     },
     "execution_count": 50,
     "metadata": {},
     "output_type": "execute_result"
    }
   ],
   "source": [
    "orders_df['approved_deliveredcarrier'] = (orders_df.order_delivered_carrier_date-orders_df.order_approved_at).dt.days\n",
    "orders_df['deliveredcarrier_deliveredcustomer'] = (orders_df.order_delivered_customer_date - orders_df.order_delivered_carrier_date).dt.days\n",
    "\n",
    "orders_df.query('approved_deliveredcarrier<0').shape[0]"
   ]
  },
  {
   "cell_type": "markdown",
   "metadata": {},
   "source": [
    "Мы имеем 1359 количество заказов с нарушенными метками времени. Создадим колонки флаги, чтобы в дальнейшем, при необходимости отсечь такие заказы"
   ]
  },
  {
   "cell_type": "code",
   "execution_count": 51,
   "metadata": {},
   "outputs": [],
   "source": [
    "orders_df['flag_approved_delivery'] = np.where(orders_df.approved_deliveredcarrier<0,'bad','ok')\n",
    "orders_df['flag_carrier_customer'] = np.where(orders_df.deliveredcarrier_deliveredcustomer<0,'bad','ok')"
   ]
  },
  {
   "cell_type": "markdown",
   "metadata": {},
   "source": [
    "Посмотрим на описательную статистику дней, прошедших с момента оплаты до доставки в лог.службу"
   ]
  },
  {
   "cell_type": "code",
   "execution_count": 52,
   "metadata": {},
   "outputs": [
    {
     "name": "stderr",
     "output_type": "stream",
     "text": [
      "/opt/tljh/user/lib/python3.7/site-packages/seaborn/_decorators.py:43: FutureWarning: Pass the following variable as a keyword arg: x. From version 0.12, the only valid positional argument will be `data`, and passing other arguments without an explicit keyword will result in an error or misinterpretation.\n",
      "  FutureWarning\n"
     ]
    },
    {
     "data": {
      "text/plain": [
       "<matplotlib.axes._subplots.AxesSubplot at 0x7f003bf0e8d0>"
      ]
     },
     "execution_count": 52,
     "metadata": {},
     "output_type": "execute_result"
    },
    {
     "data": {
      "image/png": "[encoded data removed]",
      "text/plain": [
       "<Figure size 1440x504 with 1 Axes>"
      ]
     },
     "metadata": {},
     "output_type": "display_data"
    }
   ],
   "source": [
    "sns.set(\n",
    "    font_scale=2,\n",
    "    style=\"whitegrid\",\n",
    "    rc={'figure.figsize':(20,7)}\n",
    "        )\n",
    "sns.boxplot(orders_df.query('flag_approved_delivery==\"ok\"').approved_deliveredcarrier)"
   ]
  },
  {
   "cell_type": "code",
   "execution_count": 53,
   "metadata": {},
   "outputs": [
    {
     "name": "stderr",
     "output_type": "stream",
     "text": [
      "/opt/tljh/user/lib/python3.7/site-packages/seaborn/_decorators.py:43: FutureWarning: Pass the following variable as a keyword arg: x. From version 0.12, the only valid positional argument will be `data`, and passing other arguments without an explicit keyword will result in an error or misinterpretation.\n",
      "  FutureWarning\n"
     ]
    },
    {
     "data": {
      "text/plain": [
       "<matplotlib.axes._subplots.AxesSubplot at 0x7f003bed25c0>"
      ]
     },
     "execution_count": 53,
     "metadata": {},
     "output_type": "execute_result"
    },
    {
     "data": {
      "image/png": "[encoded data removed]",
      "text/plain": [
       "<Figure size 1440x504 with 1 Axes>"
      ]
     },
     "metadata": {},
     "output_type": "display_data"
    }
   ],
   "source": [
    "sns.boxplot(orders_df.query('flag_carrier_customer==\"ok\" & flag_approved_delivery==\"ok\"').deliveredcarrier_deliveredcustomer)"
   ]
  },
  {
   "cell_type": "markdown",
   "metadata": {},
   "source": [
    "Рассмотрим аномалии в данных более подробно. "
   ]
  },
  {
   "cell_type": "code",
   "execution_count": 57,
   "metadata": {},
   "outputs": [],
   "source": [
    "orders_df['problems']=np.where(\n",
    "                                (orders_df['order_approved_at']==orders_df['order_approved_at']) & \n",
    "                                (orders_df['order_delivered_carrier_date']==orders_df['order_delivered_carrier_date'])&\n",
    "                                (orders_df['order_delivered_customer_date']!=orders_df['order_delivered_customer_date']),\n",
    "                                'заказ оплачен находится в лог.службе',\n",
    "                                np.where(\n",
    "                                    (orders_df['order_approved_at']!=orders_df['order_approved_at']) & \n",
    "                                    (orders_df['order_delivered_customer_date']==orders_df['order_delivered_customer_date']),\n",
    "                                    'заказ не оплачен но получен',\n",
    "                                    np.where(\n",
    "                                        (orders_df['order_delivered_carrier_date']!=orders_df['order_delivered_carrier_date']) & \n",
    "                                        (orders_df['order_delivered_customer_date']!=orders_df['order_delivered_customer_date']),\n",
    "                                        'заказ оплачен но не доставлен в лог.службу',\n",
    "                                        'заказ оплачен и получен клиентом'\n",
    "                                        ),\n",
    "                                )    \n",
    "                            )                    "
   ]
  },
  {
   "cell_type": "code",
   "execution_count": 85,
   "metadata": {},
   "outputs": [
    {
     "data": {
      "image/png": "[encoded data removed]",
      "text/plain": [
       "<Figure size 1440x432 with 1 Axes>"
      ]
     },
     "metadata": {},
     "output_type": "display_data"
    }
   ],
   "source": [
    "plt.figure(figsize=(20,6))\n",
    "chart = sns.countplot(x=orders_df.query('problems!=\"заказ оплачен и получен клиентом\"').problems)\n",
    "chart.set_xticklabels(chart.get_xticklabels(), rotation=45, horizontalalignment='right')\n",
    "chart.set_title('Спорные моменты в данных')\n",
    "sns.despine(fig=None, ax=None, top=True, right=True, left=False, bottom=False, offset=None, trim=False)"
   ]
  },
  {
   "cell_type": "markdown",
   "metadata": {},
   "source": [
    "###### Вывод: \n",
    "В таблице заказов есть противоречения:\n",
    "- заказ не оплачен, но получен клиентом\n",
    "- заказ оплачен, но все еще находится в логистической службе\n",
    "- заказ оплачен, но его нет ни у клиенты ни в логистической службе."
   ]
  },
  {
   "cell_type": "markdown",
   "metadata": {},
   "source": [
    "## Вопрос 1. Сколько у нас пользователей, которые совершили покупку только один раз?"
   ]
  },
  {
   "cell_type": "markdown",
   "metadata": {},
   "source": [
    "Объединяем таблицу orders и customers, чтобы посчитать сколько пользователей заказало всего лишь 1 раз."
   ]
  },
  {
   "cell_type": "code",
   "execution_count": 54,
   "metadata": {},
   "outputs": [
    {
     "data": {
      "text/plain": [
       "'Ответ: 93099'"
      ]
     },
     "execution_count": 54,
     "metadata": {},
     "output_type": "execute_result"
    }
   ],
   "source": [
    "all_orders = pd.merge(orders_df, clients_df[['customer_id','customer_unique_id']],how='left',on='customer_id')\n",
    "customer_orders = all_orders.groupby('customer_unique_id',as_index=False).agg({'order_id':'nunique'}).sort_values('order_id',ascending=False)\n",
    "'Ответ: ' + str(customer_orders.query('order_id==1').shape[0])"
   ]
  },
  {
   "cell_type": "markdown",
   "metadata": {},
   "source": [
    "## Вопрос 2. Сколько заказов в месяц в среднем не доставляется по разным причинам (вывести детализацию по причинам)"
   ]
  },
  {
   "cell_type": "markdown",
   "metadata": {},
   "source": [
    "Возьмем заказы со всеми статусами и построим воронку, чтобы понять сколько заказов теряется и на каких этапах (ориентируясь на timestamp)."
   ]
  },
  {
   "cell_type": "code",
   "execution_count": 56,
   "metadata": {},
   "outputs": [
    {
     "data": {
      "image/png": "[encoded data removed]",
      "text/plain": [
       "<Figure size 864x432 with 1 Axes>"
      ]
     },
     "metadata": {},
     "output_type": "display_data"
    }
   ],
   "source": [
    "# Готовим данные\n",
    "count_orders = orders_df.order_id.nunique()\n",
    "\n",
    "count_order_purchase_timestamp = np.round((orders_df.order_purchase_timestamp.notna().sum()/count_orders*100),1)\n",
    "count_order_approved_at = np.round(((orders_df.order_approved_at.notna().sum())/count_orders*100),1)\n",
    "count_order_delivered_carrier_date = np.round(((orders_df.order_delivered_carrier_date.notna().sum())/count_orders*100),1)\n",
    "count_order_delivered_customer_date = np.round(((orders_df.order_delivered_customer_date.notna().sum())/count_orders*100),1)\n",
    "\n",
    "# Рисуем воронку\n",
    "\n",
    "from matplotlib import font_manager as fm\n",
    "# funnel chart\n",
    "y = [4,3,2,1]\n",
    "x = [count_order_purchase_timestamp,count_order_approved_at,count_order_delivered_carrier_date,count_order_delivered_customer_date]\n",
    "labels = ['order_purchase_timestamp', 'order_approved_at', 'order_delivered_carrier_date', 'order_delivered_customer_date']\n",
    "x_max = 100\n",
    "x_min = 0\n",
    "x_range = x_max - x_min\n",
    "fig, ax = plt.subplots(1, figsize=(12,6))\n",
    "for idx, val in enumerate(x):\n",
    "    left = (x_range - val)/2\n",
    "    plt.barh(y[idx], x[idx], left = left, color='#808B96',\n",
    "             height=.8, edgecolor='black')\n",
    "    # label\n",
    "    plt.text(50, y[idx]+0.1, labels[idx], ha='center', \n",
    "              fontsize=16, color='#2A2A2A')\n",
    "    # value\n",
    "    plt.text(50, y[idx]-0.3, x[idx], ha='center',\n",
    "              fontsize=16, color='#2A2A2A')\n",
    "    \n",
    "plt.xlim(x_min, x_max)\n",
    "plt.axis('off')\n",
    "plt.title('Funnel events', loc='center', fontsize=24, color='#2A2A2A')\n",
    "plt.show()"
   ]
  },
  {
   "cell_type": "markdown",
   "metadata": {},
   "source": [
    "#### Вывод к графику: \n",
    "Как видно из графика от заказа до доставки клиенту теряется примерно 3% заказов.Большая часть (1,5%) на процессе передачи в логистическую службу и (1,2%) из логистической службы клиенту."
   ]
  },
  {
   "cell_type": "markdown",
   "metadata": {},
   "source": [
    "Создадим столбец-флаг, который будет сигнализировать о том доставлен ли заказ. И отфильтруем по нему df. Сагрегируем данные по году-месяцу и найдем среднее"
   ]
  },
  {
   "cell_type": "code",
   "execution_count": 116,
   "metadata": {},
   "outputs": [
    {
     "data": {
      "text/plain": [
       "'В среднем в месяц не доставляется 123.54166666666667 заказа'"
      ]
     },
     "execution_count": 116,
     "metadata": {},
     "output_type": "execute_result"
    }
   ],
   "source": [
    "orders_df['flag_delivery'] = np.where(orders_df['order_delivered_customer_date']!=orders_df['order_delivered_customer_date'],'not_delivered','delivered')\n",
    "orders_df['purchase_year_month'] = pd.to_datetime(orders_df['order_purchase_timestamp']).dt.strftime('%Y-%m')\n",
    "undelivered_df = orders_df.query('flag_delivery==\"not_delivered\"')\n",
    "undelivered_yearmonth = orders_df.query('flag_delivery==\"not_delivered\"').groupby('purchase_year_month',as_index=False).agg(counted=('order_id','nunique'))\n",
    "mean_by_year_month = undelivered_yearmonth.counted.mean()\n",
    "'В среднем в месяц не доставляется ' + str(mean_by_year_month) + ' заказа'"
   ]
  },
  {
   "cell_type": "markdown",
   "metadata": {},
   "source": [
    "Разберемся в причинах по которым заказы не доставляются."
   ]
  },
  {
   "cell_type": "code",
   "execution_count": 120,
   "metadata": {},
   "outputs": [],
   "source": [
    "# Создаем колонку с причинами по которым заказы не доставляеются\n",
    "undelivered_df['trouble']=np.where(\n",
    "    (undelivered_df.order_approved_at!=undelivered_df.order_approved_at),\n",
    "    'заказ не был оплачен',\n",
    "    (np.where(\n",
    "        (undelivered_df.order_approved_at==undelivered_df.order_approved_at) & \n",
    "        (undelivered_df.price!=undelivered_df.price),\n",
    "        'оплачен,нет товаров',\n",
    "        (np.where(\n",
    "            (undelivered_df.order_delivered_carrier_date!=undelivered_df.order_delivered_carrier_date) & \n",
    "            (undelivered_df.price!=undelivered_df.price),\n",
    "            'заказ не был доставлен в лог.службу',\n",
    "            (np.where(undelivered_df.order_delivered_carrier_date==undelivered_df.order_delivered_carrier_date,\n",
    "            'заказ завис в лог.службе',\n",
    "    'не был доставлен в лог.службу')\n",
    "        ))))))"
   ]
  },
  {
   "cell_type": "code",
   "execution_count": 184,
   "metadata": {},
   "outputs": [
    {
     "data": {
      "text/plain": [
       "123.54166666666666"
      ]
     },
     "execution_count": 184,
     "metadata": {},
     "output_type": "execute_result"
    }
   ],
   "source": [
    "troubles_ym = undelivered_df.groupby(['trouble','purchase_year_month']).agg(counted = ('order_id','count'))\n",
    "\n",
    "troubles = troubles_ym.unstack(level='purchase_year_month').fillna(0)\n",
    "trouble_means = troubles.mean(axis=1)\n",
    "trouble_means_df = pd.DataFrame(trouble_means).reset_index()\n",
    "trouble_means_df = trouble_means_df.rename(columns={0:'means'}).sort_values('means')"
   ]
  },
  {
   "cell_type": "code",
   "execution_count": 182,
   "metadata": {},
   "outputs": [
    {
     "data": {
      "text/plain": [
       "''"
      ]
     },
     "execution_count": 182,
     "metadata": {},
     "output_type": "execute_result"
    },
    {
     "data": {
      "image/png": "[encoded data removed]",
      "text/plain": [
       "<Figure size 1440x504 with 1 Axes>"
      ]
     },
     "metadata": {},
     "output_type": "display_data"
    }
   ],
   "source": [
    "chart = sns.barplot(data = trouble_means_df, x='trouble', y='means')\n",
    "chart.set_xticklabels(chart.get_xticklabels(), rotation=45, horizontalalignment='right')\n",
    "chart.set_title('Причины, по которым заказы не доставляются (в среднем в месяц)')\n",
    ";"
   ]
  },
  {
   "cell_type": "markdown",
   "metadata": {},
   "source": [
    "## 3. По каждому товару определить, в какой день недели товар чаще всего покупается"
   ]
  },
  {
   "cell_type": "markdown",
   "metadata": {},
   "source": [
    "День покупки = order_purchase_timestamp. Для решения залачи объединим таблицы orders и items"
   ]
  },
  {
   "cell_type": "code",
   "execution_count": 64,
   "metadata": {},
   "outputs": [
    {
     "data": {
      "text/html": [
       "<style  type=\"text/css\" >\n",
       "</style><table id=\"T_cccdfee2_3807_11ed_bdbb_96000040dfb6\" ><caption>Задача 3: Дни недели, в которые товар чаще всего покупается</caption><thead>    <tr>        <th class=\"blank level0\" ></th>        <th class=\"col_heading level0 col0\" >product_id</th>        <th class=\"col_heading level0 col1\" >day_name</th>    </tr></thead><tbody>\n",
       "                <tr>\n",
       "                        <th id=\"T_cccdfee2_3807_11ed_bdbb_96000040dfb6level0_row0\" class=\"row_heading level0 row0\" >0</th>\n",
       "                        <td id=\"T_cccdfee2_3807_11ed_bdbb_96000040dfb6row0_col0\" class=\"data row0 col0\" >00066f42aeeb9f3007548bb9d3f33c38</td>\n",
       "                        <td id=\"T_cccdfee2_3807_11ed_bdbb_96000040dfb6row0_col1\" class=\"data row0 col1\" >Sunday</td>\n",
       "            </tr>\n",
       "            <tr>\n",
       "                        <th id=\"T_cccdfee2_3807_11ed_bdbb_96000040dfb6level0_row1\" class=\"row_heading level0 row1\" >1</th>\n",
       "                        <td id=\"T_cccdfee2_3807_11ed_bdbb_96000040dfb6row1_col0\" class=\"data row1 col0\" >00088930e925c41fd95ebfe695fd2655</td>\n",
       "                        <td id=\"T_cccdfee2_3807_11ed_bdbb_96000040dfb6row1_col1\" class=\"data row1 col1\" >Tuesday</td>\n",
       "            </tr>\n",
       "            <tr>\n",
       "                        <th id=\"T_cccdfee2_3807_11ed_bdbb_96000040dfb6level0_row2\" class=\"row_heading level0 row2\" >2</th>\n",
       "                        <td id=\"T_cccdfee2_3807_11ed_bdbb_96000040dfb6row2_col0\" class=\"data row2 col0\" >0009406fd7479715e4bef61dd91f2462</td>\n",
       "                        <td id=\"T_cccdfee2_3807_11ed_bdbb_96000040dfb6row2_col1\" class=\"data row2 col1\" >Thursday</td>\n",
       "            </tr>\n",
       "            <tr>\n",
       "                        <th id=\"T_cccdfee2_3807_11ed_bdbb_96000040dfb6level0_row3\" class=\"row_heading level0 row3\" >3</th>\n",
       "                        <td id=\"T_cccdfee2_3807_11ed_bdbb_96000040dfb6row3_col0\" class=\"data row3 col0\" >000b8f95fcb9e0096488278317764d19</td>\n",
       "                        <td id=\"T_cccdfee2_3807_11ed_bdbb_96000040dfb6row3_col1\" class=\"data row3 col1\" >['Friday' 'Wednesday']</td>\n",
       "            </tr>\n",
       "            <tr>\n",
       "                        <th id=\"T_cccdfee2_3807_11ed_bdbb_96000040dfb6level0_row4\" class=\"row_heading level0 row4\" >4</th>\n",
       "                        <td id=\"T_cccdfee2_3807_11ed_bdbb_96000040dfb6row4_col0\" class=\"data row4 col0\" >000d9be29b5207b54e86aa1b1ac54872</td>\n",
       "                        <td id=\"T_cccdfee2_3807_11ed_bdbb_96000040dfb6row4_col1\" class=\"data row4 col1\" >Tuesday</td>\n",
       "            </tr>\n",
       "    </tbody></table>"
      ],
      "text/plain": [
       "<pandas.io.formats.style.Styler at 0x7f003b457668>"
      ]
     },
     "execution_count": 64,
     "metadata": {},
     "output_type": "execute_result"
    }
   ],
   "source": [
    "# К таблице товаров присоединяем столбцы дата подтверждения заказа, чтобы в последствии определить день недели\n",
    "bought_items = pd.merge(items_df,orders_df[['order_id','order_purchase_timestamp','problems']],how='right',on='order_id')\n",
    "bought_items['day_name']=bought_items.order_purchase_timestamp.dt.day_name()\n",
    "# Агрегируем данные по продукту и названию дня недели. С помощью \"моды\" ищем самые частые дни\n",
    "days = bought_items[['product_id','day_name']].groupby('product_id',as_index=False).agg({'day_name':pd.Series.mode})\n",
    "\n",
    "days.head(5).style.set_caption(\"Задача 3: Дни недели, в которые товар чаще всего покупается\")"
   ]
  },
  {
   "cell_type": "markdown",
   "metadata": {},
   "source": [
    "Для некоторых товаров имеем несколько best days, потому что их покупали одинаковое количество раз в эти дни, т.е. имеют две моды."
   ]
  },
  {
   "cell_type": "markdown",
   "metadata": {},
   "source": [
    "## 4. Сколько у каждого из пользователей в среднем покупок в неделю (по месяцам)? Не стоит забывать, что внутри месяца может быть не целое количество недель. Например, в ноябре 2021 года 4,28 недели. И внутри метрики это нужно учесть. "
   ]
  },
  {
   "cell_type": "code",
   "execution_count": 65,
   "metadata": {},
   "outputs": [
    {
     "name": "stderr",
     "output_type": "stream",
     "text": [
      "/opt/tljh/user/lib/python3.7/site-packages/ipykernel_launcher.py:4: SettingWithCopyWarning: \n",
      "A value is trying to be set on a copy of a slice from a DataFrame.\n",
      "Try using .loc[row_indexer,col_indexer] = value instead\n",
      "\n",
      "See the caveats in the documentation: https://pandas.pydata.org/pandas-docs/stable/user_guide/indexing.html#returning-a-view-versus-a-copy\n",
      "  after removing the cwd from sys.path.\n",
      "/opt/tljh/user/lib/python3.7/site-packages/ipykernel_launcher.py:6: SettingWithCopyWarning: \n",
      "A value is trying to be set on a copy of a slice from a DataFrame.\n",
      "Try using .loc[row_indexer,col_indexer] = value instead\n",
      "\n",
      "See the caveats in the documentation: https://pandas.pydata.org/pandas-docs/stable/user_guide/indexing.html#returning-a-view-versus-a-copy\n",
      "  \n"
     ]
    },
    {
     "data": {
      "text/html": [
       "<style  type=\"text/css\" >\n",
       "</style><table id=\"T_cccdfee3_3807_11ed_bdbb_96000040dfb6\" ><caption>Задача 4: Среднее кол-во покупок в неделю у клиентов по месяцам</caption><thead>    <tr>        <th class=\"blank level0\" ></th>        <th class=\"col_heading level0 col0\" >customer_unique_id</th>        <th class=\"col_heading level0 col1\" >01_month_year</th>        <th class=\"col_heading level0 col2\" >means</th>    </tr></thead><tbody>\n",
       "                <tr>\n",
       "                        <th id=\"T_cccdfee3_3807_11ed_bdbb_96000040dfb6level0_row0\" class=\"row_heading level0 row0\" >0</th>\n",
       "                        <td id=\"T_cccdfee3_3807_11ed_bdbb_96000040dfb6row0_col0\" class=\"data row0 col0\" >0000366f3b9a7992bf8c76cfdf3221e2</td>\n",
       "                        <td id=\"T_cccdfee3_3807_11ed_bdbb_96000040dfb6row0_col1\" class=\"data row0 col1\" >2018-05-01</td>\n",
       "                        <td id=\"T_cccdfee3_3807_11ed_bdbb_96000040dfb6row0_col2\" class=\"data row0 col2\" >0.225734</td>\n",
       "            </tr>\n",
       "            <tr>\n",
       "                        <th id=\"T_cccdfee3_3807_11ed_bdbb_96000040dfb6level0_row1\" class=\"row_heading level0 row1\" >1</th>\n",
       "                        <td id=\"T_cccdfee3_3807_11ed_bdbb_96000040dfb6row1_col0\" class=\"data row1 col0\" >0000b849f77a49e4a4ce2b2a4ca5be3f</td>\n",
       "                        <td id=\"T_cccdfee3_3807_11ed_bdbb_96000040dfb6row1_col1\" class=\"data row1 col1\" >2018-05-01</td>\n",
       "                        <td id=\"T_cccdfee3_3807_11ed_bdbb_96000040dfb6row1_col2\" class=\"data row1 col2\" >0.225734</td>\n",
       "            </tr>\n",
       "            <tr>\n",
       "                        <th id=\"T_cccdfee3_3807_11ed_bdbb_96000040dfb6level0_row2\" class=\"row_heading level0 row2\" >2</th>\n",
       "                        <td id=\"T_cccdfee3_3807_11ed_bdbb_96000040dfb6row2_col0\" class=\"data row2 col0\" >0000f46a3911fa3c0805444483337064</td>\n",
       "                        <td id=\"T_cccdfee3_3807_11ed_bdbb_96000040dfb6row2_col1\" class=\"data row2 col1\" >2017-03-01</td>\n",
       "                        <td id=\"T_cccdfee3_3807_11ed_bdbb_96000040dfb6row2_col2\" class=\"data row2 col2\" >0.225734</td>\n",
       "            </tr>\n",
       "            <tr>\n",
       "                        <th id=\"T_cccdfee3_3807_11ed_bdbb_96000040dfb6level0_row3\" class=\"row_heading level0 row3\" >3</th>\n",
       "                        <td id=\"T_cccdfee3_3807_11ed_bdbb_96000040dfb6row3_col0\" class=\"data row3 col0\" >0000f6ccb0745a6a4b88665a16c9f078</td>\n",
       "                        <td id=\"T_cccdfee3_3807_11ed_bdbb_96000040dfb6row3_col1\" class=\"data row3 col1\" >2017-10-01</td>\n",
       "                        <td id=\"T_cccdfee3_3807_11ed_bdbb_96000040dfb6row3_col2\" class=\"data row3 col2\" >0.225734</td>\n",
       "            </tr>\n",
       "            <tr>\n",
       "                        <th id=\"T_cccdfee3_3807_11ed_bdbb_96000040dfb6level0_row4\" class=\"row_heading level0 row4\" >4</th>\n",
       "                        <td id=\"T_cccdfee3_3807_11ed_bdbb_96000040dfb6row4_col0\" class=\"data row4 col0\" >0004aac84e0df4da2b147fca70cf8255</td>\n",
       "                        <td id=\"T_cccdfee3_3807_11ed_bdbb_96000040dfb6row4_col1\" class=\"data row4 col1\" >2017-11-01</td>\n",
       "                        <td id=\"T_cccdfee3_3807_11ed_bdbb_96000040dfb6row4_col2\" class=\"data row4 col2\" >0.233100</td>\n",
       "            </tr>\n",
       "    </tbody></table>"
      ],
      "text/plain": [
       "<pandas.io.formats.style.Styler at 0x7f003bee7c88>"
      ]
     },
     "execution_count": 65,
     "metadata": {},
     "output_type": "execute_result"
    }
   ],
   "source": [
    "# Обрезаем df оставляя только нужные поля\n",
    "orders_by_customer = all_orders[['order_id','order_purchase_timestamp','customer_unique_id']]\n",
    "# Считаем количество недель в каждом месяце\n",
    "orders_by_customer['weeks_in_month'] = np.round(((orders_by_customer.order_purchase_timestamp.dt.daysinmonth)/7),2)\n",
    "# Приводим дату к формату первое число месяца\n",
    "orders_by_customer['01_month_year']= (orders_by_customer['order_purchase_timestamp'].apply(lambda x : x.replace(day=1))).dt.date\n",
    "boughts_by_week = orders_by_customer.groupby(['customer_unique_id','01_month_year','weeks_in_month'], as_index=False).agg(orders=('order_id','nunique'))\n",
    "# Находим среднее кол-во покупок в неделю в разрезе месяцев\n",
    "boughts_by_week['means'] = boughts_by_week.orders/boughts_by_week.weeks_in_month\n",
    "boughts_by_week = boughts_by_week[['customer_unique_id','01_month_year','means']]\n",
    "boughts_by_week.head(5).style.set_caption(\"Задача 4: Среднее кол-во покупок в неделю у клиентов по месяцам\")"
   ]
  },
  {
   "cell_type": "markdown",
   "metadata": {},
   "source": [
    "## 5. Используя pandas, проведи когортный анализ пользователей. В период с января по декабрь выяви когорту с самым высоким retention на 3й месяц. "
   ]
  },
  {
   "cell_type": "markdown",
   "metadata": {},
   "source": [
    "Данные представлены за несколько лет, проверим все ли года полные (имеется информация за все месяцы года) т.к. по заданию нас интересует период с января по декабрь"
   ]
  },
  {
   "cell_type": "code",
   "execution_count": 223,
   "metadata": {},
   "outputs": [
    {
     "data": {
      "text/html": [
       "<div>\n",
       "<style scoped>\n",
       "    .dataframe tbody tr th:only-of-type {\n",
       "        vertical-align: middle;\n",
       "    }\n",
       "\n",
       "    .dataframe tbody tr th {\n",
       "        vertical-align: top;\n",
       "    }\n",
       "\n",
       "    .dataframe thead th {\n",
       "        text-align: right;\n",
       "    }\n",
       "</style>\n",
       "<table border=\"1\" class=\"dataframe\">\n",
       "  <thead>\n",
       "    <tr style=\"text-align: right;\">\n",
       "      <th></th>\n",
       "      <th></th>\n",
       "      <th>order_id</th>\n",
       "    </tr>\n",
       "    <tr>\n",
       "      <th>date_purch</th>\n",
       "      <th>year</th>\n",
       "      <th></th>\n",
       "    </tr>\n",
       "  </thead>\n",
       "  <tbody>\n",
       "    <tr>\n",
       "      <th>2016-09</th>\n",
       "      <th>2016</th>\n",
       "      <td>4</td>\n",
       "    </tr>\n",
       "    <tr>\n",
       "      <th>2016-10</th>\n",
       "      <th>2016</th>\n",
       "      <td>324</td>\n",
       "    </tr>\n",
       "    <tr>\n",
       "      <th>2016-12</th>\n",
       "      <th>2016</th>\n",
       "      <td>1</td>\n",
       "    </tr>\n",
       "    <tr>\n",
       "      <th>2017-01</th>\n",
       "      <th>2017</th>\n",
       "      <td>800</td>\n",
       "    </tr>\n",
       "    <tr>\n",
       "      <th>2017-02</th>\n",
       "      <th>2017</th>\n",
       "      <td>1780</td>\n",
       "    </tr>\n",
       "    <tr>\n",
       "      <th>2017-03</th>\n",
       "      <th>2017</th>\n",
       "      <td>2682</td>\n",
       "    </tr>\n",
       "    <tr>\n",
       "      <th>2017-04</th>\n",
       "      <th>2017</th>\n",
       "      <td>2404</td>\n",
       "    </tr>\n",
       "    <tr>\n",
       "      <th>2017-05</th>\n",
       "      <th>2017</th>\n",
       "      <td>3700</td>\n",
       "    </tr>\n",
       "    <tr>\n",
       "      <th>2017-06</th>\n",
       "      <th>2017</th>\n",
       "      <td>3245</td>\n",
       "    </tr>\n",
       "    <tr>\n",
       "      <th>2017-07</th>\n",
       "      <th>2017</th>\n",
       "      <td>4026</td>\n",
       "    </tr>\n",
       "    <tr>\n",
       "      <th>2017-08</th>\n",
       "      <th>2017</th>\n",
       "      <td>4331</td>\n",
       "    </tr>\n",
       "    <tr>\n",
       "      <th>2017-09</th>\n",
       "      <th>2017</th>\n",
       "      <td>4285</td>\n",
       "    </tr>\n",
       "    <tr>\n",
       "      <th>2017-10</th>\n",
       "      <th>2017</th>\n",
       "      <td>4631</td>\n",
       "    </tr>\n",
       "    <tr>\n",
       "      <th>2017-11</th>\n",
       "      <th>2017</th>\n",
       "      <td>7544</td>\n",
       "    </tr>\n",
       "    <tr>\n",
       "      <th>2017-12</th>\n",
       "      <th>2017</th>\n",
       "      <td>5673</td>\n",
       "    </tr>\n",
       "    <tr>\n",
       "      <th>2018-01</th>\n",
       "      <th>2018</th>\n",
       "      <td>7269</td>\n",
       "    </tr>\n",
       "    <tr>\n",
       "      <th>2018-02</th>\n",
       "      <th>2018</th>\n",
       "      <td>6728</td>\n",
       "    </tr>\n",
       "    <tr>\n",
       "      <th>2018-03</th>\n",
       "      <th>2018</th>\n",
       "      <td>7211</td>\n",
       "    </tr>\n",
       "    <tr>\n",
       "      <th>2018-04</th>\n",
       "      <th>2018</th>\n",
       "      <td>6939</td>\n",
       "    </tr>\n",
       "    <tr>\n",
       "      <th>2018-05</th>\n",
       "      <th>2018</th>\n",
       "      <td>6873</td>\n",
       "    </tr>\n",
       "    <tr>\n",
       "      <th>2018-06</th>\n",
       "      <th>2018</th>\n",
       "      <td>6167</td>\n",
       "    </tr>\n",
       "    <tr>\n",
       "      <th>2018-07</th>\n",
       "      <th>2018</th>\n",
       "      <td>6292</td>\n",
       "    </tr>\n",
       "    <tr>\n",
       "      <th>2018-08</th>\n",
       "      <th>2018</th>\n",
       "      <td>6512</td>\n",
       "    </tr>\n",
       "    <tr>\n",
       "      <th>2018-09</th>\n",
       "      <th>2018</th>\n",
       "      <td>16</td>\n",
       "    </tr>\n",
       "    <tr>\n",
       "      <th>2018-10</th>\n",
       "      <th>2018</th>\n",
       "      <td>4</td>\n",
       "    </tr>\n",
       "  </tbody>\n",
       "</table>\n",
       "</div>"
      ],
      "text/plain": [
       "                 order_id\n",
       "date_purch year          \n",
       "2016-09    2016         4\n",
       "2016-10    2016       324\n",
       "2016-12    2016         1\n",
       "2017-01    2017       800\n",
       "2017-02    2017      1780\n",
       "2017-03    2017      2682\n",
       "2017-04    2017      2404\n",
       "2017-05    2017      3700\n",
       "2017-06    2017      3245\n",
       "2017-07    2017      4026\n",
       "2017-08    2017      4331\n",
       "2017-09    2017      4285\n",
       "2017-10    2017      4631\n",
       "2017-11    2017      7544\n",
       "2017-12    2017      5673\n",
       "2018-01    2018      7269\n",
       "2018-02    2018      6728\n",
       "2018-03    2018      7211\n",
       "2018-04    2018      6939\n",
       "2018-05    2018      6873\n",
       "2018-06    2018      6167\n",
       "2018-07    2018      6292\n",
       "2018-08    2018      6512\n",
       "2018-09    2018        16\n",
       "2018-10    2018         4"
      ]
     },
     "execution_count": 223,
     "metadata": {},
     "output_type": "execute_result"
    }
   ],
   "source": [
    "all_orders['date_purch']=pd.to_datetime(all_orders['order_purchase_timestamp']).dt.strftime('%Y-%m')\n",
    "all_orders['year']=all_orders['order_purchase_timestamp'].dt.year\n",
    "all_orders.groupby(['date_purch','year']).agg({'order_id':'count'}).sort_values('date_purch')"
   ]
  },
  {
   "cell_type": "markdown",
   "metadata": {},
   "source": [
    "Данные за весь год есть только в 2017. Поэтому отфильтруем df по нему"
   ]
  },
  {
   "cell_type": "code",
   "execution_count": 232,
   "metadata": {
    "scrolled": false
   },
   "outputs": [
    {
     "data": {
      "text/html": [
       "<style  type=\"text/css\" >\n",
       "#T_ecc3f0f0_382d_11ed_bdbb_96000040dfb6row0_col0,#T_ecc3f0f0_382d_11ed_bdbb_96000040dfb6row0_col3,#T_ecc3f0f0_382d_11ed_bdbb_96000040dfb6row0_col5,#T_ecc3f0f0_382d_11ed_bdbb_96000040dfb6row0_col7,#T_ecc3f0f0_382d_11ed_bdbb_96000040dfb6row0_col8,#T_ecc3f0f0_382d_11ed_bdbb_96000040dfb6row0_col11,#T_ecc3f0f0_382d_11ed_bdbb_96000040dfb6row1_col0,#T_ecc3f0f0_382d_11ed_bdbb_96000040dfb6row1_col1,#T_ecc3f0f0_382d_11ed_bdbb_96000040dfb6row1_col3,#T_ecc3f0f0_382d_11ed_bdbb_96000040dfb6row1_col5,#T_ecc3f0f0_382d_11ed_bdbb_96000040dfb6row1_col6,#T_ecc3f0f0_382d_11ed_bdbb_96000040dfb6row1_col10,#T_ecc3f0f0_382d_11ed_bdbb_96000040dfb6row2_col0,#T_ecc3f0f0_382d_11ed_bdbb_96000040dfb6row2_col4,#T_ecc3f0f0_382d_11ed_bdbb_96000040dfb6row2_col6,#T_ecc3f0f0_382d_11ed_bdbb_96000040dfb6row2_col9,#T_ecc3f0f0_382d_11ed_bdbb_96000040dfb6row3_col0,#T_ecc3f0f0_382d_11ed_bdbb_96000040dfb6row3_col2,#T_ecc3f0f0_382d_11ed_bdbb_96000040dfb6row3_col4,#T_ecc3f0f0_382d_11ed_bdbb_96000040dfb6row4_col0,#T_ecc3f0f0_382d_11ed_bdbb_96000040dfb6row4_col4,#T_ecc3f0f0_382d_11ed_bdbb_96000040dfb6row5_col0,#T_ecc3f0f0_382d_11ed_bdbb_96000040dfb6row5_col4,#T_ecc3f0f0_382d_11ed_bdbb_96000040dfb6row6_col0,#T_ecc3f0f0_382d_11ed_bdbb_96000040dfb6row6_col4,#T_ecc3f0f0_382d_11ed_bdbb_96000040dfb6row7_col0,#T_ecc3f0f0_382d_11ed_bdbb_96000040dfb6row8_col0,#T_ecc3f0f0_382d_11ed_bdbb_96000040dfb6row9_col0,#T_ecc3f0f0_382d_11ed_bdbb_96000040dfb6row9_col2,#T_ecc3f0f0_382d_11ed_bdbb_96000040dfb6row10_col0,#T_ecc3f0f0_382d_11ed_bdbb_96000040dfb6row11_col0{\n",
       "            background-color:  #fff5f0;\n",
       "            color:  #000000;\n",
       "        }#T_ecc3f0f0_382d_11ed_bdbb_96000040dfb6row0_col1{\n",
       "            background-color:  #fc8a6a;\n",
       "            color:  #000000;\n",
       "        }#T_ecc3f0f0_382d_11ed_bdbb_96000040dfb6row0_col2,#T_ecc3f0f0_382d_11ed_bdbb_96000040dfb6row1_col2,#T_ecc3f0f0_382d_11ed_bdbb_96000040dfb6row2_col5,#T_ecc3f0f0_382d_11ed_bdbb_96000040dfb6row3_col3,#T_ecc3f0f0_382d_11ed_bdbb_96000040dfb6row3_col6,#T_ecc3f0f0_382d_11ed_bdbb_96000040dfb6row6_col5,#T_ecc3f0f0_382d_11ed_bdbb_96000040dfb6row7_col2{\n",
       "            background-color:  #fca082;\n",
       "            color:  #000000;\n",
       "        }#T_ecc3f0f0_382d_11ed_bdbb_96000040dfb6row0_col4,#T_ecc3f0f0_382d_11ed_bdbb_96000040dfb6row0_col6,#T_ecc3f0f0_382d_11ed_bdbb_96000040dfb6row0_col10,#T_ecc3f0f0_382d_11ed_bdbb_96000040dfb6row1_col4,#T_ecc3f0f0_382d_11ed_bdbb_96000040dfb6row1_col9,#T_ecc3f0f0_382d_11ed_bdbb_96000040dfb6row2_col3,#T_ecc3f0f0_382d_11ed_bdbb_96000040dfb6row2_col7,#T_ecc3f0f0_382d_11ed_bdbb_96000040dfb6row2_col8,#T_ecc3f0f0_382d_11ed_bdbb_96000040dfb6row3_col7,#T_ecc3f0f0_382d_11ed_bdbb_96000040dfb6row3_col8,#T_ecc3f0f0_382d_11ed_bdbb_96000040dfb6row4_col2,#T_ecc3f0f0_382d_11ed_bdbb_96000040dfb6row4_col3,#T_ecc3f0f0_382d_11ed_bdbb_96000040dfb6row5_col3,#T_ecc3f0f0_382d_11ed_bdbb_96000040dfb6row5_col5,#T_ecc3f0f0_382d_11ed_bdbb_96000040dfb6row7_col1,#T_ecc3f0f0_382d_11ed_bdbb_96000040dfb6row7_col4,#T_ecc3f0f0_382d_11ed_bdbb_96000040dfb6row8_col1,#T_ecc3f0f0_382d_11ed_bdbb_96000040dfb6row8_col2,#T_ecc3f0f0_382d_11ed_bdbb_96000040dfb6row9_col1{\n",
       "            background-color:  #67000d;\n",
       "            color:  #f1f1f1;\n",
       "        }#T_ecc3f0f0_382d_11ed_bdbb_96000040dfb6row0_col9,#T_ecc3f0f0_382d_11ed_bdbb_96000040dfb6row2_col10,#T_ecc3f0f0_382d_11ed_bdbb_96000040dfb6row3_col9,#T_ecc3f0f0_382d_11ed_bdbb_96000040dfb6row3_col10,#T_ecc3f0f0_382d_11ed_bdbb_96000040dfb6row4_col8,#T_ecc3f0f0_382d_11ed_bdbb_96000040dfb6row4_col9,#T_ecc3f0f0_382d_11ed_bdbb_96000040dfb6row4_col10,#T_ecc3f0f0_382d_11ed_bdbb_96000040dfb6row5_col7,#T_ecc3f0f0_382d_11ed_bdbb_96000040dfb6row5_col8,#T_ecc3f0f0_382d_11ed_bdbb_96000040dfb6row5_col9,#T_ecc3f0f0_382d_11ed_bdbb_96000040dfb6row5_col10,#T_ecc3f0f0_382d_11ed_bdbb_96000040dfb6row6_col6,#T_ecc3f0f0_382d_11ed_bdbb_96000040dfb6row6_col7,#T_ecc3f0f0_382d_11ed_bdbb_96000040dfb6row6_col8,#T_ecc3f0f0_382d_11ed_bdbb_96000040dfb6row6_col9,#T_ecc3f0f0_382d_11ed_bdbb_96000040dfb6row6_col10,#T_ecc3f0f0_382d_11ed_bdbb_96000040dfb6row7_col5,#T_ecc3f0f0_382d_11ed_bdbb_96000040dfb6row7_col6,#T_ecc3f0f0_382d_11ed_bdbb_96000040dfb6row7_col7,#T_ecc3f0f0_382d_11ed_bdbb_96000040dfb6row7_col8,#T_ecc3f0f0_382d_11ed_bdbb_96000040dfb6row7_col9,#T_ecc3f0f0_382d_11ed_bdbb_96000040dfb6row7_col10,#T_ecc3f0f0_382d_11ed_bdbb_96000040dfb6row8_col4,#T_ecc3f0f0_382d_11ed_bdbb_96000040dfb6row8_col5,#T_ecc3f0f0_382d_11ed_bdbb_96000040dfb6row8_col6,#T_ecc3f0f0_382d_11ed_bdbb_96000040dfb6row8_col7,#T_ecc3f0f0_382d_11ed_bdbb_96000040dfb6row8_col8,#T_ecc3f0f0_382d_11ed_bdbb_96000040dfb6row8_col9,#T_ecc3f0f0_382d_11ed_bdbb_96000040dfb6row8_col10,#T_ecc3f0f0_382d_11ed_bdbb_96000040dfb6row9_col3,#T_ecc3f0f0_382d_11ed_bdbb_96000040dfb6row9_col4,#T_ecc3f0f0_382d_11ed_bdbb_96000040dfb6row9_col5,#T_ecc3f0f0_382d_11ed_bdbb_96000040dfb6row9_col6,#T_ecc3f0f0_382d_11ed_bdbb_96000040dfb6row9_col7,#T_ecc3f0f0_382d_11ed_bdbb_96000040dfb6row9_col8,#T_ecc3f0f0_382d_11ed_bdbb_96000040dfb6row9_col9,#T_ecc3f0f0_382d_11ed_bdbb_96000040dfb6row9_col10,#T_ecc3f0f0_382d_11ed_bdbb_96000040dfb6row10_col2,#T_ecc3f0f0_382d_11ed_bdbb_96000040dfb6row10_col3,#T_ecc3f0f0_382d_11ed_bdbb_96000040dfb6row10_col4,#T_ecc3f0f0_382d_11ed_bdbb_96000040dfb6row10_col5,#T_ecc3f0f0_382d_11ed_bdbb_96000040dfb6row10_col6,#T_ecc3f0f0_382d_11ed_bdbb_96000040dfb6row10_col7,#T_ecc3f0f0_382d_11ed_bdbb_96000040dfb6row10_col8,#T_ecc3f0f0_382d_11ed_bdbb_96000040dfb6row10_col9,#T_ecc3f0f0_382d_11ed_bdbb_96000040dfb6row10_col10,#T_ecc3f0f0_382d_11ed_bdbb_96000040dfb6row11_col1,#T_ecc3f0f0_382d_11ed_bdbb_96000040dfb6row11_col2,#T_ecc3f0f0_382d_11ed_bdbb_96000040dfb6row11_col3,#T_ecc3f0f0_382d_11ed_bdbb_96000040dfb6row11_col4,#T_ecc3f0f0_382d_11ed_bdbb_96000040dfb6row11_col5,#T_ecc3f0f0_382d_11ed_bdbb_96000040dfb6row11_col6,#T_ecc3f0f0_382d_11ed_bdbb_96000040dfb6row11_col7,#T_ecc3f0f0_382d_11ed_bdbb_96000040dfb6row11_col8,#T_ecc3f0f0_382d_11ed_bdbb_96000040dfb6row11_col9,#T_ecc3f0f0_382d_11ed_bdbb_96000040dfb6row11_col10{\n",
       "            background-color:  #000000;\n",
       "            color:  #f1f1f1;\n",
       "            background-color:  white;\n",
       "        }#T_ecc3f0f0_382d_11ed_bdbb_96000040dfb6row1_col7,#T_ecc3f0f0_382d_11ed_bdbb_96000040dfb6row1_col8,#T_ecc3f0f0_382d_11ed_bdbb_96000040dfb6row4_col7{\n",
       "            background-color:  #fb694a;\n",
       "            color:  #000000;\n",
       "        }#T_ecc3f0f0_382d_11ed_bdbb_96000040dfb6row1_col11,#T_ecc3f0f0_382d_11ed_bdbb_96000040dfb6row2_col11,#T_ecc3f0f0_382d_11ed_bdbb_96000040dfb6row3_col11,#T_ecc3f0f0_382d_11ed_bdbb_96000040dfb6row4_col11,#T_ecc3f0f0_382d_11ed_bdbb_96000040dfb6row5_col11,#T_ecc3f0f0_382d_11ed_bdbb_96000040dfb6row6_col11,#T_ecc3f0f0_382d_11ed_bdbb_96000040dfb6row7_col11,#T_ecc3f0f0_382d_11ed_bdbb_96000040dfb6row8_col11,#T_ecc3f0f0_382d_11ed_bdbb_96000040dfb6row9_col11,#T_ecc3f0f0_382d_11ed_bdbb_96000040dfb6row10_col11,#T_ecc3f0f0_382d_11ed_bdbb_96000040dfb6row11_col11{\n",
       "            background-color:  #fff5f0;\n",
       "            color:  #000000;\n",
       "            background-color:  white;\n",
       "        }#T_ecc3f0f0_382d_11ed_bdbb_96000040dfb6row2_col1,#T_ecc3f0f0_382d_11ed_bdbb_96000040dfb6row4_col1,#T_ecc3f0f0_382d_11ed_bdbb_96000040dfb6row5_col1,#T_ecc3f0f0_382d_11ed_bdbb_96000040dfb6row6_col1,#T_ecc3f0f0_382d_11ed_bdbb_96000040dfb6row10_col1{\n",
       "            background-color:  #f14432;\n",
       "            color:  #f1f1f1;\n",
       "        }#T_ecc3f0f0_382d_11ed_bdbb_96000040dfb6row2_col2,#T_ecc3f0f0_382d_11ed_bdbb_96000040dfb6row3_col5,#T_ecc3f0f0_382d_11ed_bdbb_96000040dfb6row4_col5,#T_ecc3f0f0_382d_11ed_bdbb_96000040dfb6row4_col6,#T_ecc3f0f0_382d_11ed_bdbb_96000040dfb6row5_col2,#T_ecc3f0f0_382d_11ed_bdbb_96000040dfb6row5_col6,#T_ecc3f0f0_382d_11ed_bdbb_96000040dfb6row6_col2,#T_ecc3f0f0_382d_11ed_bdbb_96000040dfb6row6_col3,#T_ecc3f0f0_382d_11ed_bdbb_96000040dfb6row7_col3,#T_ecc3f0f0_382d_11ed_bdbb_96000040dfb6row8_col3{\n",
       "            background-color:  #e32f27;\n",
       "            color:  #f1f1f1;\n",
       "        }#T_ecc3f0f0_382d_11ed_bdbb_96000040dfb6row3_col1{\n",
       "            background-color:  #bc141a;\n",
       "            color:  #f1f1f1;\n",
       "        }</style><table id=\"T_ecc3f0f0_382d_11ed_bdbb_96000040dfb6\" ><caption>Задача 5: Когортный анализ пользователей</caption><thead>    <tr>        <th class=\"index_name level0\" >period_number</th>        <th class=\"col_heading level0 col0\" >0</th>        <th class=\"col_heading level0 col1\" >1</th>        <th class=\"col_heading level0 col2\" >2</th>        <th class=\"col_heading level0 col3\" >3</th>        <th class=\"col_heading level0 col4\" >4</th>        <th class=\"col_heading level0 col5\" >5</th>        <th class=\"col_heading level0 col6\" >6</th>        <th class=\"col_heading level0 col7\" >7</th>        <th class=\"col_heading level0 col8\" >8</th>        <th class=\"col_heading level0 col9\" >9</th>        <th class=\"col_heading level0 col10\" >10</th>        <th class=\"col_heading level0 col11\" >11</th>    </tr>    <tr>        <th class=\"index_name level0\" >cohort</th>        <th class=\"blank\" ></th>        <th class=\"blank\" ></th>        <th class=\"blank\" ></th>        <th class=\"blank\" ></th>        <th class=\"blank\" ></th>        <th class=\"blank\" ></th>        <th class=\"blank\" ></th>        <th class=\"blank\" ></th>        <th class=\"blank\" ></th>        <th class=\"blank\" ></th>        <th class=\"blank\" ></th>        <th class=\"blank\" ></th>    </tr></thead><tbody>\n",
       "                <tr>\n",
       "                        <th id=\"T_ecc3f0f0_382d_11ed_bdbb_96000040dfb6level0_row0\" class=\"row_heading level0 row0\" >2017-01</th>\n",
       "                        <td id=\"T_ecc3f0f0_382d_11ed_bdbb_96000040dfb6row0_col0\" class=\"data row0 col0\" >100.00%</td>\n",
       "                        <td id=\"T_ecc3f0f0_382d_11ed_bdbb_96000040dfb6row0_col1\" class=\"data row0 col1\" >0.40%</td>\n",
       "                        <td id=\"T_ecc3f0f0_382d_11ed_bdbb_96000040dfb6row0_col2\" class=\"data row0 col2\" >0.30%</td>\n",
       "                        <td id=\"T_ecc3f0f0_382d_11ed_bdbb_96000040dfb6row0_col3\" class=\"data row0 col3\" >0.10%</td>\n",
       "                        <td id=\"T_ecc3f0f0_382d_11ed_bdbb_96000040dfb6row0_col4\" class=\"data row0 col4\" >0.40%</td>\n",
       "                        <td id=\"T_ecc3f0f0_382d_11ed_bdbb_96000040dfb6row0_col5\" class=\"data row0 col5\" >0.10%</td>\n",
       "                        <td id=\"T_ecc3f0f0_382d_11ed_bdbb_96000040dfb6row0_col6\" class=\"data row0 col6\" >0.50%</td>\n",
       "                        <td id=\"T_ecc3f0f0_382d_11ed_bdbb_96000040dfb6row0_col7\" class=\"data row0 col7\" >0.10%</td>\n",
       "                        <td id=\"T_ecc3f0f0_382d_11ed_bdbb_96000040dfb6row0_col8\" class=\"data row0 col8\" >0.10%</td>\n",
       "                        <td id=\"T_ecc3f0f0_382d_11ed_bdbb_96000040dfb6row0_col9\" class=\"data row0 col9\" ></td>\n",
       "                        <td id=\"T_ecc3f0f0_382d_11ed_bdbb_96000040dfb6row0_col10\" class=\"data row0 col10\" >0.40%</td>\n",
       "                        <td id=\"T_ecc3f0f0_382d_11ed_bdbb_96000040dfb6row0_col11\" class=\"data row0 col11\" >0.10%</td>\n",
       "            </tr>\n",
       "            <tr>\n",
       "                        <th id=\"T_ecc3f0f0_382d_11ed_bdbb_96000040dfb6level0_row1\" class=\"row_heading level0 row1\" >2017-02</th>\n",
       "                        <td id=\"T_ecc3f0f0_382d_11ed_bdbb_96000040dfb6row1_col0\" class=\"data row1 col0\" >100.00%</td>\n",
       "                        <td id=\"T_ecc3f0f0_382d_11ed_bdbb_96000040dfb6row1_col1\" class=\"data row1 col1\" >0.20%</td>\n",
       "                        <td id=\"T_ecc3f0f0_382d_11ed_bdbb_96000040dfb6row1_col2\" class=\"data row1 col2\" >0.30%</td>\n",
       "                        <td id=\"T_ecc3f0f0_382d_11ed_bdbb_96000040dfb6row1_col3\" class=\"data row1 col3\" >0.10%</td>\n",
       "                        <td id=\"T_ecc3f0f0_382d_11ed_bdbb_96000040dfb6row1_col4\" class=\"data row1 col4\" >0.40%</td>\n",
       "                        <td id=\"T_ecc3f0f0_382d_11ed_bdbb_96000040dfb6row1_col5\" class=\"data row1 col5\" >0.10%</td>\n",
       "                        <td id=\"T_ecc3f0f0_382d_11ed_bdbb_96000040dfb6row1_col6\" class=\"data row1 col6\" >0.20%</td>\n",
       "                        <td id=\"T_ecc3f0f0_382d_11ed_bdbb_96000040dfb6row1_col7\" class=\"data row1 col7\" >0.20%</td>\n",
       "                        <td id=\"T_ecc3f0f0_382d_11ed_bdbb_96000040dfb6row1_col8\" class=\"data row1 col8\" >0.20%</td>\n",
       "                        <td id=\"T_ecc3f0f0_382d_11ed_bdbb_96000040dfb6row1_col9\" class=\"data row1 col9\" >0.20%</td>\n",
       "                        <td id=\"T_ecc3f0f0_382d_11ed_bdbb_96000040dfb6row1_col10\" class=\"data row1 col10\" >0.10%</td>\n",
       "                        <td id=\"T_ecc3f0f0_382d_11ed_bdbb_96000040dfb6row1_col11\" class=\"data row1 col11\" ></td>\n",
       "            </tr>\n",
       "            <tr>\n",
       "                        <th id=\"T_ecc3f0f0_382d_11ed_bdbb_96000040dfb6level0_row2\" class=\"row_heading level0 row2\" >2017-03</th>\n",
       "                        <td id=\"T_ecc3f0f0_382d_11ed_bdbb_96000040dfb6row2_col0\" class=\"data row2 col0\" >100.00%</td>\n",
       "                        <td id=\"T_ecc3f0f0_382d_11ed_bdbb_96000040dfb6row2_col1\" class=\"data row2 col1\" >0.50%</td>\n",
       "                        <td id=\"T_ecc3f0f0_382d_11ed_bdbb_96000040dfb6row2_col2\" class=\"data row2 col2\" >0.40%</td>\n",
       "                        <td id=\"T_ecc3f0f0_382d_11ed_bdbb_96000040dfb6row2_col3\" class=\"data row2 col3\" >0.40%</td>\n",
       "                        <td id=\"T_ecc3f0f0_382d_11ed_bdbb_96000040dfb6row2_col4\" class=\"data row2 col4\" >0.30%</td>\n",
       "                        <td id=\"T_ecc3f0f0_382d_11ed_bdbb_96000040dfb6row2_col5\" class=\"data row2 col5\" >0.20%</td>\n",
       "                        <td id=\"T_ecc3f0f0_382d_11ed_bdbb_96000040dfb6row2_col6\" class=\"data row2 col6\" >0.20%</td>\n",
       "                        <td id=\"T_ecc3f0f0_382d_11ed_bdbb_96000040dfb6row2_col7\" class=\"data row2 col7\" >0.30%</td>\n",
       "                        <td id=\"T_ecc3f0f0_382d_11ed_bdbb_96000040dfb6row2_col8\" class=\"data row2 col8\" >0.30%</td>\n",
       "                        <td id=\"T_ecc3f0f0_382d_11ed_bdbb_96000040dfb6row2_col9\" class=\"data row2 col9\" >0.10%</td>\n",
       "                        <td id=\"T_ecc3f0f0_382d_11ed_bdbb_96000040dfb6row2_col10\" class=\"data row2 col10\" ></td>\n",
       "                        <td id=\"T_ecc3f0f0_382d_11ed_bdbb_96000040dfb6row2_col11\" class=\"data row2 col11\" ></td>\n",
       "            </tr>\n",
       "            <tr>\n",
       "                        <th id=\"T_ecc3f0f0_382d_11ed_bdbb_96000040dfb6level0_row3\" class=\"row_heading level0 row3\" >2017-04</th>\n",
       "                        <td id=\"T_ecc3f0f0_382d_11ed_bdbb_96000040dfb6row3_col0\" class=\"data row3 col0\" >100.00%</td>\n",
       "                        <td id=\"T_ecc3f0f0_382d_11ed_bdbb_96000040dfb6row3_col1\" class=\"data row3 col1\" >0.60%</td>\n",
       "                        <td id=\"T_ecc3f0f0_382d_11ed_bdbb_96000040dfb6row3_col2\" class=\"data row3 col2\" >0.20%</td>\n",
       "                        <td id=\"T_ecc3f0f0_382d_11ed_bdbb_96000040dfb6row3_col3\" class=\"data row3 col3\" >0.20%</td>\n",
       "                        <td id=\"T_ecc3f0f0_382d_11ed_bdbb_96000040dfb6row3_col4\" class=\"data row3 col4\" >0.30%</td>\n",
       "                        <td id=\"T_ecc3f0f0_382d_11ed_bdbb_96000040dfb6row3_col5\" class=\"data row3 col5\" >0.30%</td>\n",
       "                        <td id=\"T_ecc3f0f0_382d_11ed_bdbb_96000040dfb6row3_col6\" class=\"data row3 col6\" >0.30%</td>\n",
       "                        <td id=\"T_ecc3f0f0_382d_11ed_bdbb_96000040dfb6row3_col7\" class=\"data row3 col7\" >0.30%</td>\n",
       "                        <td id=\"T_ecc3f0f0_382d_11ed_bdbb_96000040dfb6row3_col8\" class=\"data row3 col8\" >0.30%</td>\n",
       "                        <td id=\"T_ecc3f0f0_382d_11ed_bdbb_96000040dfb6row3_col9\" class=\"data row3 col9\" ></td>\n",
       "                        <td id=\"T_ecc3f0f0_382d_11ed_bdbb_96000040dfb6row3_col10\" class=\"data row3 col10\" ></td>\n",
       "                        <td id=\"T_ecc3f0f0_382d_11ed_bdbb_96000040dfb6row3_col11\" class=\"data row3 col11\" ></td>\n",
       "            </tr>\n",
       "            <tr>\n",
       "                        <th id=\"T_ecc3f0f0_382d_11ed_bdbb_96000040dfb6level0_row4\" class=\"row_heading level0 row4\" >2017-05</th>\n",
       "                        <td id=\"T_ecc3f0f0_382d_11ed_bdbb_96000040dfb6row4_col0\" class=\"data row4 col0\" >100.00%</td>\n",
       "                        <td id=\"T_ecc3f0f0_382d_11ed_bdbb_96000040dfb6row4_col1\" class=\"data row4 col1\" >0.50%</td>\n",
       "                        <td id=\"T_ecc3f0f0_382d_11ed_bdbb_96000040dfb6row4_col2\" class=\"data row4 col2\" >0.50%</td>\n",
       "                        <td id=\"T_ecc3f0f0_382d_11ed_bdbb_96000040dfb6row4_col3\" class=\"data row4 col3\" >0.40%</td>\n",
       "                        <td id=\"T_ecc3f0f0_382d_11ed_bdbb_96000040dfb6row4_col4\" class=\"data row4 col4\" >0.30%</td>\n",
       "                        <td id=\"T_ecc3f0f0_382d_11ed_bdbb_96000040dfb6row4_col5\" class=\"data row4 col5\" >0.30%</td>\n",
       "                        <td id=\"T_ecc3f0f0_382d_11ed_bdbb_96000040dfb6row4_col6\" class=\"data row4 col6\" >0.40%</td>\n",
       "                        <td id=\"T_ecc3f0f0_382d_11ed_bdbb_96000040dfb6row4_col7\" class=\"data row4 col7\" >0.20%</td>\n",
       "                        <td id=\"T_ecc3f0f0_382d_11ed_bdbb_96000040dfb6row4_col8\" class=\"data row4 col8\" ></td>\n",
       "                        <td id=\"T_ecc3f0f0_382d_11ed_bdbb_96000040dfb6row4_col9\" class=\"data row4 col9\" ></td>\n",
       "                        <td id=\"T_ecc3f0f0_382d_11ed_bdbb_96000040dfb6row4_col10\" class=\"data row4 col10\" ></td>\n",
       "                        <td id=\"T_ecc3f0f0_382d_11ed_bdbb_96000040dfb6row4_col11\" class=\"data row4 col11\" ></td>\n",
       "            </tr>\n",
       "            <tr>\n",
       "                        <th id=\"T_ecc3f0f0_382d_11ed_bdbb_96000040dfb6level0_row5\" class=\"row_heading level0 row5\" >2017-06</th>\n",
       "                        <td id=\"T_ecc3f0f0_382d_11ed_bdbb_96000040dfb6row5_col0\" class=\"data row5 col0\" >100.00%</td>\n",
       "                        <td id=\"T_ecc3f0f0_382d_11ed_bdbb_96000040dfb6row5_col1\" class=\"data row5 col1\" >0.50%</td>\n",
       "                        <td id=\"T_ecc3f0f0_382d_11ed_bdbb_96000040dfb6row5_col2\" class=\"data row5 col2\" >0.40%</td>\n",
       "                        <td id=\"T_ecc3f0f0_382d_11ed_bdbb_96000040dfb6row5_col3\" class=\"data row5 col3\" >0.40%</td>\n",
       "                        <td id=\"T_ecc3f0f0_382d_11ed_bdbb_96000040dfb6row5_col4\" class=\"data row5 col4\" >0.30%</td>\n",
       "                        <td id=\"T_ecc3f0f0_382d_11ed_bdbb_96000040dfb6row5_col5\" class=\"data row5 col5\" >0.40%</td>\n",
       "                        <td id=\"T_ecc3f0f0_382d_11ed_bdbb_96000040dfb6row5_col6\" class=\"data row5 col6\" >0.40%</td>\n",
       "                        <td id=\"T_ecc3f0f0_382d_11ed_bdbb_96000040dfb6row5_col7\" class=\"data row5 col7\" ></td>\n",
       "                        <td id=\"T_ecc3f0f0_382d_11ed_bdbb_96000040dfb6row5_col8\" class=\"data row5 col8\" ></td>\n",
       "                        <td id=\"T_ecc3f0f0_382d_11ed_bdbb_96000040dfb6row5_col9\" class=\"data row5 col9\" ></td>\n",
       "                        <td id=\"T_ecc3f0f0_382d_11ed_bdbb_96000040dfb6row5_col10\" class=\"data row5 col10\" ></td>\n",
       "                        <td id=\"T_ecc3f0f0_382d_11ed_bdbb_96000040dfb6row5_col11\" class=\"data row5 col11\" ></td>\n",
       "            </tr>\n",
       "            <tr>\n",
       "                        <th id=\"T_ecc3f0f0_382d_11ed_bdbb_96000040dfb6level0_row6\" class=\"row_heading level0 row6\" >2017-07</th>\n",
       "                        <td id=\"T_ecc3f0f0_382d_11ed_bdbb_96000040dfb6row6_col0\" class=\"data row6 col0\" >100.00%</td>\n",
       "                        <td id=\"T_ecc3f0f0_382d_11ed_bdbb_96000040dfb6row6_col1\" class=\"data row6 col1\" >0.50%</td>\n",
       "                        <td id=\"T_ecc3f0f0_382d_11ed_bdbb_96000040dfb6row6_col2\" class=\"data row6 col2\" >0.40%</td>\n",
       "                        <td id=\"T_ecc3f0f0_382d_11ed_bdbb_96000040dfb6row6_col3\" class=\"data row6 col3\" >0.30%</td>\n",
       "                        <td id=\"T_ecc3f0f0_382d_11ed_bdbb_96000040dfb6row6_col4\" class=\"data row6 col4\" >0.30%</td>\n",
       "                        <td id=\"T_ecc3f0f0_382d_11ed_bdbb_96000040dfb6row6_col5\" class=\"data row6 col5\" >0.20%</td>\n",
       "                        <td id=\"T_ecc3f0f0_382d_11ed_bdbb_96000040dfb6row6_col6\" class=\"data row6 col6\" ></td>\n",
       "                        <td id=\"T_ecc3f0f0_382d_11ed_bdbb_96000040dfb6row6_col7\" class=\"data row6 col7\" ></td>\n",
       "                        <td id=\"T_ecc3f0f0_382d_11ed_bdbb_96000040dfb6row6_col8\" class=\"data row6 col8\" ></td>\n",
       "                        <td id=\"T_ecc3f0f0_382d_11ed_bdbb_96000040dfb6row6_col9\" class=\"data row6 col9\" ></td>\n",
       "                        <td id=\"T_ecc3f0f0_382d_11ed_bdbb_96000040dfb6row6_col10\" class=\"data row6 col10\" ></td>\n",
       "                        <td id=\"T_ecc3f0f0_382d_11ed_bdbb_96000040dfb6row6_col11\" class=\"data row6 col11\" ></td>\n",
       "            </tr>\n",
       "            <tr>\n",
       "                        <th id=\"T_ecc3f0f0_382d_11ed_bdbb_96000040dfb6level0_row7\" class=\"row_heading level0 row7\" >2017-08</th>\n",
       "                        <td id=\"T_ecc3f0f0_382d_11ed_bdbb_96000040dfb6row7_col0\" class=\"data row7 col0\" >100.00%</td>\n",
       "                        <td id=\"T_ecc3f0f0_382d_11ed_bdbb_96000040dfb6row7_col1\" class=\"data row7 col1\" >0.70%</td>\n",
       "                        <td id=\"T_ecc3f0f0_382d_11ed_bdbb_96000040dfb6row7_col2\" class=\"data row7 col2\" >0.30%</td>\n",
       "                        <td id=\"T_ecc3f0f0_382d_11ed_bdbb_96000040dfb6row7_col3\" class=\"data row7 col3\" >0.30%</td>\n",
       "                        <td id=\"T_ecc3f0f0_382d_11ed_bdbb_96000040dfb6row7_col4\" class=\"data row7 col4\" >0.40%</td>\n",
       "                        <td id=\"T_ecc3f0f0_382d_11ed_bdbb_96000040dfb6row7_col5\" class=\"data row7 col5\" ></td>\n",
       "                        <td id=\"T_ecc3f0f0_382d_11ed_bdbb_96000040dfb6row7_col6\" class=\"data row7 col6\" ></td>\n",
       "                        <td id=\"T_ecc3f0f0_382d_11ed_bdbb_96000040dfb6row7_col7\" class=\"data row7 col7\" ></td>\n",
       "                        <td id=\"T_ecc3f0f0_382d_11ed_bdbb_96000040dfb6row7_col8\" class=\"data row7 col8\" ></td>\n",
       "                        <td id=\"T_ecc3f0f0_382d_11ed_bdbb_96000040dfb6row7_col9\" class=\"data row7 col9\" ></td>\n",
       "                        <td id=\"T_ecc3f0f0_382d_11ed_bdbb_96000040dfb6row7_col10\" class=\"data row7 col10\" ></td>\n",
       "                        <td id=\"T_ecc3f0f0_382d_11ed_bdbb_96000040dfb6row7_col11\" class=\"data row7 col11\" ></td>\n",
       "            </tr>\n",
       "            <tr>\n",
       "                        <th id=\"T_ecc3f0f0_382d_11ed_bdbb_96000040dfb6level0_row8\" class=\"row_heading level0 row8\" >2017-09</th>\n",
       "                        <td id=\"T_ecc3f0f0_382d_11ed_bdbb_96000040dfb6row8_col0\" class=\"data row8 col0\" >100.00%</td>\n",
       "                        <td id=\"T_ecc3f0f0_382d_11ed_bdbb_96000040dfb6row8_col1\" class=\"data row8 col1\" >0.70%</td>\n",
       "                        <td id=\"T_ecc3f0f0_382d_11ed_bdbb_96000040dfb6row8_col2\" class=\"data row8 col2\" >0.50%</td>\n",
       "                        <td id=\"T_ecc3f0f0_382d_11ed_bdbb_96000040dfb6row8_col3\" class=\"data row8 col3\" >0.30%</td>\n",
       "                        <td id=\"T_ecc3f0f0_382d_11ed_bdbb_96000040dfb6row8_col4\" class=\"data row8 col4\" ></td>\n",
       "                        <td id=\"T_ecc3f0f0_382d_11ed_bdbb_96000040dfb6row8_col5\" class=\"data row8 col5\" ></td>\n",
       "                        <td id=\"T_ecc3f0f0_382d_11ed_bdbb_96000040dfb6row8_col6\" class=\"data row8 col6\" ></td>\n",
       "                        <td id=\"T_ecc3f0f0_382d_11ed_bdbb_96000040dfb6row8_col7\" class=\"data row8 col7\" ></td>\n",
       "                        <td id=\"T_ecc3f0f0_382d_11ed_bdbb_96000040dfb6row8_col8\" class=\"data row8 col8\" ></td>\n",
       "                        <td id=\"T_ecc3f0f0_382d_11ed_bdbb_96000040dfb6row8_col9\" class=\"data row8 col9\" ></td>\n",
       "                        <td id=\"T_ecc3f0f0_382d_11ed_bdbb_96000040dfb6row8_col10\" class=\"data row8 col10\" ></td>\n",
       "                        <td id=\"T_ecc3f0f0_382d_11ed_bdbb_96000040dfb6row8_col11\" class=\"data row8 col11\" ></td>\n",
       "            </tr>\n",
       "            <tr>\n",
       "                        <th id=\"T_ecc3f0f0_382d_11ed_bdbb_96000040dfb6level0_row9\" class=\"row_heading level0 row9\" >2017-10</th>\n",
       "                        <td id=\"T_ecc3f0f0_382d_11ed_bdbb_96000040dfb6row9_col0\" class=\"data row9 col0\" >100.00%</td>\n",
       "                        <td id=\"T_ecc3f0f0_382d_11ed_bdbb_96000040dfb6row9_col1\" class=\"data row9 col1\" >0.70%</td>\n",
       "                        <td id=\"T_ecc3f0f0_382d_11ed_bdbb_96000040dfb6row9_col2\" class=\"data row9 col2\" >0.20%</td>\n",
       "                        <td id=\"T_ecc3f0f0_382d_11ed_bdbb_96000040dfb6row9_col3\" class=\"data row9 col3\" ></td>\n",
       "                        <td id=\"T_ecc3f0f0_382d_11ed_bdbb_96000040dfb6row9_col4\" class=\"data row9 col4\" ></td>\n",
       "                        <td id=\"T_ecc3f0f0_382d_11ed_bdbb_96000040dfb6row9_col5\" class=\"data row9 col5\" ></td>\n",
       "                        <td id=\"T_ecc3f0f0_382d_11ed_bdbb_96000040dfb6row9_col6\" class=\"data row9 col6\" ></td>\n",
       "                        <td id=\"T_ecc3f0f0_382d_11ed_bdbb_96000040dfb6row9_col7\" class=\"data row9 col7\" ></td>\n",
       "                        <td id=\"T_ecc3f0f0_382d_11ed_bdbb_96000040dfb6row9_col8\" class=\"data row9 col8\" ></td>\n",
       "                        <td id=\"T_ecc3f0f0_382d_11ed_bdbb_96000040dfb6row9_col9\" class=\"data row9 col9\" ></td>\n",
       "                        <td id=\"T_ecc3f0f0_382d_11ed_bdbb_96000040dfb6row9_col10\" class=\"data row9 col10\" ></td>\n",
       "                        <td id=\"T_ecc3f0f0_382d_11ed_bdbb_96000040dfb6row9_col11\" class=\"data row9 col11\" ></td>\n",
       "            </tr>\n",
       "            <tr>\n",
       "                        <th id=\"T_ecc3f0f0_382d_11ed_bdbb_96000040dfb6level0_row10\" class=\"row_heading level0 row10\" >2017-11</th>\n",
       "                        <td id=\"T_ecc3f0f0_382d_11ed_bdbb_96000040dfb6row10_col0\" class=\"data row10 col0\" >100.00%</td>\n",
       "                        <td id=\"T_ecc3f0f0_382d_11ed_bdbb_96000040dfb6row10_col1\" class=\"data row10 col1\" >0.50%</td>\n",
       "                        <td id=\"T_ecc3f0f0_382d_11ed_bdbb_96000040dfb6row10_col2\" class=\"data row10 col2\" ></td>\n",
       "                        <td id=\"T_ecc3f0f0_382d_11ed_bdbb_96000040dfb6row10_col3\" class=\"data row10 col3\" ></td>\n",
       "                        <td id=\"T_ecc3f0f0_382d_11ed_bdbb_96000040dfb6row10_col4\" class=\"data row10 col4\" ></td>\n",
       "                        <td id=\"T_ecc3f0f0_382d_11ed_bdbb_96000040dfb6row10_col5\" class=\"data row10 col5\" ></td>\n",
       "                        <td id=\"T_ecc3f0f0_382d_11ed_bdbb_96000040dfb6row10_col6\" class=\"data row10 col6\" ></td>\n",
       "                        <td id=\"T_ecc3f0f0_382d_11ed_bdbb_96000040dfb6row10_col7\" class=\"data row10 col7\" ></td>\n",
       "                        <td id=\"T_ecc3f0f0_382d_11ed_bdbb_96000040dfb6row10_col8\" class=\"data row10 col8\" ></td>\n",
       "                        <td id=\"T_ecc3f0f0_382d_11ed_bdbb_96000040dfb6row10_col9\" class=\"data row10 col9\" ></td>\n",
       "                        <td id=\"T_ecc3f0f0_382d_11ed_bdbb_96000040dfb6row10_col10\" class=\"data row10 col10\" ></td>\n",
       "                        <td id=\"T_ecc3f0f0_382d_11ed_bdbb_96000040dfb6row10_col11\" class=\"data row10 col11\" ></td>\n",
       "            </tr>\n",
       "            <tr>\n",
       "                        <th id=\"T_ecc3f0f0_382d_11ed_bdbb_96000040dfb6level0_row11\" class=\"row_heading level0 row11\" >2017-12</th>\n",
       "                        <td id=\"T_ecc3f0f0_382d_11ed_bdbb_96000040dfb6row11_col0\" class=\"data row11 col0\" >100.00%</td>\n",
       "                        <td id=\"T_ecc3f0f0_382d_11ed_bdbb_96000040dfb6row11_col1\" class=\"data row11 col1\" ></td>\n",
       "                        <td id=\"T_ecc3f0f0_382d_11ed_bdbb_96000040dfb6row11_col2\" class=\"data row11 col2\" ></td>\n",
       "                        <td id=\"T_ecc3f0f0_382d_11ed_bdbb_96000040dfb6row11_col3\" class=\"data row11 col3\" ></td>\n",
       "                        <td id=\"T_ecc3f0f0_382d_11ed_bdbb_96000040dfb6row11_col4\" class=\"data row11 col4\" ></td>\n",
       "                        <td id=\"T_ecc3f0f0_382d_11ed_bdbb_96000040dfb6row11_col5\" class=\"data row11 col5\" ></td>\n",
       "                        <td id=\"T_ecc3f0f0_382d_11ed_bdbb_96000040dfb6row11_col6\" class=\"data row11 col6\" ></td>\n",
       "                        <td id=\"T_ecc3f0f0_382d_11ed_bdbb_96000040dfb6row11_col7\" class=\"data row11 col7\" ></td>\n",
       "                        <td id=\"T_ecc3f0f0_382d_11ed_bdbb_96000040dfb6row11_col8\" class=\"data row11 col8\" ></td>\n",
       "                        <td id=\"T_ecc3f0f0_382d_11ed_bdbb_96000040dfb6row11_col9\" class=\"data row11 col9\" ></td>\n",
       "                        <td id=\"T_ecc3f0f0_382d_11ed_bdbb_96000040dfb6row11_col10\" class=\"data row11 col10\" ></td>\n",
       "                        <td id=\"T_ecc3f0f0_382d_11ed_bdbb_96000040dfb6row11_col11\" class=\"data row11 col11\" ></td>\n",
       "            </tr>\n",
       "    </tbody></table>"
      ],
      "text/plain": [
       "<pandas.io.formats.style.Styler at 0x7f0046b1b748>"
      ]
     },
     "execution_count": 232,
     "metadata": {},
     "output_type": "execute_result"
    }
   ],
   "source": [
    "from operator import attrgetter\n",
    "\n",
    "# Готовим df к когортному анализу (оставляем только нужные столбцы)\n",
    "df_to_cohort = all_orders.query('year==2017').copy()\n",
    "# Преобразуем дату заказа в формат год-месяц-день\n",
    "df_to_cohort['date']=pd.to_datetime(df_to_cohort['order_purchase_timestamp'].dt.strftime('%Y-%m-%d'))\n",
    "df_to_cohort['order_month']=pd.to_datetime(df_to_cohort['order_purchase_timestamp']).dt.to_period('M')\n",
    "df_to_cohort['cohort']= (df_to_cohort.groupby('customer_unique_id')[\"date\"].transform('min')).dt.to_period('M')\n",
    "df_to_cohort = df_to_cohort[['order_id','order_month','customer_unique_id','cohort']]\n",
    "df_to_cohort = df_to_cohort.groupby(['cohort', 'order_month']).agg(n_customers=('customer_unique_id', 'nunique')).reset_index(drop=False)\n",
    "df_to_cohort['period_number'] = (df_to_cohort.order_month - df_to_cohort.cohort).apply(attrgetter('n'))\n",
    "cohort_pivot = df_to_cohort.pivot_table(index = 'cohort',\n",
    "                                     columns = 'period_number',\n",
    "                                     values = 'n_customers')\n",
    "cohort_size = cohort_pivot.iloc[:,0]\n",
    "retention = cohort_pivot.divide(cohort_size , axis = 0).round(3)\n",
    "\n",
    "ur_style = (retention\n",
    "            .style\n",
    "            .set_caption('Задача 5: Когортный анализ пользователей')  # добавляем подпись\n",
    "            .background_gradient(cmap='Reds')  # раскрашиваем ячейки по столбцам\n",
    "            .highlight_null('white')  # делаем белый фон для значений NaN\n",
    "            .format(\"{:.2%}\", na_rep=\"\"))  # числа форматируем как проценты, NaN заменяем на пустоту\n",
    "ur_style"
   ]
  },
  {
   "cell_type": "markdown",
   "metadata": {},
   "source": [
    "Находим когорту с самым высоким retention на 3й месяц"
   ]
  },
  {
   "cell_type": "code",
   "execution_count": 264,
   "metadata": {},
   "outputs": [
    {
     "data": {
      "text/plain": [
       "cohort\n",
       "2017-03    0.004\n",
       "2017-05    0.004\n",
       "2017-06    0.004\n",
       "Freq: M, Name: 3, dtype: float64"
      ]
     },
     "execution_count": 264,
     "metadata": {},
     "output_type": "execute_result"
    }
   ],
   "source": [
    "maximum = retention[3].max()\n",
    "retention.loc[retention[3]==maximum][3]"
   ]
  },
  {
   "cell_type": "markdown",
   "metadata": {},
   "source": [
    "## 6. Часто для качественного анализа аудитории использую подходы, основанные на сегментации. Используя python, построй RFM-сегментацию пользователей, чтобы качественно оценить свою аудиторию. В кластеризации можешь выбрать следующие метрики: R - время от последней покупки пользователя до текущей даты, F - суммарное количество покупок у пользователя за всё время, M - сумма покупок за всё время. Подробно опиши, как ты создавал кластеры. Для каждого RFM-сегмента построй границы метрик recency, frequency и monetary для интерпретации этих кластеров. Пример такого описания: RFM-сегмент 132 (recency=1, frequency=3, monetary=2) имеет границы метрик recency от 130 до 500 дней, frequency от 2 до 5 заказов в неделю, monetary от 1780 до 3560 рублей в неделю. Описание подхода можно найти тут."
   ]
  },
  {
   "cell_type": "code",
   "execution_count": 268,
   "metadata": {},
   "outputs": [],
   "source": [
    "sum_f_orders=items_df.groupby('order_id',as_index=False).agg({'price':'sum'})\n",
    "# Получаем df c суммами по заказам\n",
    "# Пристыковываем суммы по заказам к основной df\n",
    "all_orders = pd.merge(all_orders,sum_f_orders[['order_id','price']],how='left',on='order_id')"
   ]
  },
  {
   "cell_type": "code",
   "execution_count": 275,
   "metadata": {
    "scrolled": true
   },
   "outputs": [
    {
     "data": {
      "text/html": [
       "<div>\n",
       "<style scoped>\n",
       "    .dataframe tbody tr th:only-of-type {\n",
       "        vertical-align: middle;\n",
       "    }\n",
       "\n",
       "    .dataframe tbody tr th {\n",
       "        vertical-align: top;\n",
       "    }\n",
       "\n",
       "    .dataframe thead th {\n",
       "        text-align: right;\n",
       "    }\n",
       "</style>\n",
       "<table border=\"1\" class=\"dataframe\">\n",
       "  <thead>\n",
       "    <tr style=\"text-align: right;\">\n",
       "      <th></th>\n",
       "      <th>index</th>\n",
       "      <th>customer_unique_id</th>\n",
       "      <th>recency</th>\n",
       "      <th>frequency</th>\n",
       "      <th>monetary</th>\n",
       "    </tr>\n",
       "  </thead>\n",
       "  <tbody>\n",
       "    <tr>\n",
       "      <th>0</th>\n",
       "      <td>0</td>\n",
       "      <td>0000366f3b9a7992bf8c76cfdf3221e2</td>\n",
       "      <td>161</td>\n",
       "      <td>1</td>\n",
       "      <td>129.90</td>\n",
       "    </tr>\n",
       "    <tr>\n",
       "      <th>1</th>\n",
       "      <td>1</td>\n",
       "      <td>0000b849f77a49e4a4ce2b2a4ca5be3f</td>\n",
       "      <td>164</td>\n",
       "      <td>1</td>\n",
       "      <td>18.90</td>\n",
       "    </tr>\n",
       "    <tr>\n",
       "      <th>2</th>\n",
       "      <td>2</td>\n",
       "      <td>0000f46a3911fa3c0805444483337064</td>\n",
       "      <td>586</td>\n",
       "      <td>1</td>\n",
       "      <td>69.00</td>\n",
       "    </tr>\n",
       "    <tr>\n",
       "      <th>3</th>\n",
       "      <td>3</td>\n",
       "      <td>0000f6ccb0745a6a4b88665a16c9f078</td>\n",
       "      <td>370</td>\n",
       "      <td>1</td>\n",
       "      <td>25.99</td>\n",
       "    </tr>\n",
       "    <tr>\n",
       "      <th>4</th>\n",
       "      <td>4</td>\n",
       "      <td>0004aac84e0df4da2b147fca70cf8255</td>\n",
       "      <td>337</td>\n",
       "      <td>1</td>\n",
       "      <td>180.00</td>\n",
       "    </tr>\n",
       "    <tr>\n",
       "      <th>...</th>\n",
       "      <td>...</td>\n",
       "      <td>...</td>\n",
       "      <td>...</td>\n",
       "      <td>...</td>\n",
       "      <td>...</td>\n",
       "    </tr>\n",
       "    <tr>\n",
       "      <th>96091</th>\n",
       "      <td>96091</td>\n",
       "      <td>fffcf5a5ff07b0908bd4e2dbc735a684</td>\n",
       "      <td>496</td>\n",
       "      <td>1</td>\n",
       "      <td>1570.00</td>\n",
       "    </tr>\n",
       "    <tr>\n",
       "      <th>96092</th>\n",
       "      <td>96092</td>\n",
       "      <td>fffea47cd6d3cc0a88bd621562a9d061</td>\n",
       "      <td>311</td>\n",
       "      <td>1</td>\n",
       "      <td>64.89</td>\n",
       "    </tr>\n",
       "    <tr>\n",
       "      <th>96093</th>\n",
       "      <td>96093</td>\n",
       "      <td>ffff371b4d645b6ecea244b27531430a</td>\n",
       "      <td>618</td>\n",
       "      <td>1</td>\n",
       "      <td>89.90</td>\n",
       "    </tr>\n",
       "    <tr>\n",
       "      <th>96094</th>\n",
       "      <td>96094</td>\n",
       "      <td>ffff5962728ec6157033ef9805bacc48</td>\n",
       "      <td>169</td>\n",
       "      <td>1</td>\n",
       "      <td>115.00</td>\n",
       "    </tr>\n",
       "    <tr>\n",
       "      <th>96095</th>\n",
       "      <td>96095</td>\n",
       "      <td>ffffd2657e2aad2907e67c3e9daecbeb</td>\n",
       "      <td>533</td>\n",
       "      <td>1</td>\n",
       "      <td>56.99</td>\n",
       "    </tr>\n",
       "  </tbody>\n",
       "</table>\n",
       "<p>96096 rows × 5 columns</p>\n",
       "</div>"
      ],
      "text/plain": [
       "       index                customer_unique_id  recency  frequency  monetary\n",
       "0          0  0000366f3b9a7992bf8c76cfdf3221e2      161          1    129.90\n",
       "1          1  0000b849f77a49e4a4ce2b2a4ca5be3f      164          1     18.90\n",
       "2          2  0000f46a3911fa3c0805444483337064      586          1     69.00\n",
       "3          3  0000f6ccb0745a6a4b88665a16c9f078      370          1     25.99\n",
       "4          4  0004aac84e0df4da2b147fca70cf8255      337          1    180.00\n",
       "...      ...                               ...      ...        ...       ...\n",
       "96091  96091  fffcf5a5ff07b0908bd4e2dbc735a684      496          1   1570.00\n",
       "96092  96092  fffea47cd6d3cc0a88bd621562a9d061      311          1     64.89\n",
       "96093  96093  ffff371b4d645b6ecea244b27531430a      618          1     89.90\n",
       "96094  96094  ffff5962728ec6157033ef9805bacc48      169          1    115.00\n",
       "96095  96095  ffffd2657e2aad2907e67c3e9daecbeb      533          1     56.99\n",
       "\n",
       "[96096 rows x 5 columns]"
      ]
     },
     "execution_count": 275,
     "metadata": {},
     "output_type": "execute_result"
    }
   ],
   "source": [
    "# Оставляем только нужные колонки из df\n",
    "orders_to_rfm = all_orders[['order_id','customer_unique_id','order_purchase_timestamp','price']].copy()\n",
    "# Создаем колонку последней даты, относительно нее будем считать Recency\n",
    "now = orders_to_rfm.order_purchase_timestamp.max()+timedelta(days=1)\n",
    "# Для каждого заказа считаем кол-во прошедших дней\n",
    "orders_to_rfm['days_since_order'] = orders_to_rfm['order_purchase_timestamp'].apply(lambda x: (now - x).days)\n",
    "# Группируем df по клиенту и рассяитываем r-f-m\n",
    "# Recency - время от последней покупки до текущей даты (now)\n",
    "# Frequency - кол-во заказов на пользователя\n",
    "# Monetary - сумма от всех заказов клиента\n",
    "rfm_df = orders_to_rfm.groupby('customer_unique_id', as_index=False)\\\n",
    "                        .agg(recency=('days_since_order','min'),frequency = ('order_id','nunique'),monetary = ('price','sum'))\\\n",
    "                        .reset_index()\n",
    "# Для разделения в Recency и Monetary используем qcut , чтобы разделить базовые данные на интервалы равного размера. Эта Функция определяет интервалы с использованием\n",
    "# процентилей на основе распределения данных, а не фактических числовых границ интервалов."
   ]
  },
  {
   "cell_type": "code",
   "execution_count": 283,
   "metadata": {},
   "outputs": [
    {
     "data": {
      "text/plain": [
       "1          93099\n",
       "2           2745\n",
       "3            203\n",
       "5             38\n",
       "более 5       10\n",
       "Name: q_f, dtype: int64"
      ]
     },
     "execution_count": 283,
     "metadata": {},
     "output_type": "execute_result"
    }
   ],
   "source": [
    "# Для разделения в Recency и Monetary используем qcut , чтобы разделить базовые данные на интервалы равного размера. Эта Функция определяет интервалы с использованием\n",
    "# процентилей на основе распределения данных, а не фактических числовых границ интервалов.\n",
    "\n",
    "labels_r = ['0-143','144-228','229-318','319-434','более 434']\n",
    "rfm_df['q_r']=pd.qcut(rfm_df['recency'], q=5, precision=0,labels = labels_r)\n",
    "\n",
    "labels_m = ['0-39','40-69','70-110','111-180','более 180']\n",
    "rfm_df['q_m']= pd.qcut(rfm_df['monetary'], q=5, precision=0,labels = labels_m)\n",
    "\n",
    "# # Для разделения в Frequency будем использовать метод pd.cut с пользовательскими bins, потому что данные нельзя поделить на \n",
    "# # интервалы равного размера.\n",
    "labels_f = ['1', '2','3', '5', 'более 5']\n",
    "cut_bins = [0, 1, 2, 3, 5, 15]\n",
    "rfm_df['q_f'] = pd.cut(rfm_df['frequency'], bins=cut_bins, labels = labels_f)"
   ]
  },
  {
   "cell_type": "code",
   "execution_count": 284,
   "metadata": {},
   "outputs": [
    {
     "data": {
      "text/html": [
       "<div>\n",
       "<style scoped>\n",
       "    .dataframe tbody tr th:only-of-type {\n",
       "        vertical-align: middle;\n",
       "    }\n",
       "\n",
       "    .dataframe tbody tr th {\n",
       "        vertical-align: top;\n",
       "    }\n",
       "\n",
       "    .dataframe thead th {\n",
       "        text-align: right;\n",
       "    }\n",
       "</style>\n",
       "<table border=\"1\" class=\"dataframe\">\n",
       "  <thead>\n",
       "    <tr style=\"text-align: right;\">\n",
       "      <th></th>\n",
       "      <th>index</th>\n",
       "      <th>customer_unique_id</th>\n",
       "      <th>recency</th>\n",
       "      <th>frequency</th>\n",
       "      <th>monetary</th>\n",
       "      <th>q_m</th>\n",
       "      <th>q_r</th>\n",
       "      <th>q_f</th>\n",
       "      <th>R</th>\n",
       "      <th>M</th>\n",
       "      <th>F</th>\n",
       "      <th>RFM_score</th>\n",
       "    </tr>\n",
       "  </thead>\n",
       "  <tbody>\n",
       "    <tr>\n",
       "      <th>0</th>\n",
       "      <td>0</td>\n",
       "      <td>0000366f3b9a7992bf8c76cfdf3221e2</td>\n",
       "      <td>161</td>\n",
       "      <td>1</td>\n",
       "      <td>129.90</td>\n",
       "      <td>111-180</td>\n",
       "      <td>144-228</td>\n",
       "      <td>1</td>\n",
       "      <td>4</td>\n",
       "      <td>4</td>\n",
       "      <td>1</td>\n",
       "      <td>414</td>\n",
       "    </tr>\n",
       "    <tr>\n",
       "      <th>1</th>\n",
       "      <td>1</td>\n",
       "      <td>0000b849f77a49e4a4ce2b2a4ca5be3f</td>\n",
       "      <td>164</td>\n",
       "      <td>1</td>\n",
       "      <td>18.90</td>\n",
       "      <td>0-39</td>\n",
       "      <td>144-228</td>\n",
       "      <td>1</td>\n",
       "      <td>4</td>\n",
       "      <td>1</td>\n",
       "      <td>1</td>\n",
       "      <td>411</td>\n",
       "    </tr>\n",
       "    <tr>\n",
       "      <th>2</th>\n",
       "      <td>2</td>\n",
       "      <td>0000f46a3911fa3c0805444483337064</td>\n",
       "      <td>586</td>\n",
       "      <td>1</td>\n",
       "      <td>69.00</td>\n",
       "      <td>40-69</td>\n",
       "      <td>более 434</td>\n",
       "      <td>1</td>\n",
       "      <td>1</td>\n",
       "      <td>2</td>\n",
       "      <td>1</td>\n",
       "      <td>112</td>\n",
       "    </tr>\n",
       "    <tr>\n",
       "      <th>3</th>\n",
       "      <td>3</td>\n",
       "      <td>0000f6ccb0745a6a4b88665a16c9f078</td>\n",
       "      <td>370</td>\n",
       "      <td>1</td>\n",
       "      <td>25.99</td>\n",
       "      <td>0-39</td>\n",
       "      <td>319-434</td>\n",
       "      <td>1</td>\n",
       "      <td>2</td>\n",
       "      <td>1</td>\n",
       "      <td>1</td>\n",
       "      <td>211</td>\n",
       "    </tr>\n",
       "    <tr>\n",
       "      <th>4</th>\n",
       "      <td>4</td>\n",
       "      <td>0004aac84e0df4da2b147fca70cf8255</td>\n",
       "      <td>337</td>\n",
       "      <td>1</td>\n",
       "      <td>180.00</td>\n",
       "      <td>более 180</td>\n",
       "      <td>319-434</td>\n",
       "      <td>1</td>\n",
       "      <td>2</td>\n",
       "      <td>5</td>\n",
       "      <td>1</td>\n",
       "      <td>215</td>\n",
       "    </tr>\n",
       "  </tbody>\n",
       "</table>\n",
       "</div>"
      ],
      "text/plain": [
       "   index                customer_unique_id  recency  frequency  monetary  \\\n",
       "0      0  0000366f3b9a7992bf8c76cfdf3221e2      161          1    129.90   \n",
       "1      1  0000b849f77a49e4a4ce2b2a4ca5be3f      164          1     18.90   \n",
       "2      2  0000f46a3911fa3c0805444483337064      586          1     69.00   \n",
       "3      3  0000f6ccb0745a6a4b88665a16c9f078      370          1     25.99   \n",
       "4      4  0004aac84e0df4da2b147fca70cf8255      337          1    180.00   \n",
       "\n",
       "         q_m        q_r q_f  R  M  F RFM_score  \n",
       "0    111-180    144-228   1  4  4  1       414  \n",
       "1       0-39    144-228   1  4  1  1       411  \n",
       "2      40-69  более 434   1  1  2  1       112  \n",
       "3       0-39    319-434   1  2  1  1       211  \n",
       "4  более 180    319-434   1  2  5  1       215  "
      ]
     },
     "execution_count": 284,
     "metadata": {},
     "output_type": "execute_result"
    }
   ],
   "source": [
    "# Теперь присвоим ранги нашим группам по (q_r,q_m,q_f) \n",
    "# от 1 до 4. Чем меньше значение Recency, тем лучше, тогда как более высокие значения Frequency и Monetary лучше. \n",
    "rfm_df['R'] = np.where(rfm_df['q_r']== '0-143','5',\n",
    "                       np.where(rfm_df['q_r']=='144-228',\n",
    "                        '4',\n",
    "                            np.where(rfm_df['q_r']=='229-318',\n",
    "                            '3',\n",
    "                                np.where(rfm_df['q_r']=='319-434','2',\n",
    "                                         np.where(rfm_df['q_r']=='более 434','1','False'))))\n",
    "                      \n",
    "                      )\n",
    "rfm_df['M'] = np.where(rfm_df['q_m']== '0-39','1',\n",
    "                       np.where(rfm_df['q_m']=='40-69',\n",
    "                        '2',\n",
    "                            np.where(rfm_df['q_m']=='70-110',\n",
    "                            '3',\n",
    "                                np.where(rfm_df['q_m']=='111-180','4',\n",
    "                                         np.where(rfm_df['q_m']=='более 180','5','False'))))\n",
    "                      \n",
    "                      )\n",
    "rfm_df['F'] = np.where(rfm_df['q_f']== '1','1',\n",
    "                       np.where(rfm_df['q_f']=='2',\n",
    "                        '2',\n",
    "                            np.where(rfm_df['q_f']=='3',\n",
    "                            '3',\n",
    "                                np.where(rfm_df['q_f']=='5','4',\n",
    "                                         np.where(rfm_df['q_f']=='более 5','5',\n",
    "                                         'False'))))\n",
    "                      \n",
    "                      )\n",
    "# Создаем колонку общего рейтинга\n",
    "rfm_df['RFM_score']= rfm_df.R.astype('str') + rfm_df.F.astype('str') + rfm_df.M.astype('str')\n",
    "\n",
    "rfm_df.head(5)"
   ]
  },
  {
   "cell_type": "code",
   "execution_count": 285,
   "metadata": {},
   "outputs": [
    {
     "data": {
      "text/html": [
       "<div>\n",
       "<style scoped>\n",
       "    .dataframe tbody tr th:only-of-type {\n",
       "        vertical-align: middle;\n",
       "    }\n",
       "\n",
       "    .dataframe tbody tr th {\n",
       "        vertical-align: top;\n",
       "    }\n",
       "\n",
       "    .dataframe thead th {\n",
       "        text-align: right;\n",
       "    }\n",
       "</style>\n",
       "<table border=\"1\" class=\"dataframe\">\n",
       "  <thead>\n",
       "    <tr style=\"text-align: right;\">\n",
       "      <th></th>\n",
       "      <th>index</th>\n",
       "      <th>customer_unique_id</th>\n",
       "      <th>recency</th>\n",
       "      <th>frequency</th>\n",
       "      <th>monetary</th>\n",
       "      <th>q_m</th>\n",
       "      <th>q_r</th>\n",
       "      <th>q_f</th>\n",
       "      <th>R</th>\n",
       "      <th>M</th>\n",
       "      <th>F</th>\n",
       "      <th>RFM_score</th>\n",
       "      <th>Segment</th>\n",
       "    </tr>\n",
       "  </thead>\n",
       "  <tbody>\n",
       "    <tr>\n",
       "      <th>0</th>\n",
       "      <td>0</td>\n",
       "      <td>0000366f3b9a7992bf8c76cfdf3221e2</td>\n",
       "      <td>161</td>\n",
       "      <td>1</td>\n",
       "      <td>129.90</td>\n",
       "      <td>111-180</td>\n",
       "      <td>144-228</td>\n",
       "      <td>1</td>\n",
       "      <td>4</td>\n",
       "      <td>4</td>\n",
       "      <td>1</td>\n",
       "      <td>414</td>\n",
       "      <td>promising</td>\n",
       "    </tr>\n",
       "    <tr>\n",
       "      <th>1</th>\n",
       "      <td>1</td>\n",
       "      <td>0000b849f77a49e4a4ce2b2a4ca5be3f</td>\n",
       "      <td>164</td>\n",
       "      <td>1</td>\n",
       "      <td>18.90</td>\n",
       "      <td>0-39</td>\n",
       "      <td>144-228</td>\n",
       "      <td>1</td>\n",
       "      <td>4</td>\n",
       "      <td>1</td>\n",
       "      <td>1</td>\n",
       "      <td>411</td>\n",
       "      <td>promising</td>\n",
       "    </tr>\n",
       "    <tr>\n",
       "      <th>2</th>\n",
       "      <td>2</td>\n",
       "      <td>0000f46a3911fa3c0805444483337064</td>\n",
       "      <td>586</td>\n",
       "      <td>1</td>\n",
       "      <td>69.00</td>\n",
       "      <td>40-69</td>\n",
       "      <td>более 434</td>\n",
       "      <td>1</td>\n",
       "      <td>1</td>\n",
       "      <td>2</td>\n",
       "      <td>1</td>\n",
       "      <td>112</td>\n",
       "      <td>hibernating</td>\n",
       "    </tr>\n",
       "    <tr>\n",
       "      <th>3</th>\n",
       "      <td>3</td>\n",
       "      <td>0000f6ccb0745a6a4b88665a16c9f078</td>\n",
       "      <td>370</td>\n",
       "      <td>1</td>\n",
       "      <td>25.99</td>\n",
       "      <td>0-39</td>\n",
       "      <td>319-434</td>\n",
       "      <td>1</td>\n",
       "      <td>2</td>\n",
       "      <td>1</td>\n",
       "      <td>1</td>\n",
       "      <td>211</td>\n",
       "      <td>hibernating</td>\n",
       "    </tr>\n",
       "    <tr>\n",
       "      <th>4</th>\n",
       "      <td>4</td>\n",
       "      <td>0004aac84e0df4da2b147fca70cf8255</td>\n",
       "      <td>337</td>\n",
       "      <td>1</td>\n",
       "      <td>180.00</td>\n",
       "      <td>более 180</td>\n",
       "      <td>319-434</td>\n",
       "      <td>1</td>\n",
       "      <td>2</td>\n",
       "      <td>5</td>\n",
       "      <td>1</td>\n",
       "      <td>215</td>\n",
       "      <td>hibernating</td>\n",
       "    </tr>\n",
       "  </tbody>\n",
       "</table>\n",
       "</div>"
      ],
      "text/plain": [
       "   index                customer_unique_id  recency  frequency  monetary  \\\n",
       "0      0  0000366f3b9a7992bf8c76cfdf3221e2      161          1    129.90   \n",
       "1      1  0000b849f77a49e4a4ce2b2a4ca5be3f      164          1     18.90   \n",
       "2      2  0000f46a3911fa3c0805444483337064      586          1     69.00   \n",
       "3      3  0000f6ccb0745a6a4b88665a16c9f078      370          1     25.99   \n",
       "4      4  0004aac84e0df4da2b147fca70cf8255      337          1    180.00   \n",
       "\n",
       "         q_m        q_r q_f  R  M  F RFM_score      Segment  \n",
       "0    111-180    144-228   1  4  4  1       414    promising  \n",
       "1       0-39    144-228   1  4  1  1       411    promising  \n",
       "2      40-69  более 434   1  1  2  1       112  hibernating  \n",
       "3       0-39    319-434   1  2  1  1       211  hibernating  \n",
       "4  более 180    319-434   1  2  5  1       215  hibernating  "
      ]
     },
     "execution_count": 285,
     "metadata": {},
     "output_type": "execute_result"
    }
   ],
   "source": [
    "# Создадим справочник с описанием групп клиентов на основе R и F рейтинга. Названия сегментов взято \n",
    "# из https://guillaume-martin.github.io/rfm-segmentation-with-python.html\n",
    "segt_map = {\n",
    "    r'[1-2][1-2]': 'hibernating',\n",
    "    r'[1-2][3-4]': 'at risk',\n",
    "    r'[1-2]5': 'can\\'t loose',\n",
    "    r'3[1-2]': 'about to sleep',\n",
    "    r'33': 'need attention',\n",
    "    r'[3-4][4-5]': 'loyal customers',\n",
    "    r'41': 'promising',\n",
    "    r'51': 'new customers',\n",
    "    r'[4-5][2-3]': 'potential loyalists',\n",
    "    r'5[4-5]': 'champions'\n",
    "}\n",
    "\n",
    "rfm_df['Segment'] = rfm_df['R'].map(str) + rfm_df['F'].map(str)\n",
    "rfm_df['Segment'] = rfm_df['Segment'].replace(segt_map, regex=True)\n",
    "rfm_df.head()"
   ]
  },
  {
   "cell_type": "code",
   "execution_count": 286,
   "metadata": {},
   "outputs": [
    {
     "data": {
      "image/png": "[encoded data removed]",
      "text/plain": [
       "<Figure size 1440x504 with 1 Axes>"
      ]
     },
     "metadata": {},
     "output_type": "display_data"
    }
   ],
   "source": [
    "# Визуализируем количество клиентов по сегментам\n",
    "segments_counts = rfm_df['Segment'].value_counts().sort_values(ascending=True)\n",
    "\n",
    "fig, ax = plt.subplots()\n",
    "\n",
    "bars = ax.barh(range(len(segments_counts)),\n",
    "              segments_counts,\n",
    "              color='silver')\n",
    "ax.set_frame_on(False)\n",
    "ax.tick_params(left=False,\n",
    "               bottom=False,\n",
    "               labelbottom=False)\n",
    "ax.set_yticks(range(len(segments_counts)))\n",
    "ax.set_yticklabels(segments_counts.index)\n",
    "\n",
    "for i, bar in enumerate(bars):\n",
    "        value = bar.get_width()\n",
    "        if segments_counts.index[i] in ['champions', 'loyal customers']:\n",
    "            bar.set_color('firebrick')\n",
    "        ax.text(value,\n",
    "                bar.get_y() + bar.get_height()/2,\n",
    "                '{:,} ({:}%)'.format(int(value),\n",
    "                                   int(value*100/segments_counts.sum())),\n",
    "                va='center',\n",
    "                ha='left'\n",
    "               )\n",
    "\n",
    "plt.show()"
   ]
  },
  {
   "cell_type": "code",
   "execution_count": null,
   "metadata": {},
   "outputs": [],
   "source": []
  }
 ],
 "metadata": {
  "kernelspec": {
   "display_name": "Python 3",
   "language": "python",
   "name": "python3"
  },
  "language_info": {
   "codemirror_mode": {
    "name": "ipython",
    "version": 3
   },
   "file_extension": ".py",
   "mimetype": "text/x-python",
   "name": "python",
   "nbconvert_exporter": "python",
   "pygments_lexer": "ipython3",
   "version": "3.10.5"
  },
  "vscode": {
   "interpreter": {
    "hash": "7d227307573182e7eb4933960ecea043318599972f7d112e98e16162745c432b"
   }
  }
 },
 "nbformat": 4,
 "nbformat_minor": 4
}
