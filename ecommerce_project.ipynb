{
 "cells": [
  {
   "attachments": {},
   "cell_type": "markdown",
   "metadata": {},
   "source": [
    "# Проект e-commerce: Анализ совершенных покупок в интернет-магазине"
   ]
  },
  {
   "cell_type": "markdown",
   "metadata": {},
   "source": [
    "### 1. Подготовка к работе"
   ]
  },
  {
   "cell_type": "code",
   "execution_count": 91,
   "metadata": {},
   "outputs": [],
   "source": [
    "# Подгружаем данные\n",
    "\n",
    "import pandas as pd \n",
    "import requests \n",
    "import numpy as np\n",
    "import matplotlib.pyplot as plt\n",
    "%matplotlib inline \n",
    "\n",
    "import seaborn as sns\n",
    "from urllib.parse import urlencode \n",
    "from datetime import timedelta\n",
    "import datetime as dt\n",
    "from operator import attrgetter\n",
    "from utils import download_data "
   ]
  },
  {
   "cell_type": "code",
   "execution_count": 2,
   "metadata": {},
   "outputs": [],
   "source": [
    "# Подготавливаем общие настройки для графиков\n",
    "\n",
    "sns.set(\n",
    "    rc={\n",
    "        \"figure.figsize\": (12, 8), #размер графика - 12 дюймов в ширину, 8 в длину\n",
    "        \"axes.titlesize\": 20, #размер заголовка \n",
    "        \"axes.labelsize\": 14, #размер подписей осей\n",
    "        \"xtick.labelsize\": 13, #размер подписей чёрточек на x-оси\n",
    "        \"ytick.labelsize\": 13, #размер подписей чёрточек на y-оси\n",
    "    }\n",
    ")\n",
    "\n",
    "sns.set_style(\"whitegrid\") #тема фона, белая со штриховкой\n",
    "\n",
    "%matplotlib inline \n",
    "#масштабируемые диаграммы"
   ]
  },
  {
   "cell_type": "markdown",
   "metadata": {},
   "source": [
    "#### 2. Загрузка данных\n",
    "\n",
    "2.1. В таблице заказов  **olist_orders_dataset.csv** имеется следующая информация:\n",
    "* order_id —  уникальный идентификатор заказа (номер чека)\n",
    "* customer_id —  позаказный идентификатор пользователя\n",
    "* order_status —  статус заказа\n",
    "  * created —  создан\n",
    "  * invoiced —  выставлен счёт\n",
    "  * approved —  подтверждён\n",
    "  * processing —  в процессе сборки заказа\n",
    "  * shipped —  отгружен со склада\n",
    "  * delivered —  доставлен пользователю\n",
    "  * unavailable —  недоступен\n",
    "  * canceled —  отменён\n",
    "* order_purchase_timestamp —  время создания заказа\n",
    "* order_approved_at —  время подтверждения оплаты заказа\n",
    "* order_delivered_carrier_date —  время передачи заказа в логистическую службу\n",
    "* order_delivered_customer_date —  время доставки заказа\n",
    "* order_estimated_delivery_date —  обещанная дата доставки"
   ]
  },
  {
   "cell_type": "code",
   "execution_count": 3,
   "metadata": {},
   "outputs": [],
   "source": [
    "# Получаем таблицу с заказами\n",
    "orders_df = download_data(public_key= 'https://disk.yandex.ru/d/ZhGseD1Wxb77jQ', \n",
    "              local_path= '/home/xeha/projects/ecommerce_project/db/olist_orders_dataset.csv', \n",
    "              separ = ',',\n",
    "              parse_date= ['order_purchase_timestamp','order_approved_at','order_delivered_carrier_date','order_delivered_customer_date','order_estimated_delivery_date'] \n",
    "              )"
   ]
  },
  {
   "cell_type": "markdown",
   "metadata": {},
   "source": [
    "2.2. В таблице товарные позиции, входящие в заказы  **olist_order_items_dataset.csv** имеется следующая информация:\n",
    "* order_id —  уникальный идентификатор заказа (номер чека)\n",
    "* order_item_id —  идентификатор товара внутри одного заказа\n",
    "* product_id —  ид товара (аналог штрихкода)\n",
    "* seller_id — ид производителя товара\n",
    "* shipping_limit_date —  максимальная дата доставки продавцом для передачи заказа партнеру по логистике\n",
    "* price —  цена за единицу товара\n",
    "* freight_value —  вес товара"
   ]
  },
  {
   "cell_type": "code",
   "execution_count": 4,
   "metadata": {},
   "outputs": [],
   "source": [
    "# Получаем таблицу с товараными позициями, входящими в заказы\n",
    "items_df = download_data(public_key= 'https://disk.yandex.ru/d/G2W6YkBrUDO87A', \n",
    "              local_path= '/home/xeha/projects/ecommerce_project/db/olist_order_items_dataset.csv', \n",
    "              separ = ',',\n",
    "              parse_date=['shipping_limit_date'])"
   ]
  },
  {
   "cell_type": "markdown",
   "metadata": {},
   "source": [
    "2.3. В таблице с уникальными идентификаторами пользователей  **olist_customers_dataset.csv** имеется следующая информация:\n",
    "* customer_id — позаказный идентификатор пользователя\n",
    "* customer_unique_id —  уникальный идентификатор пользователя  (аналог номера паспорта)\n",
    "* customer_zip_code_prefix —  почтовый индекс пользователя\n",
    "* customer_city —  город доставки пользователя\n",
    "* customer_state —  штат доставки пользователя"
   ]
  },
  {
   "cell_type": "code",
   "execution_count": 5,
   "metadata": {},
   "outputs": [],
   "source": [
    "clients_df = download_data(public_key= 'https://disk.yandex.ru/d/Pnf8VyFce0uWDA', \n",
    "              local_path= '/home/xeha/projects/ecommerce_project/db/olist_customers_dataset.csv', \n",
    "              separ = ','\n",
    "              )"
   ]
  },
  {
   "cell_type": "markdown",
   "metadata": {},
   "source": [
    "#### 3. Проведем EDA\n",
    "Рассмотрим базовую информацию по датафреймам: \n",
    "* Описатательную статистику\n",
    "* Проверим на дубликаты\n",
    "* Проверим на n/a\n"
   ]
  },
  {
   "cell_type": "markdown",
   "metadata": {},
   "source": [
    "3.1. EDA таблица заказы"
   ]
  },
  {
   "cell_type": "code",
   "execution_count": 6,
   "metadata": {},
   "outputs": [
    {
     "name": "stdout",
     "output_type": "stream",
     "text": [
      "<class 'pandas.core.frame.DataFrame'>\n",
      "RangeIndex: 99441 entries, 0 to 99440\n",
      "Data columns (total 8 columns):\n",
      " #   Column                         Non-Null Count  Dtype         \n",
      "---  ------                         --------------  -----         \n",
      " 0   order_id                       99441 non-null  object        \n",
      " 1   customer_id                    99441 non-null  object        \n",
      " 2   order_status                   99441 non-null  object        \n",
      " 3   order_purchase_timestamp       99441 non-null  datetime64[ns]\n",
      " 4   order_approved_at              99281 non-null  datetime64[ns]\n",
      " 5   order_delivered_carrier_date   97658 non-null  datetime64[ns]\n",
      " 6   order_delivered_customer_date  96476 non-null  datetime64[ns]\n",
      " 7   order_estimated_delivery_date  99441 non-null  datetime64[ns]\n",
      "dtypes: datetime64[ns](5), object(3)\n",
      "memory usage: 6.1+ MB\n"
     ]
    }
   ],
   "source": [
    "orders_df.info()"
   ]
  },
  {
   "cell_type": "code",
   "execution_count": 7,
   "metadata": {},
   "outputs": [
    {
     "name": "stdout",
     "output_type": "stream",
     "text": [
      "Столбец не содержит дубликаты\n"
     ]
    }
   ],
   "source": [
    "#  Проверка наличия дубликатов в столбце order_id\n",
    "is_duplicate = orders_df['order_id'].duplicated().any()\n",
    "\n",
    "if is_duplicate:\n",
    "    print(\"Столбец содержит дубликаты\")\n",
    "else:\n",
    "    print(\"Столбец не содержит дубликаты\")"
   ]
  },
  {
   "cell_type": "code",
   "execution_count": 8,
   "metadata": {},
   "outputs": [
    {
     "data": {
      "image/png": "[encoded data removed]",
      "text/plain": [
       "<Figure size 1200x800 with 1 Axes>"
      ]
     },
     "metadata": {},
     "output_type": "display_data"
    }
   ],
   "source": [
    "#  Подсчет нулевых значений в каждой колонке\n",
    "null_values = orders_df.isnull().sum()\n",
    "# Нормализация значений\n",
    "# # Оставляем только колонки, где есть нулевые значения\n",
    "null_values = null_values[null_values>0]\n",
    "# Преобразование Series в DataFrame для построения графика\n",
    "null_values_df = pd.DataFrame(null_values, columns=['count_nulls']).rename_axis('column_name').reset_index()\n",
    "# Выводим общее количество строк\n",
    "total_cells_orders = orders_df.shape[0]\n",
    "# Считаем % нулевых значений ко всем\n",
    "null_values_df['percent_of_total'] = (null_values_df.count_nulls/total_cells_orders)*100\n",
    "\n",
    "# Создаем график с подсчетом нулевых значений по столбцам\n",
    "sns.barplot(data=null_values_df, x='column_name', y='percent_of_total')\n",
    "plt.xticks(rotation=60)  # Установка угла поворота в градусах\n",
    "# Задание заголовка графика\n",
    "plt.title('% нулевых значений в столбцах df orders')\n",
    "plt.show()\n"
   ]
  },
  {
   "cell_type": "code",
   "execution_count": 9,
   "metadata": {},
   "outputs": [
    {
     "data": {
      "text/plain": [
       "delivered      97.02\n",
       "shipped         1.11\n",
       "canceled        0.63\n",
       "unavailable     0.61\n",
       "invoiced        0.32\n",
       "processing      0.30\n",
       "created         0.01\n",
       "approved        0.00\n",
       "Name: percent_of_status, dtype: float64"
      ]
     },
     "execution_count": 9,
     "metadata": {},
     "output_type": "execute_result"
    }
   ],
   "source": [
    "# Посмотрим на заказы с точки зрения их фактических статусов в % соотношении \n",
    "percent_of_status = orders_df.order_status.value_counts(normalize=True).mul(100).round(2)\n",
    "percent_of_status = pd.Series(percent_of_status, name='percent_of_status')\n",
    "percent_of_status "
   ]
  },
  {
   "cell_type": "markdown",
   "metadata": {},
   "source": [
    "Рассмотрм подробнее заказы со статусом \"delivered\". Сколько времени занимает переход заказа от статуса к статусу"
   ]
  },
  {
   "cell_type": "code",
   "execution_count": 10,
   "metadata": {},
   "outputs": [
    {
     "data": {
      "text/html": [
       "<div>\n",
       "<style scoped>\n",
       "    .dataframe tbody tr th:only-of-type {\n",
       "        vertical-align: middle;\n",
       "    }\n",
       "\n",
       "    .dataframe tbody tr th {\n",
       "        vertical-align: top;\n",
       "    }\n",
       "\n",
       "    .dataframe thead th {\n",
       "        text-align: right;\n",
       "    }\n",
       "</style>\n",
       "<table border=\"1\" class=\"dataframe\">\n",
       "  <thead>\n",
       "    <tr style=\"text-align: right;\">\n",
       "      <th></th>\n",
       "      <th>purchased_approved</th>\n",
       "      <th>approved_deliveredcarrier</th>\n",
       "      <th>deliveredcarrier_deliveredcustomer</th>\n",
       "    </tr>\n",
       "  </thead>\n",
       "  <tbody>\n",
       "    <tr>\n",
       "      <th>count</th>\n",
       "      <td>96455</td>\n",
       "      <td>96455</td>\n",
       "      <td>96455</td>\n",
       "    </tr>\n",
       "    <tr>\n",
       "      <th>mean</th>\n",
       "      <td>0 days 10:16:39.727904204</td>\n",
       "      <td>2 days 19:10:37.798424135</td>\n",
       "      <td>9 days 07:55:47.128391477</td>\n",
       "    </tr>\n",
       "    <tr>\n",
       "      <th>std</th>\n",
       "      <td>0 days 20:32:10.134771828</td>\n",
       "      <td>3 days 12:53:31.746860544</td>\n",
       "      <td>8 days 18:15:07.511611066</td>\n",
       "    </tr>\n",
       "    <tr>\n",
       "      <th>min</th>\n",
       "      <td>0 days 00:00:00</td>\n",
       "      <td>-172 days +18:44:38</td>\n",
       "      <td>-17 days +21:41:31</td>\n",
       "    </tr>\n",
       "    <tr>\n",
       "      <th>25%</th>\n",
       "      <td>0 days 00:12:55</td>\n",
       "      <td>0 days 20:58:51.500000</td>\n",
       "      <td>4 days 02:23:31.500000</td>\n",
       "    </tr>\n",
       "    <tr>\n",
       "      <th>50%</th>\n",
       "      <td>0 days 00:20:36</td>\n",
       "      <td>1 days 19:34:46</td>\n",
       "      <td>7 days 02:23:34</td>\n",
       "    </tr>\n",
       "    <tr>\n",
       "      <th>75%</th>\n",
       "      <td>0 days 14:31:02.500000</td>\n",
       "      <td>3 days 13:47:54</td>\n",
       "      <td>12 days 00:41:55.500000</td>\n",
       "    </tr>\n",
       "    <tr>\n",
       "      <th>max</th>\n",
       "      <td>30 days 21:26:37</td>\n",
       "      <td>125 days 18:18:06</td>\n",
       "      <td>205 days 04:35:00</td>\n",
       "    </tr>\n",
       "  </tbody>\n",
       "</table>\n",
       "</div>"
      ],
      "text/plain": [
       "              purchased_approved  approved_deliveredcarrier  \\\n",
       "count                      96455                      96455   \n",
       "mean   0 days 10:16:39.727904204  2 days 19:10:37.798424135   \n",
       "std    0 days 20:32:10.134771828  3 days 12:53:31.746860544   \n",
       "min              0 days 00:00:00        -172 days +18:44:38   \n",
       "25%              0 days 00:12:55     0 days 20:58:51.500000   \n",
       "50%              0 days 00:20:36            1 days 19:34:46   \n",
       "75%       0 days 14:31:02.500000            3 days 13:47:54   \n",
       "max             30 days 21:26:37          125 days 18:18:06   \n",
       "\n",
       "      deliveredcarrier_deliveredcustomer  \n",
       "count                              96455  \n",
       "mean           9 days 07:55:47.128391477  \n",
       "std            8 days 18:15:07.511611066  \n",
       "min                   -17 days +21:41:31  \n",
       "25%               4 days 02:23:31.500000  \n",
       "50%                      7 days 02:23:34  \n",
       "75%              12 days 00:41:55.500000  \n",
       "max                    205 days 04:35:00  "
      ]
     },
     "execution_count": 10,
     "metadata": {},
     "output_type": "execute_result"
    }
   ],
   "source": [
    "# отфильтруем df с заказами по статусу \"доставлен\"\n",
    "delivered_df = orders_df.query('order_status==\"delivered\"')\n",
    "# уберем пустые значения из колонок с датами\n",
    "delivered_df = delivered_df[delivered_df['order_approved_at'].notna() & \n",
    "                delivered_df['order_delivered_carrier_date'].notna() &\n",
    "                delivered_df['order_delivered_customer_date'].notna() \n",
    "                ]\n",
    "# Посмотрим на описательную статистику времени перехода заказа от статуса к статусу.\n",
    "# Кол-во времени для перехода от: \n",
    "# Оплачен -> Подтвержден\n",
    "delivered_df ['purchased_approved'] = (delivered_df.order_approved_at-delivered_df.order_purchase_timestamp)\n",
    "# Подтвержден -> Доставлен в лог.службу\n",
    "delivered_df['approved_deliveredcarrier'] = (delivered_df.order_delivered_carrier_date-delivered_df.order_approved_at)\n",
    "# Из лог.службы -> Доставлен клиенту\n",
    "delivered_df['deliveredcarrier_deliveredcustomer'] = (delivered_df.order_delivered_customer_date - delivered_df.order_delivered_carrier_date)\n",
    "# Оставляем только нужные колонки и смотрим на описательную статистику\n",
    "delivered_df[['order_id','order_status','purchased_approved','approved_deliveredcarrier','deliveredcarrier_deliveredcustomer']].describe(include='timedelta')"
   ]
  },
  {
   "cell_type": "markdown",
   "metadata": {},
   "source": [
    "**Вывод:** Присутствие отрицательных значений уже после отсечки пустых значений, свидетельствует об ошибках внесения данных в бд (логика событий нарушена. Например: подтверждение заказа происходит позднее, чем его доставка в логистическую службу или доставка клиенту наступает раньше, чем доставка в логистическую службу)"
   ]
  },
  {
   "cell_type": "code",
   "execution_count": 11,
   "metadata": {},
   "outputs": [
    {
     "data": {
      "text/plain": [
       "' Вывод: Количесвто доставленных заказов с ошибкой в данных 1.43 %'"
      ]
     },
     "execution_count": 11,
     "metadata": {},
     "output_type": "execute_result"
    }
   ],
   "source": [
    "# Посчитаем количество доставленных заказов с ошибкой в данных\n",
    "valid_orders = delivered_df[(delivered_df['approved_deliveredcarrier']> pd.Timedelta(seconds=0))\n",
    "             & (delivered_df['deliveredcarrier_deliveredcustomer']> pd.Timedelta(seconds=0))\n",
    "             ].shape[0]\n",
    "all_orders = delivered_df.shape[0]\n",
    "percent_of_errors = round( ((all_orders - valid_orders)/all_orders*100),2)\n",
    "f' Вывод: Количесвто доставленных заказов с ошибкой в данных {percent_of_errors} %'"
   ]
  },
  {
   "cell_type": "markdown",
   "metadata": {},
   "source": [
    "3.2. EDA таблица товароы"
   ]
  },
  {
   "cell_type": "code",
   "execution_count": 12,
   "metadata": {},
   "outputs": [
    {
     "name": "stdout",
     "output_type": "stream",
     "text": [
      "<class 'pandas.core.frame.DataFrame'>\n",
      "RangeIndex: 112650 entries, 0 to 112649\n",
      "Data columns (total 7 columns):\n",
      " #   Column               Non-Null Count   Dtype         \n",
      "---  ------               --------------   -----         \n",
      " 0   order_id             112650 non-null  object        \n",
      " 1   order_item_id        112650 non-null  int64         \n",
      " 2   product_id           112650 non-null  object        \n",
      " 3   seller_id            112650 non-null  object        \n",
      " 4   shipping_limit_date  112650 non-null  datetime64[ns]\n",
      " 5   price                112650 non-null  float64       \n",
      " 6   freight_value        112650 non-null  float64       \n",
      "dtypes: datetime64[ns](1), float64(2), int64(1), object(3)\n",
      "memory usage: 6.0+ MB\n"
     ]
    }
   ],
   "source": [
    "items_df.info()"
   ]
  },
  {
   "cell_type": "code",
   "execution_count": 13,
   "metadata": {},
   "outputs": [
    {
     "data": {
      "text/html": [
       "<div>\n",
       "<style scoped>\n",
       "    .dataframe tbody tr th:only-of-type {\n",
       "        vertical-align: middle;\n",
       "    }\n",
       "\n",
       "    .dataframe tbody tr th {\n",
       "        vertical-align: top;\n",
       "    }\n",
       "\n",
       "    .dataframe thead th {\n",
       "        text-align: right;\n",
       "    }\n",
       "</style>\n",
       "<table border=\"1\" class=\"dataframe\">\n",
       "  <thead>\n",
       "    <tr style=\"text-align: right;\">\n",
       "      <th></th>\n",
       "      <th>order_item_id</th>\n",
       "      <th>price</th>\n",
       "      <th>freight_value</th>\n",
       "    </tr>\n",
       "  </thead>\n",
       "  <tbody>\n",
       "    <tr>\n",
       "      <th>count</th>\n",
       "      <td>112650.000000</td>\n",
       "      <td>112650.000000</td>\n",
       "      <td>112650.000000</td>\n",
       "    </tr>\n",
       "    <tr>\n",
       "      <th>mean</th>\n",
       "      <td>1.197834</td>\n",
       "      <td>120.653739</td>\n",
       "      <td>19.990320</td>\n",
       "    </tr>\n",
       "    <tr>\n",
       "      <th>std</th>\n",
       "      <td>0.705124</td>\n",
       "      <td>183.633928</td>\n",
       "      <td>15.806405</td>\n",
       "    </tr>\n",
       "    <tr>\n",
       "      <th>min</th>\n",
       "      <td>1.000000</td>\n",
       "      <td>0.850000</td>\n",
       "      <td>0.000000</td>\n",
       "    </tr>\n",
       "    <tr>\n",
       "      <th>25%</th>\n",
       "      <td>1.000000</td>\n",
       "      <td>39.900000</td>\n",
       "      <td>13.080000</td>\n",
       "    </tr>\n",
       "    <tr>\n",
       "      <th>50%</th>\n",
       "      <td>1.000000</td>\n",
       "      <td>74.990000</td>\n",
       "      <td>16.260000</td>\n",
       "    </tr>\n",
       "    <tr>\n",
       "      <th>75%</th>\n",
       "      <td>1.000000</td>\n",
       "      <td>134.900000</td>\n",
       "      <td>21.150000</td>\n",
       "    </tr>\n",
       "    <tr>\n",
       "      <th>max</th>\n",
       "      <td>21.000000</td>\n",
       "      <td>6735.000000</td>\n",
       "      <td>409.680000</td>\n",
       "    </tr>\n",
       "  </tbody>\n",
       "</table>\n",
       "</div>"
      ],
      "text/plain": [
       "       order_item_id          price  freight_value\n",
       "count  112650.000000  112650.000000  112650.000000\n",
       "mean        1.197834     120.653739      19.990320\n",
       "std         0.705124     183.633928      15.806405\n",
       "min         1.000000       0.850000       0.000000\n",
       "25%         1.000000      39.900000      13.080000\n",
       "50%         1.000000      74.990000      16.260000\n",
       "75%         1.000000     134.900000      21.150000\n",
       "max        21.000000    6735.000000     409.680000"
      ]
     },
     "execution_count": 13,
     "metadata": {},
     "output_type": "execute_result"
    }
   ],
   "source": [
    "items_df.describe()"
   ]
  },
  {
   "cell_type": "code",
   "execution_count": 14,
   "metadata": {},
   "outputs": [
    {
     "data": {
      "text/plain": [
       "' количество заказов в таблице товаров = 98666, а товаров = 32951'"
      ]
     },
     "execution_count": 14,
     "metadata": {},
     "output_type": "execute_result"
    }
   ],
   "source": [
    "# Количество уникальных товаров\n",
    "uniq_items = items_df['product_id'].nunique()\n",
    "# Количество уникальных заказов в таблице товаров\n",
    "uniq_orders = items_df['order_id'].nunique()\n",
    "f' количество заказов в таблице товаров = {uniq_orders}, а товаров = {uniq_items}'"
   ]
  },
  {
   "cell_type": "markdown",
   "metadata": {},
   "source": [
    "3.3. EDA таблица клиентов"
   ]
  },
  {
   "cell_type": "code",
   "execution_count": 15,
   "metadata": {},
   "outputs": [
    {
     "name": "stdout",
     "output_type": "stream",
     "text": [
      "<class 'pandas.core.frame.DataFrame'>\n",
      "RangeIndex: 99441 entries, 0 to 99440\n",
      "Data columns (total 5 columns):\n",
      " #   Column                    Non-Null Count  Dtype \n",
      "---  ------                    --------------  ----- \n",
      " 0   customer_id               99441 non-null  object\n",
      " 1   customer_unique_id        99441 non-null  object\n",
      " 2   customer_zip_code_prefix  99441 non-null  int64 \n",
      " 3   customer_city             99441 non-null  object\n",
      " 4   customer_state            99441 non-null  object\n",
      "dtypes: int64(1), object(4)\n",
      "memory usage: 3.8+ MB\n"
     ]
    }
   ],
   "source": [
    "clients_df.info()"
   ]
  },
  {
   "cell_type": "code",
   "execution_count": 16,
   "metadata": {},
   "outputs": [
    {
     "data": {
      "text/plain": [
       "customer_id                 object\n",
       "customer_unique_id          object\n",
       "customer_zip_code_prefix     int64\n",
       "customer_city               object\n",
       "customer_state              object\n",
       "dtype: object"
      ]
     },
     "execution_count": 16,
     "metadata": {},
     "output_type": "execute_result"
    }
   ],
   "source": [
    "clients_df.dtypes"
   ]
  },
  {
   "cell_type": "code",
   "execution_count": 17,
   "metadata": {},
   "outputs": [
    {
     "data": {
      "text/plain": [
       "' Количество уникальных id = 96096, количество id = 99441'"
      ]
     },
     "execution_count": 17,
     "metadata": {},
     "output_type": "execute_result"
    }
   ],
   "source": [
    "unique_id = clients_df['customer_unique_id'].nunique()\n",
    "customer_id = clients_df['customer_id'].nunique()\n",
    "f' Количество уникальных id = {unique_id}, количество id = {customer_id}'"
   ]
  },
  {
   "cell_type": "markdown",
   "metadata": {},
   "source": [
    "3.4. Проведем объединение таблиц **orders-items-customers**:\n",
    "- в таблице заказов оставим только заказы со статусами (approved, invoiced, processing, shipped, delivered) и будем считать это покупкой\n",
    "- из таблицы клиентов берем уникальный id (customer_unique_id) и присоединим к покупкам\n",
    "- фильтруем таблицу товаров, оставляя только те заказы, которые считаем покупккой\n",
    "- построим графики распределния для для количества товаров в заказах и стоимости заказов"
   ]
  },
  {
   "cell_type": "code",
   "execution_count": 18,
   "metadata": {},
   "outputs": [
    {
     "data": {
      "text/plain": [
       "'Вывод: имеем 98202 заказов и 94986 уникальных покупателей'"
      ]
     },
     "execution_count": 18,
     "metadata": {},
     "output_type": "execute_result"
    }
   ],
   "source": [
    "# Оставляем в таблице заказов только те, которые считаем покупкой\n",
    "true_orders_df = orders_df[\n",
    "            (orders_df.order_status!=\"created\") \n",
    "          & (orders_df.order_status != \"unavailable\")\n",
    "          & (orders_df.order_status !='canceled')\n",
    "          ]\n",
    "# Присоединяем к покупкам уникальный id клиента\n",
    "columns_to_keep_orders = ['order_id', 'order_status', 'order_purchase_timestamp','order_approved_at','order_delivered_carrier_date','order_delivered_customer_date','order_estimated_delivery_date','customer_unique_id']\n",
    "true_orders_df = true_orders_df.merge(clients_df, how='left', on='customer_id')[columns_to_keep_orders]\n",
    "# Создаем переменные для вывода f строки\n",
    "true_orders = true_orders_df['order_id'].nunique()\n",
    "true_clients = true_orders_df['customer_unique_id'].nunique()\n",
    "\n",
    "f'Вывод: имеем {true_orders} заказов и {true_clients} уникальных покупателей'\n",
    "\n"
   ]
  },
  {
   "cell_type": "code",
   "execution_count": 74,
   "metadata": {},
   "outputs": [
    {
     "data": {
      "text/plain": [
       "'Вывод: имеем 98202 заказов и 32729 уникальных товаров'"
      ]
     },
     "execution_count": 74,
     "metadata": {},
     "output_type": "execute_result"
    }
   ],
   "source": [
    "# В таблице товаров оставим только те заказы, которые считаем покупкой\n",
    "columns_to_keep_items = ['order_id','product_id','price','order_purchase_timestamp']\n",
    "bought_items_df = items_df.merge(true_orders_df, how='right', on='order_id')[columns_to_keep_items]\n",
    "# Посчитам стоимость заказов\n",
    "bought_items_df['order_price'] = bought_items_df.groupby('order_id')['price'].transform('sum')\n",
    "bought_items_df['items_in_order'] = bought_items_df.groupby('order_id')['product_id'].transform('count')\n",
    "# Посчитаем количество позиций в заказе\n",
    "# Создаем переменные для вывода f строки\n",
    "true_orders_items = bought_items_df['order_id'].nunique()\n",
    "true_items =bought_items_df['product_id'].nunique()\n",
    "f'Вывод: имеем {true_orders_items} заказов и {true_items} уникальных товаров'"
   ]
  },
  {
   "cell_type": "code",
   "execution_count": 34,
   "metadata": {},
   "outputs": [
    {
     "data": {
      "image/png": "[encoded data removed]",
      "text/plain": [
       "<Figure size 600x800 with 2 Axes>"
      ]
     },
     "metadata": {},
     "output_type": "display_data"
    }
   ],
   "source": [
    "# Построим violinchart, чтобы посмотреть на распределения количества товаров в заказах и Стоимости заказов\n",
    "# Создание фигуры и осей\n",
    "fig, axes = plt.subplots(nrows=2, ncols=1, figsize=(6, 8), sharey=False)\n",
    "\n",
    "# Построение violinplot \n",
    "sns.violinplot(bought_items_df['order_price'], ax=axes[0])\n",
    "axes[0].set_title('Стоимости заказов')\n",
    "\n",
    "sns.violinplot(data=bought_items_df['items_in_order'], ax=axes[1])\n",
    "axes[1].set_title('Количество товаров в заказах')\n",
    "\n",
    "# Отображение графиков\n",
    "plt.tight_layout()\n",
    "plt.show()"
   ]
  },
  {
   "cell_type": "markdown",
   "metadata": {},
   "source": [
    "## AD-HOC анализ"
   ]
  },
  {
   "cell_type": "markdown",
   "metadata": {},
   "source": [
    " **Вопрос 1.** Сколько у нас пользователей, которые совершили покупку только один раз?"
   ]
  },
  {
   "cell_type": "code",
   "execution_count": 21,
   "metadata": {},
   "outputs": [
    {
     "data": {
      "text/plain": [
       "'Ответ: 92099 пользователей совершили покупку только один раз'"
      ]
     },
     "execution_count": 21,
     "metadata": {},
     "output_type": "execute_result"
    }
   ],
   "source": [
    "# Формируем df по пользователю с подсчетом количества совершенных покупок\n",
    "orders_by_customer_df = true_orders_df.groupby('customer_unique_id',as_index=False)\\\n",
    "                    .agg(orders=('order_id','nunique'))\n",
    "# Фильтруем df по пользователям у  которых только одна покупка\n",
    "customers_w_one_purchase = orders_by_customer_df.loc[orders_by_customer_df.orders==1].shape[0]\n",
    "f'Ответ: {customers_w_one_purchase} пользователей совершили покупку только один раз'"
   ]
  },
  {
   "cell_type": "markdown",
   "metadata": {},
   "source": [
    "**Вопрос 2.** Сколько заказов в месяц в среднем не доставляется по разным причинам (вывести детализацию по причинам) ?"
   ]
  },
  {
   "cell_type": "code",
   "execution_count": 69,
   "metadata": {},
   "outputs": [
    {
     "data": {
      "text/html": [
       "<style type=\"text/css\">\n",
       "</style>\n",
       "<table id=\"T_89be5\">\n",
       "  <caption>2. В среднем (undelivered_mean) не доставляется заказов в месяц</caption>\n",
       "  <thead>\n",
       "    <tr>\n",
       "      <th class=\"blank level0\" >&nbsp;</th>\n",
       "      <th id=\"T_89be5_level0_col0\" class=\"col_heading level0 col0\" >order_purchase_yearmonth</th>\n",
       "      <th id=\"T_89be5_level0_col1\" class=\"col_heading level0 col1\" >order_status</th>\n",
       "      <th id=\"T_89be5_level0_col2\" class=\"col_heading level0 col2\" >quantity</th>\n",
       "      <th id=\"T_89be5_level0_col3\" class=\"col_heading level0 col3\" >undelivered_mean</th>\n",
       "    </tr>\n",
       "  </thead>\n",
       "  <tbody>\n",
       "    <tr>\n",
       "      <th id=\"T_89be5_level0_row0\" class=\"row_heading level0 row0\" >0</th>\n",
       "      <td id=\"T_89be5_row0_col0\" class=\"data row0 col0\" >2016-09</td>\n",
       "      <td id=\"T_89be5_row0_col1\" class=\"data row0 col1\" >canceled</td>\n",
       "      <td id=\"T_89be5_row0_col2\" class=\"data row0 col2\" >2</td>\n",
       "      <td id=\"T_89be5_row0_col3\" class=\"data row0 col3\" >1.500000</td>\n",
       "    </tr>\n",
       "    <tr>\n",
       "      <th id=\"T_89be5_level0_row1\" class=\"row_heading level0 row1\" >1</th>\n",
       "      <td id=\"T_89be5_row1_col0\" class=\"data row1 col0\" >2016-09</td>\n",
       "      <td id=\"T_89be5_row1_col1\" class=\"data row1 col1\" >shipped</td>\n",
       "      <td id=\"T_89be5_row1_col2\" class=\"data row1 col2\" >1</td>\n",
       "      <td id=\"T_89be5_row1_col3\" class=\"data row1 col3\" >1.500000</td>\n",
       "    </tr>\n",
       "    <tr>\n",
       "      <th id=\"T_89be5_level0_row2\" class=\"row_heading level0 row2\" >2</th>\n",
       "      <td id=\"T_89be5_row2_col0\" class=\"data row2 col0\" >2016-10</td>\n",
       "      <td id=\"T_89be5_row2_col1\" class=\"data row2 col1\" >canceled</td>\n",
       "      <td id=\"T_89be5_row2_col2\" class=\"data row2 col2\" >24</td>\n",
       "      <td id=\"T_89be5_row2_col3\" class=\"data row2 col3\" >11.800000</td>\n",
       "    </tr>\n",
       "    <tr>\n",
       "      <th id=\"T_89be5_level0_row3\" class=\"row_heading level0 row3\" >3</th>\n",
       "      <td id=\"T_89be5_row3_col0\" class=\"data row3 col0\" >2016-10</td>\n",
       "      <td id=\"T_89be5_row3_col1\" class=\"data row3 col1\" >invoiced</td>\n",
       "      <td id=\"T_89be5_row3_col2\" class=\"data row3 col2\" >18</td>\n",
       "      <td id=\"T_89be5_row3_col3\" class=\"data row3 col3\" >11.800000</td>\n",
       "    </tr>\n",
       "    <tr>\n",
       "      <th id=\"T_89be5_level0_row4\" class=\"row_heading level0 row4\" >4</th>\n",
       "      <td id=\"T_89be5_row4_col0\" class=\"data row4 col0\" >2016-10</td>\n",
       "      <td id=\"T_89be5_row4_col1\" class=\"data row4 col1\" >processing</td>\n",
       "      <td id=\"T_89be5_row4_col2\" class=\"data row4 col2\" >2</td>\n",
       "      <td id=\"T_89be5_row4_col3\" class=\"data row4 col3\" >11.800000</td>\n",
       "    </tr>\n",
       "  </tbody>\n",
       "</table>\n"
      ],
      "text/plain": [
       "<pandas.io.formats.style.Styler at 0x7f1eb7c39720>"
      ]
     },
     "execution_count": 69,
     "metadata": {},
     "output_type": "execute_result"
    }
   ],
   "source": [
    "# Создаем df недоставленных заказов\n",
    "not_delivered_orders = orders_df.query('order_status != \"delivered\"').copy()\n",
    "# Переводим order_purchase_timestamp в формат год-месяц\n",
    "not_delivered_orders['order_purchase_timestamp'] = pd.to_datetime(not_delivered_orders['order_purchase_timestamp'])\n",
    "not_delivered_orders['order_purchase_yearmonth'] = not_delivered_orders['order_purchase_timestamp'].dt.strftime(\"%Y-%m\")\n",
    "# Сделаем df с подсчетом недоставленных заказов по году-месяцу и статусу\n",
    "not_delivered_orders_details = not_delivered_orders \\\n",
    "    .groupby(['order_purchase_yearmonth', 'order_status'], as_index = False) \\\n",
    "    .agg(quantity = ('order_id', 'count')) \n",
    "# Посчитаем среднее значение недоставленных заказов по году-месяцу\n",
    "not_delivered_orders_details['undelivered_mean'] = not_delivered_orders_details.groupby('order_purchase_yearmonth')['quantity'].transform('mean')\n",
    "not_delivered_orders_details.head().style.set_caption(\"2. В среднем (undelivered_mean) не доставляется заказов в месяц\")"
   ]
  },
  {
   "cell_type": "code",
   "execution_count": 71,
   "metadata": {},
   "outputs": [
    {
     "data": {
      "text/html": [
       "<div>\n",
       "<style scoped>\n",
       "    .dataframe tbody tr th:only-of-type {\n",
       "        vertical-align: middle;\n",
       "    }\n",
       "\n",
       "    .dataframe tbody tr th {\n",
       "        vertical-align: top;\n",
       "    }\n",
       "\n",
       "    .dataframe thead th {\n",
       "        text-align: right;\n",
       "    }\n",
       "</style>\n",
       "<table border=\"1\" class=\"dataframe\">\n",
       "  <thead>\n",
       "    <tr style=\"text-align: right;\">\n",
       "      <th></th>\n",
       "      <th>order_id</th>\n",
       "      <th>product_id</th>\n",
       "      <th>price</th>\n",
       "      <th>shipping_limit_date</th>\n",
       "      <th>order_price</th>\n",
       "      <th>items_in_order</th>\n",
       "    </tr>\n",
       "  </thead>\n",
       "  <tbody>\n",
       "    <tr>\n",
       "      <th>0</th>\n",
       "      <td>e481f51cbdc54678b7cc49136f2d6af7</td>\n",
       "      <td>87285b34884572647811a353c7ac498a</td>\n",
       "      <td>29.99</td>\n",
       "      <td>2017-10-06 11:07:15</td>\n",
       "      <td>29.99</td>\n",
       "      <td>1</td>\n",
       "    </tr>\n",
       "    <tr>\n",
       "      <th>1</th>\n",
       "      <td>53cdb2fc8bc7dce0b6741e2150273451</td>\n",
       "      <td>595fac2a385ac33a80bd5114aec74eb8</td>\n",
       "      <td>118.70</td>\n",
       "      <td>2018-07-30 03:24:27</td>\n",
       "      <td>118.70</td>\n",
       "      <td>1</td>\n",
       "    </tr>\n",
       "    <tr>\n",
       "      <th>2</th>\n",
       "      <td>47770eb9100c2d0c44946d9cf07ec65d</td>\n",
       "      <td>aa4383b373c6aca5d8797843e5594415</td>\n",
       "      <td>159.90</td>\n",
       "      <td>2018-08-13 08:55:23</td>\n",
       "      <td>159.90</td>\n",
       "      <td>1</td>\n",
       "    </tr>\n",
       "    <tr>\n",
       "      <th>3</th>\n",
       "      <td>949d5b44dbf5de918fe9c16f97b45f8a</td>\n",
       "      <td>d0b61bfb1de832b15ba9d266ca96e5b0</td>\n",
       "      <td>45.00</td>\n",
       "      <td>2017-11-23 19:45:59</td>\n",
       "      <td>45.00</td>\n",
       "      <td>1</td>\n",
       "    </tr>\n",
       "    <tr>\n",
       "      <th>4</th>\n",
       "      <td>ad21c59c0840e6cb83a9ceb5573f8159</td>\n",
       "      <td>65266b2da20d04dbe00c5c2d3bb7859e</td>\n",
       "      <td>19.90</td>\n",
       "      <td>2018-02-19 20:31:37</td>\n",
       "      <td>19.90</td>\n",
       "      <td>1</td>\n",
       "    </tr>\n",
       "    <tr>\n",
       "      <th>...</th>\n",
       "      <td>...</td>\n",
       "      <td>...</td>\n",
       "      <td>...</td>\n",
       "      <td>...</td>\n",
       "      <td>...</td>\n",
       "      <td>...</td>\n",
       "    </tr>\n",
       "    <tr>\n",
       "      <th>112099</th>\n",
       "      <td>63943bddc261676b46f01ca7ac2f7bd8</td>\n",
       "      <td>f1d4ce8c6dd66c47bbaa8c6781c2a923</td>\n",
       "      <td>174.90</td>\n",
       "      <td>2018-02-12 13:10:37</td>\n",
       "      <td>174.90</td>\n",
       "      <td>1</td>\n",
       "    </tr>\n",
       "    <tr>\n",
       "      <th>112100</th>\n",
       "      <td>83c1379a015df1e13d02aae0204711ab</td>\n",
       "      <td>b80910977a37536adeddd63663f916ad</td>\n",
       "      <td>205.99</td>\n",
       "      <td>2017-09-05 15:04:16</td>\n",
       "      <td>205.99</td>\n",
       "      <td>1</td>\n",
       "    </tr>\n",
       "    <tr>\n",
       "      <th>112101</th>\n",
       "      <td>11c177c8e97725db2631073c19f07b62</td>\n",
       "      <td>d1c427060a0f73f6b889a5c7c61f2ac4</td>\n",
       "      <td>179.99</td>\n",
       "      <td>2018-01-12 21:36:21</td>\n",
       "      <td>359.98</td>\n",
       "      <td>2</td>\n",
       "    </tr>\n",
       "    <tr>\n",
       "      <th>112102</th>\n",
       "      <td>11c177c8e97725db2631073c19f07b62</td>\n",
       "      <td>d1c427060a0f73f6b889a5c7c61f2ac4</td>\n",
       "      <td>179.99</td>\n",
       "      <td>2018-01-12 21:36:21</td>\n",
       "      <td>359.98</td>\n",
       "      <td>2</td>\n",
       "    </tr>\n",
       "    <tr>\n",
       "      <th>112103</th>\n",
       "      <td>66dea50a8b16d9b4dee7af250b4be1a5</td>\n",
       "      <td>006619bbed68b000c8ba3f8725d5409e</td>\n",
       "      <td>68.50</td>\n",
       "      <td>2018-03-15 10:55:42</td>\n",
       "      <td>68.50</td>\n",
       "      <td>1</td>\n",
       "    </tr>\n",
       "  </tbody>\n",
       "</table>\n",
       "<p>112104 rows × 6 columns</p>\n",
       "</div>"
      ],
      "text/plain": [
       "                                order_id                        product_id  \\\n",
       "0       e481f51cbdc54678b7cc49136f2d6af7  87285b34884572647811a353c7ac498a   \n",
       "1       53cdb2fc8bc7dce0b6741e2150273451  595fac2a385ac33a80bd5114aec74eb8   \n",
       "2       47770eb9100c2d0c44946d9cf07ec65d  aa4383b373c6aca5d8797843e5594415   \n",
       "3       949d5b44dbf5de918fe9c16f97b45f8a  d0b61bfb1de832b15ba9d266ca96e5b0   \n",
       "4       ad21c59c0840e6cb83a9ceb5573f8159  65266b2da20d04dbe00c5c2d3bb7859e   \n",
       "...                                  ...                               ...   \n",
       "112099  63943bddc261676b46f01ca7ac2f7bd8  f1d4ce8c6dd66c47bbaa8c6781c2a923   \n",
       "112100  83c1379a015df1e13d02aae0204711ab  b80910977a37536adeddd63663f916ad   \n",
       "112101  11c177c8e97725db2631073c19f07b62  d1c427060a0f73f6b889a5c7c61f2ac4   \n",
       "112102  11c177c8e97725db2631073c19f07b62  d1c427060a0f73f6b889a5c7c61f2ac4   \n",
       "112103  66dea50a8b16d9b4dee7af250b4be1a5  006619bbed68b000c8ba3f8725d5409e   \n",
       "\n",
       "         price shipping_limit_date  order_price  items_in_order  \n",
       "0        29.99 2017-10-06 11:07:15        29.99               1  \n",
       "1       118.70 2018-07-30 03:24:27       118.70               1  \n",
       "2       159.90 2018-08-13 08:55:23       159.90               1  \n",
       "3        45.00 2017-11-23 19:45:59        45.00               1  \n",
       "4        19.90 2018-02-19 20:31:37        19.90               1  \n",
       "...        ...                 ...          ...             ...  \n",
       "112099  174.90 2018-02-12 13:10:37       174.90               1  \n",
       "112100  205.99 2017-09-05 15:04:16       205.99               1  \n",
       "112101  179.99 2018-01-12 21:36:21       359.98               2  \n",
       "112102  179.99 2018-01-12 21:36:21       359.98               2  \n",
       "112103   68.50 2018-03-15 10:55:42        68.50               1  \n",
       "\n",
       "[112104 rows x 6 columns]"
      ]
     },
     "execution_count": 71,
     "metadata": {},
     "output_type": "execute_result"
    }
   ],
   "source": [
    "bought_items_df"
   ]
  },
  {
   "attachments": {},
   "cell_type": "markdown",
   "metadata": {},
   "source": [
    "**Вопрос 3.** По каждому товару определить, в какой день недели товар чаще всего покупается?"
   ]
  },
  {
   "cell_type": "code",
   "execution_count": 77,
   "metadata": {},
   "outputs": [
    {
     "data": {
      "text/html": [
       "<style type=\"text/css\">\n",
       "</style>\n",
       "<table id=\"T_243c9\">\n",
       "  <caption>Задача 3: Дни недели, в которые товар чаще всего покупается</caption>\n",
       "  <thead>\n",
       "    <tr>\n",
       "      <th class=\"blank level0\" >&nbsp;</th>\n",
       "      <th id=\"T_243c9_level0_col0\" class=\"col_heading level0 col0\" >product_id</th>\n",
       "      <th id=\"T_243c9_level0_col1\" class=\"col_heading level0 col1\" >day_name</th>\n",
       "    </tr>\n",
       "  </thead>\n",
       "  <tbody>\n",
       "    <tr>\n",
       "      <th id=\"T_243c9_level0_row0\" class=\"row_heading level0 row0\" >0</th>\n",
       "      <td id=\"T_243c9_row0_col0\" class=\"data row0 col0\" >00066f42aeeb9f3007548bb9d3f33c38</td>\n",
       "      <td id=\"T_243c9_row0_col1\" class=\"data row0 col1\" >Sunday</td>\n",
       "    </tr>\n",
       "    <tr>\n",
       "      <th id=\"T_243c9_level0_row1\" class=\"row_heading level0 row1\" >1</th>\n",
       "      <td id=\"T_243c9_row1_col0\" class=\"data row1 col0\" >00088930e925c41fd95ebfe695fd2655</td>\n",
       "      <td id=\"T_243c9_row1_col1\" class=\"data row1 col1\" >Tuesday</td>\n",
       "    </tr>\n",
       "    <tr>\n",
       "      <th id=\"T_243c9_level0_row2\" class=\"row_heading level0 row2\" >2</th>\n",
       "      <td id=\"T_243c9_row2_col0\" class=\"data row2 col0\" >0009406fd7479715e4bef61dd91f2462</td>\n",
       "      <td id=\"T_243c9_row2_col1\" class=\"data row2 col1\" >Thursday</td>\n",
       "    </tr>\n",
       "    <tr>\n",
       "      <th id=\"T_243c9_level0_row3\" class=\"row_heading level0 row3\" >3</th>\n",
       "      <td id=\"T_243c9_row3_col0\" class=\"data row3 col0\" >000b8f95fcb9e0096488278317764d19</td>\n",
       "      <td id=\"T_243c9_row3_col1\" class=\"data row3 col1\" >['Friday' 'Wednesday']</td>\n",
       "    </tr>\n",
       "    <tr>\n",
       "      <th id=\"T_243c9_level0_row4\" class=\"row_heading level0 row4\" >4</th>\n",
       "      <td id=\"T_243c9_row4_col0\" class=\"data row4 col0\" >000d9be29b5207b54e86aa1b1ac54872</td>\n",
       "      <td id=\"T_243c9_row4_col1\" class=\"data row4 col1\" >Tuesday</td>\n",
       "    </tr>\n",
       "  </tbody>\n",
       "</table>\n"
      ],
      "text/plain": [
       "<pandas.io.formats.style.Styler at 0x7f1ec52f4820>"
      ]
     },
     "execution_count": 77,
     "metadata": {},
     "output_type": "execute_result"
    }
   ],
   "source": [
    "# Выставляем день недели\n",
    "bought_items_df['day_name']=bought_items_df.order_purchase_timestamp.dt.day_name()\n",
    "# Агрегируем данные по продукту и названию дня недели. С помощью \"моды\" ищем самые частые дни.\n",
    "# Для некоторых товаров имеем несколько best days, потому что их покупали одинаковое количество раз в эти дни, т.е. имеют две моды.\n",
    "days = bought_items_df[['product_id','day_name']].groupby('product_id',as_index=False).agg({'day_name':pd.Series.mode})\n",
    "days.head(5).style.set_caption(\"3. Дни недели, в которые товар чаще всего покупается\")\n"
   ]
  },
  {
   "attachments": {},
   "cell_type": "markdown",
   "metadata": {},
   "source": [
    "**Вопрос 4.** Сколько у каждого из пользователей в среднем покупок в неделю (по месяцам)? Не стоит забывать, что внутри месяца может быть не целое количество недель. Например, в ноябре 2021 года 4,28 недели."
   ]
  },
  {
   "cell_type": "code",
   "execution_count": 79,
   "metadata": {},
   "outputs": [
    {
     "data": {
      "text/html": [
       "<style type=\"text/css\">\n",
       "</style>\n",
       "<table id=\"T_08b13\">\n",
       "  <caption>Задача 4: Среднее кол-во покупок в неделю у клиентов по месяцам</caption>\n",
       "  <thead>\n",
       "    <tr>\n",
       "      <th class=\"blank level0\" >&nbsp;</th>\n",
       "      <th id=\"T_08b13_level0_col0\" class=\"col_heading level0 col0\" >customer_unique_id</th>\n",
       "      <th id=\"T_08b13_level0_col1\" class=\"col_heading level0 col1\" >01_month_year</th>\n",
       "      <th id=\"T_08b13_level0_col2\" class=\"col_heading level0 col2\" >means</th>\n",
       "    </tr>\n",
       "  </thead>\n",
       "  <tbody>\n",
       "    <tr>\n",
       "      <th id=\"T_08b13_level0_row0\" class=\"row_heading level0 row0\" >0</th>\n",
       "      <td id=\"T_08b13_row0_col0\" class=\"data row0 col0\" >0000366f3b9a7992bf8c76cfdf3221e2</td>\n",
       "      <td id=\"T_08b13_row0_col1\" class=\"data row0 col1\" >2018-05-01</td>\n",
       "      <td id=\"T_08b13_row0_col2\" class=\"data row0 col2\" >0.225734</td>\n",
       "    </tr>\n",
       "    <tr>\n",
       "      <th id=\"T_08b13_level0_row1\" class=\"row_heading level0 row1\" >1</th>\n",
       "      <td id=\"T_08b13_row1_col0\" class=\"data row1 col0\" >0000b849f77a49e4a4ce2b2a4ca5be3f</td>\n",
       "      <td id=\"T_08b13_row1_col1\" class=\"data row1 col1\" >2018-05-01</td>\n",
       "      <td id=\"T_08b13_row1_col2\" class=\"data row1 col2\" >0.225734</td>\n",
       "    </tr>\n",
       "    <tr>\n",
       "      <th id=\"T_08b13_level0_row2\" class=\"row_heading level0 row2\" >2</th>\n",
       "      <td id=\"T_08b13_row2_col0\" class=\"data row2 col0\" >0000f46a3911fa3c0805444483337064</td>\n",
       "      <td id=\"T_08b13_row2_col1\" class=\"data row2 col1\" >2017-03-01</td>\n",
       "      <td id=\"T_08b13_row2_col2\" class=\"data row2 col2\" >0.225734</td>\n",
       "    </tr>\n",
       "    <tr>\n",
       "      <th id=\"T_08b13_level0_row3\" class=\"row_heading level0 row3\" >3</th>\n",
       "      <td id=\"T_08b13_row3_col0\" class=\"data row3 col0\" >0000f6ccb0745a6a4b88665a16c9f078</td>\n",
       "      <td id=\"T_08b13_row3_col1\" class=\"data row3 col1\" >2017-10-01</td>\n",
       "      <td id=\"T_08b13_row3_col2\" class=\"data row3 col2\" >0.225734</td>\n",
       "    </tr>\n",
       "    <tr>\n",
       "      <th id=\"T_08b13_level0_row4\" class=\"row_heading level0 row4\" >4</th>\n",
       "      <td id=\"T_08b13_row4_col0\" class=\"data row4 col0\" >0004aac84e0df4da2b147fca70cf8255</td>\n",
       "      <td id=\"T_08b13_row4_col1\" class=\"data row4 col1\" >2017-11-01</td>\n",
       "      <td id=\"T_08b13_row4_col2\" class=\"data row4 col2\" >0.233100</td>\n",
       "    </tr>\n",
       "  </tbody>\n",
       "</table>\n"
      ],
      "text/plain": [
       "<pandas.io.formats.style.Styler at 0x7f1eb7303af0>"
      ]
     },
     "execution_count": 79,
     "metadata": {},
     "output_type": "execute_result"
    }
   ],
   "source": [
    "# pd.options.mode.chained_assignment = None  # default='warn'\n",
    "# Обрезаем df оставляя только нужные поля\n",
    "orders_by_customer = true_orders_df[['order_id','order_purchase_timestamp','customer_unique_id']].copy()\n",
    "# Считаем количество недель в каждом месяце\n",
    "orders_by_customer['weeks_in_month'] = np.round(((orders_by_customer.order_purchase_timestamp.dt.daysinmonth)/7),2)\n",
    "# Приводим дату к формату первое число месяца\n",
    "orders_by_customer['01_month_year']= (orders_by_customer['order_purchase_timestamp'].apply(lambda x : x.replace(day=1))).dt.date\n",
    "boughts_by_week = orders_by_customer.groupby(['customer_unique_id','01_month_year','weeks_in_month'], as_index=False).agg(orders=('order_id','nunique'))\n",
    "# Находим среднее кол-во покупок в неделю в разрезе месяцев\n",
    "boughts_by_week['means'] = boughts_by_week.orders/boughts_by_week.weeks_in_month\n",
    "boughts_by_week = boughts_by_week[['customer_unique_id','01_month_year','means']].sort_values('01_month_year')\n",
    "boughts_by_week.head(5).style.set_caption(\"4: Среднее кол-во покупок в неделю у клиентов по месяцам\")"
   ]
  },
  {
   "attachments": {},
   "cell_type": "markdown",
   "metadata": {},
   "source": [
    "**Вопрос 5.** Когортный анализ пользователей. В период с января по декабрь выявить когорту с самым высоким retention на 3й месяц. \n",
    "\n",
    "*Данные представлены за несколько лет, проверим все ли года полные (имеется информация за все месяцы года) т.к. по заданию нас интересует период с января по декабрь.*"
   ]
  },
  {
   "cell_type": "code",
   "execution_count": 90,
   "metadata": {},
   "outputs": [
    {
     "name": "stdout",
     "output_type": "stream",
     "text": [
      "      months_w_data\n",
      "year               \n",
      "2016              3\n",
      "2017             12\n",
      "2018              9 Вывод: Данные за весь год есть только в 2017. Поэтому отфильтруем df по нему\n"
     ]
    }
   ],
   "source": [
    "true_orders_df['date_purch']=pd.to_datetime(true_orders_df['order_purchase_timestamp']).dt.strftime('%Y-%m')\n",
    "true_orders_df['year']=true_orders_df['order_purchase_timestamp'].dt.year\n",
    "full_years_df = true_orders_df.groupby('year').agg(months_w_data = ('date_purch','nunique'))\n",
    "vivod = f'Вывод: Данные за весь год есть только в 2017. Поэтому отфильтруем df по нему'\n",
    "print(full_years_df,vivod)"
   ]
  },
  {
   "cell_type": "code",
   "execution_count": 94,
   "metadata": {
    "scrolled": false
   },
   "outputs": [
    {
     "data": {
      "text/html": [
       "<style type=\"text/css\">\n",
       "#T_230ac_row0_col0, #T_230ac_row0_col3, #T_230ac_row0_col5, #T_230ac_row0_col7, #T_230ac_row0_col8, #T_230ac_row0_col11, #T_230ac_row1_col0, #T_230ac_row1_col1, #T_230ac_row1_col3, #T_230ac_row1_col5, #T_230ac_row1_col6, #T_230ac_row1_col8, #T_230ac_row1_col10, #T_230ac_row2_col0, #T_230ac_row2_col6, #T_230ac_row2_col9, #T_230ac_row3_col0, #T_230ac_row3_col2, #T_230ac_row3_col4, #T_230ac_row4_col0, #T_230ac_row4_col4, #T_230ac_row4_col7, #T_230ac_row5_col0, #T_230ac_row5_col4, #T_230ac_row6_col0, #T_230ac_row6_col4, #T_230ac_row7_col0, #T_230ac_row8_col0, #T_230ac_row9_col0, #T_230ac_row10_col0, #T_230ac_row11_col0 {\n",
       "  background-color: #fff5f0;\n",
       "  color: #000000;\n",
       "}\n",
       "#T_230ac_row0_col1 {\n",
       "  background-color: #fc8a6a;\n",
       "  color: #f1f1f1;\n",
       "}\n",
       "#T_230ac_row0_col2, #T_230ac_row1_col2, #T_230ac_row2_col5, #T_230ac_row3_col3, #T_230ac_row6_col2, #T_230ac_row6_col3, #T_230ac_row6_col5, #T_230ac_row7_col2, #T_230ac_row9_col2 {\n",
       "  background-color: #fca082;\n",
       "  color: #000000;\n",
       "}\n",
       "#T_230ac_row0_col4, #T_230ac_row0_col6, #T_230ac_row0_col10, #T_230ac_row1_col4, #T_230ac_row1_col9, #T_230ac_row2_col3, #T_230ac_row2_col4, #T_230ac_row2_col7, #T_230ac_row2_col8, #T_230ac_row3_col7, #T_230ac_row4_col2, #T_230ac_row4_col3, #T_230ac_row4_col6, #T_230ac_row5_col3, #T_230ac_row5_col5, #T_230ac_row5_col6, #T_230ac_row7_col1, #T_230ac_row7_col4, #T_230ac_row8_col1, #T_230ac_row8_col2, #T_230ac_row9_col1 {\n",
       "  background-color: #67000d;\n",
       "  color: #f1f1f1;\n",
       "}\n",
       "#T_230ac_row0_col9, #T_230ac_row2_col10, #T_230ac_row3_col9, #T_230ac_row3_col10, #T_230ac_row4_col8, #T_230ac_row4_col9, #T_230ac_row4_col10, #T_230ac_row5_col7, #T_230ac_row5_col8, #T_230ac_row5_col9, #T_230ac_row5_col10, #T_230ac_row6_col6, #T_230ac_row6_col7, #T_230ac_row6_col8, #T_230ac_row6_col9, #T_230ac_row6_col10, #T_230ac_row7_col5, #T_230ac_row7_col6, #T_230ac_row7_col7, #T_230ac_row7_col8, #T_230ac_row7_col9, #T_230ac_row7_col10, #T_230ac_row8_col4, #T_230ac_row8_col5, #T_230ac_row8_col6, #T_230ac_row8_col7, #T_230ac_row8_col8, #T_230ac_row8_col9, #T_230ac_row8_col10, #T_230ac_row9_col3, #T_230ac_row9_col4, #T_230ac_row9_col5, #T_230ac_row9_col6, #T_230ac_row9_col7, #T_230ac_row9_col8, #T_230ac_row9_col9, #T_230ac_row9_col10, #T_230ac_row10_col2, #T_230ac_row10_col3, #T_230ac_row10_col4, #T_230ac_row10_col5, #T_230ac_row10_col6, #T_230ac_row10_col7, #T_230ac_row10_col8, #T_230ac_row10_col9, #T_230ac_row10_col10, #T_230ac_row11_col1, #T_230ac_row11_col2, #T_230ac_row11_col3, #T_230ac_row11_col4, #T_230ac_row11_col5, #T_230ac_row11_col6, #T_230ac_row11_col7, #T_230ac_row11_col8, #T_230ac_row11_col9, #T_230ac_row11_col10 {\n",
       "  background-color: #000000;\n",
       "  color: #f1f1f1;\n",
       "  background-color: white;\n",
       "}\n",
       "#T_230ac_row1_col7, #T_230ac_row3_col6 {\n",
       "  background-color: #fb694a;\n",
       "  color: #f1f1f1;\n",
       "}\n",
       "#T_230ac_row1_col11, #T_230ac_row2_col11, #T_230ac_row3_col11, #T_230ac_row4_col11, #T_230ac_row5_col11, #T_230ac_row6_col11, #T_230ac_row7_col11, #T_230ac_row8_col11, #T_230ac_row9_col11, #T_230ac_row10_col11, #T_230ac_row11_col11 {\n",
       "  background-color: #fff5f0;\n",
       "  color: #000000;\n",
       "  background-color: white;\n",
       "}\n",
       "#T_230ac_row2_col1, #T_230ac_row4_col1, #T_230ac_row5_col1, #T_230ac_row6_col1 {\n",
       "  background-color: #f14432;\n",
       "  color: #f1f1f1;\n",
       "}\n",
       "#T_230ac_row2_col2, #T_230ac_row3_col5, #T_230ac_row3_col8, #T_230ac_row4_col5, #T_230ac_row5_col2, #T_230ac_row7_col3, #T_230ac_row8_col3 {\n",
       "  background-color: #e32f27;\n",
       "  color: #f1f1f1;\n",
       "}\n",
       "#T_230ac_row3_col1, #T_230ac_row10_col1 {\n",
       "  background-color: #bc141a;\n",
       "  color: #f1f1f1;\n",
       "}\n",
       "</style>\n",
       "<table id=\"T_230ac\">\n",
       "  <caption>Задача 5: Когортный анализ пользователей</caption>\n",
       "  <thead>\n",
       "    <tr>\n",
       "      <th class=\"index_name level0\" >period_number</th>\n",
       "      <th id=\"T_230ac_level0_col0\" class=\"col_heading level0 col0\" >0</th>\n",
       "      <th id=\"T_230ac_level0_col1\" class=\"col_heading level0 col1\" >1</th>\n",
       "      <th id=\"T_230ac_level0_col2\" class=\"col_heading level0 col2\" >2</th>\n",
       "      <th id=\"T_230ac_level0_col3\" class=\"col_heading level0 col3\" >3</th>\n",
       "      <th id=\"T_230ac_level0_col4\" class=\"col_heading level0 col4\" >4</th>\n",
       "      <th id=\"T_230ac_level0_col5\" class=\"col_heading level0 col5\" >5</th>\n",
       "      <th id=\"T_230ac_level0_col6\" class=\"col_heading level0 col6\" >6</th>\n",
       "      <th id=\"T_230ac_level0_col7\" class=\"col_heading level0 col7\" >7</th>\n",
       "      <th id=\"T_230ac_level0_col8\" class=\"col_heading level0 col8\" >8</th>\n",
       "      <th id=\"T_230ac_level0_col9\" class=\"col_heading level0 col9\" >9</th>\n",
       "      <th id=\"T_230ac_level0_col10\" class=\"col_heading level0 col10\" >10</th>\n",
       "      <th id=\"T_230ac_level0_col11\" class=\"col_heading level0 col11\" >11</th>\n",
       "    </tr>\n",
       "    <tr>\n",
       "      <th class=\"index_name level0\" >cohort</th>\n",
       "      <th class=\"blank col0\" >&nbsp;</th>\n",
       "      <th class=\"blank col1\" >&nbsp;</th>\n",
       "      <th class=\"blank col2\" >&nbsp;</th>\n",
       "      <th class=\"blank col3\" >&nbsp;</th>\n",
       "      <th class=\"blank col4\" >&nbsp;</th>\n",
       "      <th class=\"blank col5\" >&nbsp;</th>\n",
       "      <th class=\"blank col6\" >&nbsp;</th>\n",
       "      <th class=\"blank col7\" >&nbsp;</th>\n",
       "      <th class=\"blank col8\" >&nbsp;</th>\n",
       "      <th class=\"blank col9\" >&nbsp;</th>\n",
       "      <th class=\"blank col10\" >&nbsp;</th>\n",
       "      <th class=\"blank col11\" >&nbsp;</th>\n",
       "    </tr>\n",
       "  </thead>\n",
       "  <tbody>\n",
       "    <tr>\n",
       "      <th id=\"T_230ac_level0_row0\" class=\"row_heading level0 row0\" >2017-01</th>\n",
       "      <td id=\"T_230ac_row0_col0\" class=\"data row0 col0\" >100.00%</td>\n",
       "      <td id=\"T_230ac_row0_col1\" class=\"data row0 col1\" >0.40%</td>\n",
       "      <td id=\"T_230ac_row0_col2\" class=\"data row0 col2\" >0.30%</td>\n",
       "      <td id=\"T_230ac_row0_col3\" class=\"data row0 col3\" >0.10%</td>\n",
       "      <td id=\"T_230ac_row0_col4\" class=\"data row0 col4\" >0.40%</td>\n",
       "      <td id=\"T_230ac_row0_col5\" class=\"data row0 col5\" >0.10%</td>\n",
       "      <td id=\"T_230ac_row0_col6\" class=\"data row0 col6\" >0.40%</td>\n",
       "      <td id=\"T_230ac_row0_col7\" class=\"data row0 col7\" >0.10%</td>\n",
       "      <td id=\"T_230ac_row0_col8\" class=\"data row0 col8\" >0.10%</td>\n",
       "      <td id=\"T_230ac_row0_col9\" class=\"data row0 col9\" ></td>\n",
       "      <td id=\"T_230ac_row0_col10\" class=\"data row0 col10\" >0.40%</td>\n",
       "      <td id=\"T_230ac_row0_col11\" class=\"data row0 col11\" >0.10%</td>\n",
       "    </tr>\n",
       "    <tr>\n",
       "      <th id=\"T_230ac_level0_row1\" class=\"row_heading level0 row1\" >2017-02</th>\n",
       "      <td id=\"T_230ac_row1_col0\" class=\"data row1 col0\" >100.00%</td>\n",
       "      <td id=\"T_230ac_row1_col1\" class=\"data row1 col1\" >0.20%</td>\n",
       "      <td id=\"T_230ac_row1_col2\" class=\"data row1 col2\" >0.30%</td>\n",
       "      <td id=\"T_230ac_row1_col3\" class=\"data row1 col3\" >0.10%</td>\n",
       "      <td id=\"T_230ac_row1_col4\" class=\"data row1 col4\" >0.40%</td>\n",
       "      <td id=\"T_230ac_row1_col5\" class=\"data row1 col5\" >0.10%</td>\n",
       "      <td id=\"T_230ac_row1_col6\" class=\"data row1 col6\" >0.20%</td>\n",
       "      <td id=\"T_230ac_row1_col7\" class=\"data row1 col7\" >0.20%</td>\n",
       "      <td id=\"T_230ac_row1_col8\" class=\"data row1 col8\" >0.10%</td>\n",
       "      <td id=\"T_230ac_row1_col9\" class=\"data row1 col9\" >0.20%</td>\n",
       "      <td id=\"T_230ac_row1_col10\" class=\"data row1 col10\" >0.10%</td>\n",
       "      <td id=\"T_230ac_row1_col11\" class=\"data row1 col11\" ></td>\n",
       "    </tr>\n",
       "    <tr>\n",
       "      <th id=\"T_230ac_level0_row2\" class=\"row_heading level0 row2\" >2017-03</th>\n",
       "      <td id=\"T_230ac_row2_col0\" class=\"data row2 col0\" >100.00%</td>\n",
       "      <td id=\"T_230ac_row2_col1\" class=\"data row2 col1\" >0.50%</td>\n",
       "      <td id=\"T_230ac_row2_col2\" class=\"data row2 col2\" >0.40%</td>\n",
       "      <td id=\"T_230ac_row2_col3\" class=\"data row2 col3\" >0.40%</td>\n",
       "      <td id=\"T_230ac_row2_col4\" class=\"data row2 col4\" >0.40%</td>\n",
       "      <td id=\"T_230ac_row2_col5\" class=\"data row2 col5\" >0.20%</td>\n",
       "      <td id=\"T_230ac_row2_col6\" class=\"data row2 col6\" >0.20%</td>\n",
       "      <td id=\"T_230ac_row2_col7\" class=\"data row2 col7\" >0.30%</td>\n",
       "      <td id=\"T_230ac_row2_col8\" class=\"data row2 col8\" >0.40%</td>\n",
       "      <td id=\"T_230ac_row2_col9\" class=\"data row2 col9\" >0.10%</td>\n",
       "      <td id=\"T_230ac_row2_col10\" class=\"data row2 col10\" ></td>\n",
       "      <td id=\"T_230ac_row2_col11\" class=\"data row2 col11\" ></td>\n",
       "    </tr>\n",
       "    <tr>\n",
       "      <th id=\"T_230ac_level0_row3\" class=\"row_heading level0 row3\" >2017-04</th>\n",
       "      <td id=\"T_230ac_row3_col0\" class=\"data row3 col0\" >100.00%</td>\n",
       "      <td id=\"T_230ac_row3_col1\" class=\"data row3 col1\" >0.60%</td>\n",
       "      <td id=\"T_230ac_row3_col2\" class=\"data row3 col2\" >0.20%</td>\n",
       "      <td id=\"T_230ac_row3_col3\" class=\"data row3 col3\" >0.20%</td>\n",
       "      <td id=\"T_230ac_row3_col4\" class=\"data row3 col4\" >0.30%</td>\n",
       "      <td id=\"T_230ac_row3_col5\" class=\"data row3 col5\" >0.30%</td>\n",
       "      <td id=\"T_230ac_row3_col6\" class=\"data row3 col6\" >0.30%</td>\n",
       "      <td id=\"T_230ac_row3_col7\" class=\"data row3 col7\" >0.30%</td>\n",
       "      <td id=\"T_230ac_row3_col8\" class=\"data row3 col8\" >0.30%</td>\n",
       "      <td id=\"T_230ac_row3_col9\" class=\"data row3 col9\" ></td>\n",
       "      <td id=\"T_230ac_row3_col10\" class=\"data row3 col10\" ></td>\n",
       "      <td id=\"T_230ac_row3_col11\" class=\"data row3 col11\" ></td>\n",
       "    </tr>\n",
       "    <tr>\n",
       "      <th id=\"T_230ac_level0_row4\" class=\"row_heading level0 row4\" >2017-05</th>\n",
       "      <td id=\"T_230ac_row4_col0\" class=\"data row4 col0\" >100.00%</td>\n",
       "      <td id=\"T_230ac_row4_col1\" class=\"data row4 col1\" >0.50%</td>\n",
       "      <td id=\"T_230ac_row4_col2\" class=\"data row4 col2\" >0.50%</td>\n",
       "      <td id=\"T_230ac_row4_col3\" class=\"data row4 col3\" >0.40%</td>\n",
       "      <td id=\"T_230ac_row4_col4\" class=\"data row4 col4\" >0.30%</td>\n",
       "      <td id=\"T_230ac_row4_col5\" class=\"data row4 col5\" >0.30%</td>\n",
       "      <td id=\"T_230ac_row4_col6\" class=\"data row4 col6\" >0.40%</td>\n",
       "      <td id=\"T_230ac_row4_col7\" class=\"data row4 col7\" >0.10%</td>\n",
       "      <td id=\"T_230ac_row4_col8\" class=\"data row4 col8\" ></td>\n",
       "      <td id=\"T_230ac_row4_col9\" class=\"data row4 col9\" ></td>\n",
       "      <td id=\"T_230ac_row4_col10\" class=\"data row4 col10\" ></td>\n",
       "      <td id=\"T_230ac_row4_col11\" class=\"data row4 col11\" ></td>\n",
       "    </tr>\n",
       "    <tr>\n",
       "      <th id=\"T_230ac_level0_row5\" class=\"row_heading level0 row5\" >2017-06</th>\n",
       "      <td id=\"T_230ac_row5_col0\" class=\"data row5 col0\" >100.00%</td>\n",
       "      <td id=\"T_230ac_row5_col1\" class=\"data row5 col1\" >0.50%</td>\n",
       "      <td id=\"T_230ac_row5_col2\" class=\"data row5 col2\" >0.40%</td>\n",
       "      <td id=\"T_230ac_row5_col3\" class=\"data row5 col3\" >0.40%</td>\n",
       "      <td id=\"T_230ac_row5_col4\" class=\"data row5 col4\" >0.30%</td>\n",
       "      <td id=\"T_230ac_row5_col5\" class=\"data row5 col5\" >0.40%</td>\n",
       "      <td id=\"T_230ac_row5_col6\" class=\"data row5 col6\" >0.40%</td>\n",
       "      <td id=\"T_230ac_row5_col7\" class=\"data row5 col7\" ></td>\n",
       "      <td id=\"T_230ac_row5_col8\" class=\"data row5 col8\" ></td>\n",
       "      <td id=\"T_230ac_row5_col9\" class=\"data row5 col9\" ></td>\n",
       "      <td id=\"T_230ac_row5_col10\" class=\"data row5 col10\" ></td>\n",
       "      <td id=\"T_230ac_row5_col11\" class=\"data row5 col11\" ></td>\n",
       "    </tr>\n",
       "    <tr>\n",
       "      <th id=\"T_230ac_level0_row6\" class=\"row_heading level0 row6\" >2017-07</th>\n",
       "      <td id=\"T_230ac_row6_col0\" class=\"data row6 col0\" >100.00%</td>\n",
       "      <td id=\"T_230ac_row6_col1\" class=\"data row6 col1\" >0.50%</td>\n",
       "      <td id=\"T_230ac_row6_col2\" class=\"data row6 col2\" >0.30%</td>\n",
       "      <td id=\"T_230ac_row6_col3\" class=\"data row6 col3\" >0.20%</td>\n",
       "      <td id=\"T_230ac_row6_col4\" class=\"data row6 col4\" >0.30%</td>\n",
       "      <td id=\"T_230ac_row6_col5\" class=\"data row6 col5\" >0.20%</td>\n",
       "      <td id=\"T_230ac_row6_col6\" class=\"data row6 col6\" ></td>\n",
       "      <td id=\"T_230ac_row6_col7\" class=\"data row6 col7\" ></td>\n",
       "      <td id=\"T_230ac_row6_col8\" class=\"data row6 col8\" ></td>\n",
       "      <td id=\"T_230ac_row6_col9\" class=\"data row6 col9\" ></td>\n",
       "      <td id=\"T_230ac_row6_col10\" class=\"data row6 col10\" ></td>\n",
       "      <td id=\"T_230ac_row6_col11\" class=\"data row6 col11\" ></td>\n",
       "    </tr>\n",
       "    <tr>\n",
       "      <th id=\"T_230ac_level0_row7\" class=\"row_heading level0 row7\" >2017-08</th>\n",
       "      <td id=\"T_230ac_row7_col0\" class=\"data row7 col0\" >100.00%</td>\n",
       "      <td id=\"T_230ac_row7_col1\" class=\"data row7 col1\" >0.70%</td>\n",
       "      <td id=\"T_230ac_row7_col2\" class=\"data row7 col2\" >0.30%</td>\n",
       "      <td id=\"T_230ac_row7_col3\" class=\"data row7 col3\" >0.30%</td>\n",
       "      <td id=\"T_230ac_row7_col4\" class=\"data row7 col4\" >0.40%</td>\n",
       "      <td id=\"T_230ac_row7_col5\" class=\"data row7 col5\" ></td>\n",
       "      <td id=\"T_230ac_row7_col6\" class=\"data row7 col6\" ></td>\n",
       "      <td id=\"T_230ac_row7_col7\" class=\"data row7 col7\" ></td>\n",
       "      <td id=\"T_230ac_row7_col8\" class=\"data row7 col8\" ></td>\n",
       "      <td id=\"T_230ac_row7_col9\" class=\"data row7 col9\" ></td>\n",
       "      <td id=\"T_230ac_row7_col10\" class=\"data row7 col10\" ></td>\n",
       "      <td id=\"T_230ac_row7_col11\" class=\"data row7 col11\" ></td>\n",
       "    </tr>\n",
       "    <tr>\n",
       "      <th id=\"T_230ac_level0_row8\" class=\"row_heading level0 row8\" >2017-09</th>\n",
       "      <td id=\"T_230ac_row8_col0\" class=\"data row8 col0\" >100.00%</td>\n",
       "      <td id=\"T_230ac_row8_col1\" class=\"data row8 col1\" >0.70%</td>\n",
       "      <td id=\"T_230ac_row8_col2\" class=\"data row8 col2\" >0.50%</td>\n",
       "      <td id=\"T_230ac_row8_col3\" class=\"data row8 col3\" >0.30%</td>\n",
       "      <td id=\"T_230ac_row8_col4\" class=\"data row8 col4\" ></td>\n",
       "      <td id=\"T_230ac_row8_col5\" class=\"data row8 col5\" ></td>\n",
       "      <td id=\"T_230ac_row8_col6\" class=\"data row8 col6\" ></td>\n",
       "      <td id=\"T_230ac_row8_col7\" class=\"data row8 col7\" ></td>\n",
       "      <td id=\"T_230ac_row8_col8\" class=\"data row8 col8\" ></td>\n",
       "      <td id=\"T_230ac_row8_col9\" class=\"data row8 col9\" ></td>\n",
       "      <td id=\"T_230ac_row8_col10\" class=\"data row8 col10\" ></td>\n",
       "      <td id=\"T_230ac_row8_col11\" class=\"data row8 col11\" ></td>\n",
       "    </tr>\n",
       "    <tr>\n",
       "      <th id=\"T_230ac_level0_row9\" class=\"row_heading level0 row9\" >2017-10</th>\n",
       "      <td id=\"T_230ac_row9_col0\" class=\"data row9 col0\" >100.00%</td>\n",
       "      <td id=\"T_230ac_row9_col1\" class=\"data row9 col1\" >0.70%</td>\n",
       "      <td id=\"T_230ac_row9_col2\" class=\"data row9 col2\" >0.30%</td>\n",
       "      <td id=\"T_230ac_row9_col3\" class=\"data row9 col3\" ></td>\n",
       "      <td id=\"T_230ac_row9_col4\" class=\"data row9 col4\" ></td>\n",
       "      <td id=\"T_230ac_row9_col5\" class=\"data row9 col5\" ></td>\n",
       "      <td id=\"T_230ac_row9_col6\" class=\"data row9 col6\" ></td>\n",
       "      <td id=\"T_230ac_row9_col7\" class=\"data row9 col7\" ></td>\n",
       "      <td id=\"T_230ac_row9_col8\" class=\"data row9 col8\" ></td>\n",
       "      <td id=\"T_230ac_row9_col9\" class=\"data row9 col9\" ></td>\n",
       "      <td id=\"T_230ac_row9_col10\" class=\"data row9 col10\" ></td>\n",
       "      <td id=\"T_230ac_row9_col11\" class=\"data row9 col11\" ></td>\n",
       "    </tr>\n",
       "    <tr>\n",
       "      <th id=\"T_230ac_level0_row10\" class=\"row_heading level0 row10\" >2017-11</th>\n",
       "      <td id=\"T_230ac_row10_col0\" class=\"data row10 col0\" >100.00%</td>\n",
       "      <td id=\"T_230ac_row10_col1\" class=\"data row10 col1\" >0.60%</td>\n",
       "      <td id=\"T_230ac_row10_col2\" class=\"data row10 col2\" ></td>\n",
       "      <td id=\"T_230ac_row10_col3\" class=\"data row10 col3\" ></td>\n",
       "      <td id=\"T_230ac_row10_col4\" class=\"data row10 col4\" ></td>\n",
       "      <td id=\"T_230ac_row10_col5\" class=\"data row10 col5\" ></td>\n",
       "      <td id=\"T_230ac_row10_col6\" class=\"data row10 col6\" ></td>\n",
       "      <td id=\"T_230ac_row10_col7\" class=\"data row10 col7\" ></td>\n",
       "      <td id=\"T_230ac_row10_col8\" class=\"data row10 col8\" ></td>\n",
       "      <td id=\"T_230ac_row10_col9\" class=\"data row10 col9\" ></td>\n",
       "      <td id=\"T_230ac_row10_col10\" class=\"data row10 col10\" ></td>\n",
       "      <td id=\"T_230ac_row10_col11\" class=\"data row10 col11\" ></td>\n",
       "    </tr>\n",
       "    <tr>\n",
       "      <th id=\"T_230ac_level0_row11\" class=\"row_heading level0 row11\" >2017-12</th>\n",
       "      <td id=\"T_230ac_row11_col0\" class=\"data row11 col0\" >100.00%</td>\n",
       "      <td id=\"T_230ac_row11_col1\" class=\"data row11 col1\" ></td>\n",
       "      <td id=\"T_230ac_row11_col2\" class=\"data row11 col2\" ></td>\n",
       "      <td id=\"T_230ac_row11_col3\" class=\"data row11 col3\" ></td>\n",
       "      <td id=\"T_230ac_row11_col4\" class=\"data row11 col4\" ></td>\n",
       "      <td id=\"T_230ac_row11_col5\" class=\"data row11 col5\" ></td>\n",
       "      <td id=\"T_230ac_row11_col6\" class=\"data row11 col6\" ></td>\n",
       "      <td id=\"T_230ac_row11_col7\" class=\"data row11 col7\" ></td>\n",
       "      <td id=\"T_230ac_row11_col8\" class=\"data row11 col8\" ></td>\n",
       "      <td id=\"T_230ac_row11_col9\" class=\"data row11 col9\" ></td>\n",
       "      <td id=\"T_230ac_row11_col10\" class=\"data row11 col10\" ></td>\n",
       "      <td id=\"T_230ac_row11_col11\" class=\"data row11 col11\" ></td>\n",
       "    </tr>\n",
       "  </tbody>\n",
       "</table>\n"
      ],
      "text/plain": [
       "<pandas.io.formats.style.Styler at 0x7f1eb5c57790>"
      ]
     },
     "execution_count": 94,
     "metadata": {},
     "output_type": "execute_result"
    }
   ],
   "source": [
    "# Готовим df к когортному анализу (оставляем только нужные столбцы)\n",
    "df_to_cohort = true_orders_df.query('year==2017').copy()\n",
    "# Преобразуем дату заказа в формат год-месяц-день\n",
    "df_to_cohort['date']=pd.to_datetime(df_to_cohort['order_purchase_timestamp'].dt.strftime('%Y-%m-%d'))\n",
    "df_to_cohort['order_month']=pd.to_datetime(df_to_cohort['order_purchase_timestamp']).dt.to_period('M')\n",
    "df_to_cohort['cohort']= (df_to_cohort.groupby('customer_unique_id')[\"date\"].transform('min')).dt.to_period('M')\n",
    "df_to_cohort = df_to_cohort[['order_id','order_month','customer_unique_id','cohort']]\n",
    "df_to_cohort = df_to_cohort.groupby(['cohort', 'order_month']).agg(n_customers=('customer_unique_id', 'nunique')).reset_index(drop=False)\n",
    "df_to_cohort['period_number'] = (df_to_cohort.order_month - df_to_cohort.cohort).apply(attrgetter('n'))\n",
    "cohort_pivot = df_to_cohort.pivot_table(index = 'cohort',\n",
    "                                     columns = 'period_number',\n",
    "                                     values = 'n_customers')\n",
    "cohort_size = cohort_pivot.iloc[:,0]\n",
    "retention = cohort_pivot.divide(cohort_size , axis = 0).round(3)\n",
    "\n",
    "ur_style = (retention\n",
    "            .style\n",
    "            .set_caption('Задача 5: Когортный анализ пользователей')  # добавляем подпись\n",
    "            .background_gradient(cmap='Reds')  # раскрашиваем ячейки по столбцам\n",
    "            .highlight_null('white')  # делаем белый фон для значений NaN\n",
    "            .format(\"{:.2%}\", na_rep=\"\"))  # числа форматируем как проценты, NaN заменяем на пустоту\n",
    "ur_style"
   ]
  },
  {
   "cell_type": "code",
   "execution_count": 97,
   "metadata": {},
   "outputs": [
    {
     "data": {
      "text/plain": [
       "cohort\n",
       "2017-05    0.005\n",
       "2017-09    0.005\n",
       "Freq: M, Name: 2, dtype: float64"
      ]
     },
     "execution_count": 97,
     "metadata": {},
     "output_type": "execute_result"
    }
   ],
   "source": [
    "# Находим когорту с самым высоким retention на 3й месяц\n",
    "maximum = retention[2].max()\n",
    "retention.loc[retention[2]==maximum][2]"
   ]
  },
  {
   "attachments": {},
   "cell_type": "markdown",
   "metadata": {},
   "source": [
    "## 6. RFM-сегментация пользователей \n",
    "R - время от последней покупки пользователя до текущей даты, \n",
    "F - суммарное количество покупок у пользователя за всё время, M - сумма покупок за всё время. Подробно опиши, как ты создавал кластеры. Для каждого RFM-сегмента построй границы метрик recency, frequency и monetary для интерпретации этих кластеров. Пример такого описания: RFM-сегмент 132 (recency=1, frequency=3, monetary=2) имеет границы метрик recency от 130 до 500 дней, frequency от 2 до 5 заказов в неделю, monetary от 1780 до 3560 рублей в неделю."
   ]
  },
  {
   "cell_type": "code",
   "execution_count": null,
   "metadata": {},
   "outputs": [],
   "source": [
    "sum_f_orders=items_df.groupby('order_id',as_index=False).agg({'price':'sum'})\n",
    "# Получаем df c суммами по заказам\n",
    "# Пристыковываем суммы по заказам к основной df\n",
    "all_orders = pd.merge(all_orders,sum_f_orders[['order_id','price']],how='left',on='order_id')"
   ]
  },
  {
   "cell_type": "code",
   "execution_count": null,
   "metadata": {
    "scrolled": true
   },
   "outputs": [],
   "source": [
    "# Оставляем только нужные колонки из df\n",
    "orders_to_rfm = all_orders[['order_id','customer_unique_id','order_purchase_timestamp','price']].copy()\n",
    "# Создаем колонку последней даты, относительно нее будем считать Recency\n",
    "now = orders_to_rfm.order_purchase_timestamp.max()+timedelta(days=1)\n",
    "# Для каждого заказа считаем кол-во прошедших дней\n",
    "orders_to_rfm['days_since_order'] = orders_to_rfm['order_purchase_timestamp'].apply(lambda x: (now - x).days)\n",
    "# Группируем df по клиенту и рассяитываем r-f-m\n",
    "# Recency - время от последней покупки до текущей даты (now)\n",
    "# Frequency - кол-во заказов на пользователя\n",
    "# Monetary - сумма от всех заказов клиента\n",
    "rfm_df = orders_to_rfm.groupby('customer_unique_id', as_index=False)\\\n",
    "                        .agg(recency=('days_since_order','min'),frequency = ('order_id','nunique'),monetary = ('price','sum'))\\\n",
    "                        .reset_index()\n",
    "# Для разделения в Recency и Monetary используем qcut , чтобы разделить базовые данные на интервалы равного размера. Эта Функция определяет интервалы с использованием\n",
    "# процентилей на основе распределения данных, а не фактических числовых границ интервалов."
   ]
  },
  {
   "cell_type": "code",
   "execution_count": null,
   "metadata": {},
   "outputs": [],
   "source": [
    "# Для разделения в Recency и Monetary используем qcut , чтобы разделить базовые данные на интервалы равного размера. Эта Функция определяет интервалы с использованием\n",
    "# процентилей на основе распределения данных, а не фактических числовых границ интервалов.\n",
    "\n",
    "labels_r = ['0-143','144-228','229-318','319-434','более 434']\n",
    "rfm_df['q_r']=pd.qcut(rfm_df['recency'], q=5, precision=0,labels = labels_r)\n",
    "\n",
    "labels_m = ['0-39','40-69','70-110','111-180','более 180']\n",
    "rfm_df['q_m']= pd.qcut(rfm_df['monetary'], q=5, precision=0,labels = labels_m)\n",
    "\n",
    "# # Для разделения в Frequency будем использовать метод pd.cut с пользовательскими bins, потому что данные нельзя поделить на \n",
    "# # интервалы равного размера.\n",
    "labels_f = ['1', '2','3', '5', 'более 5']\n",
    "cut_bins = [0, 1, 2, 3, 5, 15]\n",
    "rfm_df['q_f'] = pd.cut(rfm_df['frequency'], bins=cut_bins, labels = labels_f)"
   ]
  },
  {
   "cell_type": "code",
   "execution_count": null,
   "metadata": {},
   "outputs": [
    {
     "data": {
      "text/html": [
       "<div>\n",
       "<style scoped>\n",
       "    .dataframe tbody tr th:only-of-type {\n",
       "        vertical-align: middle;\n",
       "    }\n",
       "\n",
       "    .dataframe tbody tr th {\n",
       "        vertical-align: top;\n",
       "    }\n",
       "\n",
       "    .dataframe thead th {\n",
       "        text-align: right;\n",
       "    }\n",
       "</style>\n",
       "<table border=\"1\" class=\"dataframe\">\n",
       "  <thead>\n",
       "    <tr style=\"text-align: right;\">\n",
       "      <th></th>\n",
       "      <th>index</th>\n",
       "      <th>customer_unique_id</th>\n",
       "      <th>recency</th>\n",
       "      <th>frequency</th>\n",
       "      <th>monetary</th>\n",
       "      <th>q_r</th>\n",
       "      <th>q_m</th>\n",
       "      <th>q_f</th>\n",
       "      <th>R</th>\n",
       "      <th>M</th>\n",
       "      <th>F</th>\n",
       "      <th>RFM_score</th>\n",
       "    </tr>\n",
       "  </thead>\n",
       "  <tbody>\n",
       "    <tr>\n",
       "      <th>0</th>\n",
       "      <td>0</td>\n",
       "      <td>0000366f3b9a7992bf8c76cfdf3221e2</td>\n",
       "      <td>161</td>\n",
       "      <td>1</td>\n",
       "      <td>129.90</td>\n",
       "      <td>144-228</td>\n",
       "      <td>111-180</td>\n",
       "      <td>1</td>\n",
       "      <td>4</td>\n",
       "      <td>4</td>\n",
       "      <td>1</td>\n",
       "      <td>414</td>\n",
       "    </tr>\n",
       "    <tr>\n",
       "      <th>1</th>\n",
       "      <td>1</td>\n",
       "      <td>0000b849f77a49e4a4ce2b2a4ca5be3f</td>\n",
       "      <td>164</td>\n",
       "      <td>1</td>\n",
       "      <td>18.90</td>\n",
       "      <td>144-228</td>\n",
       "      <td>0-39</td>\n",
       "      <td>1</td>\n",
       "      <td>4</td>\n",
       "      <td>1</td>\n",
       "      <td>1</td>\n",
       "      <td>411</td>\n",
       "    </tr>\n",
       "    <tr>\n",
       "      <th>2</th>\n",
       "      <td>2</td>\n",
       "      <td>0000f46a3911fa3c0805444483337064</td>\n",
       "      <td>586</td>\n",
       "      <td>1</td>\n",
       "      <td>69.00</td>\n",
       "      <td>более 434</td>\n",
       "      <td>40-69</td>\n",
       "      <td>1</td>\n",
       "      <td>1</td>\n",
       "      <td>2</td>\n",
       "      <td>1</td>\n",
       "      <td>112</td>\n",
       "    </tr>\n",
       "    <tr>\n",
       "      <th>3</th>\n",
       "      <td>3</td>\n",
       "      <td>0000f6ccb0745a6a4b88665a16c9f078</td>\n",
       "      <td>370</td>\n",
       "      <td>1</td>\n",
       "      <td>25.99</td>\n",
       "      <td>319-434</td>\n",
       "      <td>0-39</td>\n",
       "      <td>1</td>\n",
       "      <td>2</td>\n",
       "      <td>1</td>\n",
       "      <td>1</td>\n",
       "      <td>211</td>\n",
       "    </tr>\n",
       "    <tr>\n",
       "      <th>4</th>\n",
       "      <td>4</td>\n",
       "      <td>0004aac84e0df4da2b147fca70cf8255</td>\n",
       "      <td>337</td>\n",
       "      <td>1</td>\n",
       "      <td>180.00</td>\n",
       "      <td>319-434</td>\n",
       "      <td>более 180</td>\n",
       "      <td>1</td>\n",
       "      <td>2</td>\n",
       "      <td>5</td>\n",
       "      <td>1</td>\n",
       "      <td>215</td>\n",
       "    </tr>\n",
       "  </tbody>\n",
       "</table>\n",
       "</div>"
      ],
      "text/plain": [
       "   index                customer_unique_id  recency  frequency  monetary  \\\n",
       "0      0  0000366f3b9a7992bf8c76cfdf3221e2      161          1    129.90   \n",
       "1      1  0000b849f77a49e4a4ce2b2a4ca5be3f      164          1     18.90   \n",
       "2      2  0000f46a3911fa3c0805444483337064      586          1     69.00   \n",
       "3      3  0000f6ccb0745a6a4b88665a16c9f078      370          1     25.99   \n",
       "4      4  0004aac84e0df4da2b147fca70cf8255      337          1    180.00   \n",
       "\n",
       "         q_r        q_m q_f  R  M  F RFM_score  \n",
       "0    144-228    111-180   1  4  4  1       414  \n",
       "1    144-228       0-39   1  4  1  1       411  \n",
       "2  более 434      40-69   1  1  2  1       112  \n",
       "3    319-434       0-39   1  2  1  1       211  \n",
       "4    319-434  более 180   1  2  5  1       215  "
      ]
     },
     "execution_count": 33,
     "metadata": {},
     "output_type": "execute_result"
    }
   ],
   "source": [
    "# Теперь присвоим ранги нашим группам по (q_r,q_m,q_f) \n",
    "# от 1 до 4. Чем меньше значение Recency, тем лучше, тогда как более высокие значения Frequency и Monetary лучше. \n",
    "rfm_df['R'] = np.where(rfm_df['q_r']== '0-143','5',\n",
    "                       np.where(rfm_df['q_r']=='144-228',\n",
    "                        '4',\n",
    "                            np.where(rfm_df['q_r']=='229-318',\n",
    "                            '3',\n",
    "                                np.where(rfm_df['q_r']=='319-434','2',\n",
    "                                         np.where(rfm_df['q_r']=='более 434','1','False'))))\n",
    "                      \n",
    "                      )\n",
    "rfm_df['M'] = np.where(rfm_df['q_m']== '0-39','1',\n",
    "                       np.where(rfm_df['q_m']=='40-69',\n",
    "                        '2',\n",
    "                            np.where(rfm_df['q_m']=='70-110',\n",
    "                            '3',\n",
    "                                np.where(rfm_df['q_m']=='111-180','4',\n",
    "                                         np.where(rfm_df['q_m']=='более 180','5','False'))))\n",
    "                      \n",
    "                      )\n",
    "rfm_df['F'] = np.where(rfm_df['q_f']== '1','1',\n",
    "                       np.where(rfm_df['q_f']=='2',\n",
    "                        '2',\n",
    "                            np.where(rfm_df['q_f']=='3',\n",
    "                            '3',\n",
    "                                np.where(rfm_df['q_f']=='5','4',\n",
    "                                         np.where(rfm_df['q_f']=='более 5','5',\n",
    "                                         'False'))))\n",
    "                      \n",
    "                      )\n",
    "# Создаем колонку общего рейтинга\n",
    "rfm_df['RFM_score']= rfm_df.R.astype('str') + rfm_df.F.astype('str') + rfm_df.M.astype('str')\n",
    "\n",
    "rfm_df.head(5)"
   ]
  },
  {
   "cell_type": "code",
   "execution_count": null,
   "metadata": {},
   "outputs": [
    {
     "data": {
      "text/html": [
       "<div>\n",
       "<style scoped>\n",
       "    .dataframe tbody tr th:only-of-type {\n",
       "        vertical-align: middle;\n",
       "    }\n",
       "\n",
       "    .dataframe tbody tr th {\n",
       "        vertical-align: top;\n",
       "    }\n",
       "\n",
       "    .dataframe thead th {\n",
       "        text-align: right;\n",
       "    }\n",
       "</style>\n",
       "<table border=\"1\" class=\"dataframe\">\n",
       "  <thead>\n",
       "    <tr style=\"text-align: right;\">\n",
       "      <th></th>\n",
       "      <th>index</th>\n",
       "      <th>customer_unique_id</th>\n",
       "      <th>recency</th>\n",
       "      <th>frequency</th>\n",
       "      <th>monetary</th>\n",
       "      <th>q_r</th>\n",
       "      <th>q_m</th>\n",
       "      <th>q_f</th>\n",
       "      <th>R</th>\n",
       "      <th>M</th>\n",
       "      <th>F</th>\n",
       "      <th>RFM_score</th>\n",
       "      <th>Segment</th>\n",
       "    </tr>\n",
       "  </thead>\n",
       "  <tbody>\n",
       "    <tr>\n",
       "      <th>0</th>\n",
       "      <td>0</td>\n",
       "      <td>0000366f3b9a7992bf8c76cfdf3221e2</td>\n",
       "      <td>161</td>\n",
       "      <td>1</td>\n",
       "      <td>129.90</td>\n",
       "      <td>144-228</td>\n",
       "      <td>111-180</td>\n",
       "      <td>1</td>\n",
       "      <td>4</td>\n",
       "      <td>4</td>\n",
       "      <td>1</td>\n",
       "      <td>414</td>\n",
       "      <td>promising</td>\n",
       "    </tr>\n",
       "    <tr>\n",
       "      <th>1</th>\n",
       "      <td>1</td>\n",
       "      <td>0000b849f77a49e4a4ce2b2a4ca5be3f</td>\n",
       "      <td>164</td>\n",
       "      <td>1</td>\n",
       "      <td>18.90</td>\n",
       "      <td>144-228</td>\n",
       "      <td>0-39</td>\n",
       "      <td>1</td>\n",
       "      <td>4</td>\n",
       "      <td>1</td>\n",
       "      <td>1</td>\n",
       "      <td>411</td>\n",
       "      <td>promising</td>\n",
       "    </tr>\n",
       "    <tr>\n",
       "      <th>2</th>\n",
       "      <td>2</td>\n",
       "      <td>0000f46a3911fa3c0805444483337064</td>\n",
       "      <td>586</td>\n",
       "      <td>1</td>\n",
       "      <td>69.00</td>\n",
       "      <td>более 434</td>\n",
       "      <td>40-69</td>\n",
       "      <td>1</td>\n",
       "      <td>1</td>\n",
       "      <td>2</td>\n",
       "      <td>1</td>\n",
       "      <td>112</td>\n",
       "      <td>hibernating</td>\n",
       "    </tr>\n",
       "    <tr>\n",
       "      <th>3</th>\n",
       "      <td>3</td>\n",
       "      <td>0000f6ccb0745a6a4b88665a16c9f078</td>\n",
       "      <td>370</td>\n",
       "      <td>1</td>\n",
       "      <td>25.99</td>\n",
       "      <td>319-434</td>\n",
       "      <td>0-39</td>\n",
       "      <td>1</td>\n",
       "      <td>2</td>\n",
       "      <td>1</td>\n",
       "      <td>1</td>\n",
       "      <td>211</td>\n",
       "      <td>hibernating</td>\n",
       "    </tr>\n",
       "    <tr>\n",
       "      <th>4</th>\n",
       "      <td>4</td>\n",
       "      <td>0004aac84e0df4da2b147fca70cf8255</td>\n",
       "      <td>337</td>\n",
       "      <td>1</td>\n",
       "      <td>180.00</td>\n",
       "      <td>319-434</td>\n",
       "      <td>более 180</td>\n",
       "      <td>1</td>\n",
       "      <td>2</td>\n",
       "      <td>5</td>\n",
       "      <td>1</td>\n",
       "      <td>215</td>\n",
       "      <td>hibernating</td>\n",
       "    </tr>\n",
       "  </tbody>\n",
       "</table>\n",
       "</div>"
      ],
      "text/plain": [
       "   index                customer_unique_id  recency  frequency  monetary  \\\n",
       "0      0  0000366f3b9a7992bf8c76cfdf3221e2      161          1    129.90   \n",
       "1      1  0000b849f77a49e4a4ce2b2a4ca5be3f      164          1     18.90   \n",
       "2      2  0000f46a3911fa3c0805444483337064      586          1     69.00   \n",
       "3      3  0000f6ccb0745a6a4b88665a16c9f078      370          1     25.99   \n",
       "4      4  0004aac84e0df4da2b147fca70cf8255      337          1    180.00   \n",
       "\n",
       "         q_r        q_m q_f  R  M  F RFM_score      Segment  \n",
       "0    144-228    111-180   1  4  4  1       414    promising  \n",
       "1    144-228       0-39   1  4  1  1       411    promising  \n",
       "2  более 434      40-69   1  1  2  1       112  hibernating  \n",
       "3    319-434       0-39   1  2  1  1       211  hibernating  \n",
       "4    319-434  более 180   1  2  5  1       215  hibernating  "
      ]
     },
     "execution_count": 34,
     "metadata": {},
     "output_type": "execute_result"
    }
   ],
   "source": [
    "# Создадим справочник с описанием групп клиентов на основе R и F рейтинга. Названия сегментов взято \n",
    "# из https://guillaume-martin.github.io/rfm-segmentation-with-python.html\n",
    "segt_map = {\n",
    "    r'[1-2][1-2]': 'hibernating',\n",
    "    r'[1-2][3-4]': 'at risk',\n",
    "    r'[1-2]5': 'can\\'t loose',\n",
    "    r'3[1-2]': 'about to sleep',\n",
    "    r'33': 'need attention',\n",
    "    r'[3-4][4-5]': 'loyal customers',\n",
    "    r'41': 'promising',\n",
    "    r'51': 'new customers',\n",
    "    r'[4-5][2-3]': 'potential loyalists',\n",
    "    r'5[4-5]': 'champions'\n",
    "}\n",
    "\n",
    "rfm_df['Segment'] = rfm_df['R'].map(str) + rfm_df['F'].map(str)\n",
    "rfm_df['Segment'] = rfm_df['Segment'].replace(segt_map, regex=True)\n",
    "rfm_df.head()"
   ]
  },
  {
   "cell_type": "code",
   "execution_count": null,
   "metadata": {},
   "outputs": [
    {
     "data": {
      "image/png": "[encoded data removed]",
      "text/plain": [
       "<Figure size 2000x700 with 1 Axes>"
      ]
     },
     "metadata": {},
     "output_type": "display_data"
    }
   ],
   "source": [
    "# Визуализируем количество клиентов по сегментам\n",
    "segments_counts = rfm_df['Segment'].value_counts().sort_values(ascending=True)\n",
    "\n",
    "fig, ax = plt.subplots()\n",
    "\n",
    "bars = ax.barh(range(len(segments_counts)),\n",
    "              segments_counts,\n",
    "              color='silver')\n",
    "ax.set_frame_on(False)\n",
    "ax.tick_params(left=False,\n",
    "               bottom=False,\n",
    "               labelbottom=False)\n",
    "ax.set_yticks(range(len(segments_counts)))\n",
    "ax.set_yticklabels(segments_counts.index)\n",
    "\n",
    "for i, bar in enumerate(bars):\n",
    "        value = bar.get_width()\n",
    "        if segments_counts.index[i] in ['champions', 'loyal customers']:\n",
    "            bar.set_color('firebrick')\n",
    "        ax.text(value,\n",
    "                bar.get_y() + bar.get_height()/2,\n",
    "                '{:,} ({:}%)'.format(int(value),\n",
    "                                   int(value*100/segments_counts.sum())),\n",
    "                va='center',\n",
    "                ha='left'\n",
    "               )\n",
    "\n",
    "plt.show()"
   ]
  }
 ],
 "metadata": {
  "kernelspec": {
   "display_name": ".venv",
   "language": "python",
   "name": "python3"
  },
  "language_info": {
   "codemirror_mode": {
    "name": "ipython",
    "version": 3
   },
   "file_extension": ".py",
   "mimetype": "text/x-python",
   "name": "python",
   "nbconvert_exporter": "python",
   "pygments_lexer": "ipython3",
   "version": "3.10.6"
  },
  "vscode": {
   "interpreter": {
    "hash": "08dbfc2745e981463c2812c176835dcef1633909c28835b6fad3042a119fc42e"
   }
  }
 },
 "nbformat": 4,
 "nbformat_minor": 4
}
